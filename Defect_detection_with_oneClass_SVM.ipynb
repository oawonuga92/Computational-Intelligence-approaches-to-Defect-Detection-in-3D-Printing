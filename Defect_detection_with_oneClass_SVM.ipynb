{
 "cells": [
  {
   "cell_type": "code",
   "execution_count": 1,
   "metadata": {
    "colab": {
     "background_save": true
    },
    "id": "yubchrBmP0pX"
   },
   "outputs": [],
   "source": [
    "#!pip install numpy\n",
    "#!pip install pandas\n",
    "#!pip install matplotlib\n",
    "#!pip install scipy\n",
    "#!pip install plotly\n",
    "#!pip install scikit-learn\n",
    "#!pip install scikit-learn==0.24.2\n",
    "#!pip install hnswlib\n",
    "#!pip install annoy\n",
    "#!pip install seaborn\n",
    "#!pip install scalecast"
   ]
  },
  {
   "cell_type": "code",
   "execution_count": 2,
   "metadata": {},
   "outputs": [],
   "source": [
    "#conda list"
   ]
  },
  {
   "cell_type": "code",
   "execution_count": 3,
   "metadata": {
    "id": "DiBNmSWjy6mS"
   },
   "outputs": [
    {
     "name": "stderr",
     "output_type": "stream",
     "text": [
      "/home/sean/anaconda3/lib/python3.8/site-packages/pandas/core/computation/expressions.py:20: UserWarning: Pandas requires version '2.7.3' or newer of 'numexpr' (version '2.7.1' currently installed).\n",
      "  from pandas.core.computation.check import NUMEXPR_INSTALLED\n"
     ]
    }
   ],
   "source": [
    "import numpy as np\n",
    "import pandas as pd\n",
    "import matplotlib.pyplot as plt\n",
    "import seaborn as sns\n",
    "from scipy.signal import butter, filtfilt\n",
    "from mpl_toolkits.mplot3d import Axes3D\n",
    "from scipy import signal\n",
    "\n",
    "import json\n",
    "import pandas as pd\n",
    "import numpy as np\n",
    "import matplotlib.pyplot as plt\n",
    "import datetime as dt\n",
    "import plotly.express as px\n",
    "import plotly.graph_objs as go\n",
    "from matplotlib import dates as mpl_dates\n",
    "from matplotlib import pyplot as plt"
   ]
  },
  {
   "cell_type": "code",
   "execution_count": 4,
   "metadata": {},
   "outputs": [],
   "source": [
    "from scalecast.Forecaster import Forecaster\n",
    "from scalecast.AnomalyDetector import AnomalyDetector\n",
    "from scalecast.SeriesTransformer import SeriesTransformer"
   ]
  },
  {
   "cell_type": "code",
   "execution_count": 5,
   "metadata": {
    "id": "jjLNFTZnMhrS"
   },
   "outputs": [],
   "source": [
    "df = pd.read_csv(\"3D_Printing_data.csv\")"
   ]
  },
  {
   "cell_type": "code",
   "execution_count": 6,
   "metadata": {
    "colab": {
     "base_uri": "https://localhost:8080/",
     "height": 300
    },
    "id": "JGkY5tUpZvZ2",
    "outputId": "02a8dbef-ffad-4f89-8b26-14052f0bdece"
   },
   "outputs": [
    {
     "data": {
      "text/html": [
       "<div>\n",
       "<style scoped>\n",
       "    .dataframe tbody tr th:only-of-type {\n",
       "        vertical-align: middle;\n",
       "    }\n",
       "\n",
       "    .dataframe tbody tr th {\n",
       "        vertical-align: top;\n",
       "    }\n",
       "\n",
       "    .dataframe thead th {\n",
       "        text-align: right;\n",
       "    }\n",
       "</style>\n",
       "<table border=\"1\" class=\"dataframe\">\n",
       "  <thead>\n",
       "    <tr style=\"text-align: right;\">\n",
       "      <th></th>\n",
       "      <th>Temp</th>\n",
       "      <th>RelativeHumidity</th>\n",
       "    </tr>\n",
       "  </thead>\n",
       "  <tbody>\n",
       "    <tr>\n",
       "      <th>count</th>\n",
       "      <td>1.007983e+06</td>\n",
       "      <td>1.075381e+06</td>\n",
       "    </tr>\n",
       "    <tr>\n",
       "      <th>mean</th>\n",
       "      <td>2.020231e+01</td>\n",
       "      <td>3.023567e+01</td>\n",
       "    </tr>\n",
       "    <tr>\n",
       "      <th>std</th>\n",
       "      <td>3.251303e+00</td>\n",
       "      <td>3.392731e+00</td>\n",
       "    </tr>\n",
       "    <tr>\n",
       "      <th>min</th>\n",
       "      <td>1.087500e+01</td>\n",
       "      <td>1.861243e+01</td>\n",
       "    </tr>\n",
       "    <tr>\n",
       "      <th>25%</th>\n",
       "      <td>1.856250e+01</td>\n",
       "      <td>2.808051e+01</td>\n",
       "    </tr>\n",
       "    <tr>\n",
       "      <th>50%</th>\n",
       "      <td>2.037500e+01</td>\n",
       "      <td>3.010992e+01</td>\n",
       "    </tr>\n",
       "    <tr>\n",
       "      <th>75%</th>\n",
       "      <td>2.218750e+01</td>\n",
       "      <td>3.225378e+01</td>\n",
       "    </tr>\n",
       "    <tr>\n",
       "      <th>max</th>\n",
       "      <td>3.293750e+01</td>\n",
       "      <td>4.845099e+01</td>\n",
       "    </tr>\n",
       "  </tbody>\n",
       "</table>\n",
       "</div>"
      ],
      "text/plain": [
       "               Temp  RelativeHumidity\n",
       "count  1.007983e+06      1.075381e+06\n",
       "mean   2.020231e+01      3.023567e+01\n",
       "std    3.251303e+00      3.392731e+00\n",
       "min    1.087500e+01      1.861243e+01\n",
       "25%    1.856250e+01      2.808051e+01\n",
       "50%    2.037500e+01      3.010992e+01\n",
       "75%    2.218750e+01      3.225378e+01\n",
       "max    3.293750e+01      4.845099e+01"
      ]
     },
     "execution_count": 6,
     "metadata": {},
     "output_type": "execute_result"
    }
   ],
   "source": [
    "df.describe()"
   ]
  },
  {
   "cell_type": "code",
   "execution_count": 7,
   "metadata": {
    "colab": {
     "base_uri": "https://localhost:8080/"
    },
    "id": "8ITC0jSlavax",
    "outputId": "e0cf0172-3bbb-4ded-e9d6-c3987caebb2c"
   },
   "outputs": [
    {
     "name": "stdout",
     "output_type": "stream",
     "text": [
      "<class 'pandas.core.frame.DataFrame'>\n",
      "RangeIndex: 1075381 entries, 0 to 1075380\n",
      "Data columns (total 4 columns):\n",
      " #   Column            Non-Null Count    Dtype  \n",
      "---  ------            --------------    -----  \n",
      " 0   ID                1075381 non-null  object \n",
      " 1   ts                1075381 non-null  object \n",
      " 2   Temp              1007983 non-null  float64\n",
      " 3   RelativeHumidity  1075381 non-null  float64\n",
      "dtypes: float64(2), object(2)\n",
      "memory usage: 32.8+ MB\n"
     ]
    }
   ],
   "source": [
    "df.info()"
   ]
  },
  {
   "cell_type": "code",
   "execution_count": 8,
   "metadata": {
    "colab": {
     "base_uri": "https://localhost:8080/",
     "height": 209
    },
    "id": "hTlKZRcn_t4j",
    "outputId": "725e4138-b559-4d4f-afef-03f0563920a2"
   },
   "outputs": [
    {
     "data": {
      "text/plain": [
       "ID                      0\n",
       "ts                      0\n",
       "Temp                67398\n",
       "RelativeHumidity        0\n",
       "dtype: int64"
      ]
     },
     "execution_count": 8,
     "metadata": {},
     "output_type": "execute_result"
    }
   ],
   "source": [
    "df.isna().sum()"
   ]
  },
  {
   "cell_type": "code",
   "execution_count": 9,
   "metadata": {
    "id": "Q1j67s91_t4j"
   },
   "outputs": [],
   "source": [
    "df.rename(columns={'ts': 'time'}, inplace=True)\n",
    "df.rename(columns={'Temp': 'Temperature'}, inplace=True)"
   ]
  },
  {
   "cell_type": "code",
   "execution_count": 10,
   "metadata": {
    "id": "wUSNbCQl_t4k"
   },
   "outputs": [],
   "source": [
    "df = df.sort_values(by='time', ascending=True)\n",
    "\n",
    "df = df.head(600000)\n",
    "\n",
    "df = df.reset_index(drop=True)"
   ]
  },
  {
   "cell_type": "code",
   "execution_count": 11,
   "metadata": {
    "id": "ZBW28SNC_t4k"
   },
   "outputs": [],
   "source": [
    "df['time'] = pd.to_datetime(df['time'])\n",
    "df['time'] = df['time'].dt.tz_localize(None)\n",
    "df = df.drop(columns=['ID'],axis=1)"
   ]
  },
  {
   "cell_type": "code",
   "execution_count": 12,
   "metadata": {
    "colab": {
     "base_uri": "https://localhost:8080/",
     "height": 423
    },
    "id": "LVRnsh1G_t4k",
    "outputId": "0577bec7-3029-41d9-ab8e-a4516742e5ab"
   },
   "outputs": [
    {
     "data": {
      "text/html": [
       "<div>\n",
       "<style scoped>\n",
       "    .dataframe tbody tr th:only-of-type {\n",
       "        vertical-align: middle;\n",
       "    }\n",
       "\n",
       "    .dataframe tbody tr th {\n",
       "        vertical-align: top;\n",
       "    }\n",
       "\n",
       "    .dataframe thead th {\n",
       "        text-align: right;\n",
       "    }\n",
       "</style>\n",
       "<table border=\"1\" class=\"dataframe\">\n",
       "  <thead>\n",
       "    <tr style=\"text-align: right;\">\n",
       "      <th></th>\n",
       "      <th>time</th>\n",
       "      <th>Temperature</th>\n",
       "      <th>RelativeHumidity</th>\n",
       "    </tr>\n",
       "  </thead>\n",
       "  <tbody>\n",
       "    <tr>\n",
       "      <th>0</th>\n",
       "      <td>2024-02-16 17:44:30</td>\n",
       "      <td>21.1250</td>\n",
       "      <td>48.450989</td>\n",
       "    </tr>\n",
       "    <tr>\n",
       "      <th>1</th>\n",
       "      <td>2024-02-16 17:44:35</td>\n",
       "      <td>21.2500</td>\n",
       "      <td>46.909851</td>\n",
       "    </tr>\n",
       "    <tr>\n",
       "      <th>2</th>\n",
       "      <td>2024-02-16 17:44:40</td>\n",
       "      <td>21.2500</td>\n",
       "      <td>45.925659</td>\n",
       "    </tr>\n",
       "    <tr>\n",
       "      <th>3</th>\n",
       "      <td>2024-02-16 17:44:45</td>\n",
       "      <td>21.2500</td>\n",
       "      <td>45.559448</td>\n",
       "    </tr>\n",
       "    <tr>\n",
       "      <th>4</th>\n",
       "      <td>2024-02-16 17:44:50</td>\n",
       "      <td>21.2500</td>\n",
       "      <td>45.177979</td>\n",
       "    </tr>\n",
       "    <tr>\n",
       "      <th>5</th>\n",
       "      <td>2024-02-16 17:44:55</td>\n",
       "      <td>21.1875</td>\n",
       "      <td>44.697327</td>\n",
       "    </tr>\n",
       "    <tr>\n",
       "      <th>6</th>\n",
       "      <td>2024-02-16 17:45:00</td>\n",
       "      <td>21.1875</td>\n",
       "      <td>44.270081</td>\n",
       "    </tr>\n",
       "    <tr>\n",
       "      <th>7</th>\n",
       "      <td>2024-02-16 17:45:05</td>\n",
       "      <td>21.1875</td>\n",
       "      <td>44.003052</td>\n",
       "    </tr>\n",
       "    <tr>\n",
       "      <th>8</th>\n",
       "      <td>2024-02-16 17:45:10</td>\n",
       "      <td>21.1875</td>\n",
       "      <td>43.728394</td>\n",
       "    </tr>\n",
       "    <tr>\n",
       "      <th>9</th>\n",
       "      <td>2024-02-16 17:45:15</td>\n",
       "      <td>21.1875</td>\n",
       "      <td>43.537659</td>\n",
       "    </tr>\n",
       "    <tr>\n",
       "      <th>10</th>\n",
       "      <td>2024-02-16 17:45:20</td>\n",
       "      <td>21.1875</td>\n",
       "      <td>43.354553</td>\n",
       "    </tr>\n",
       "    <tr>\n",
       "      <th>11</th>\n",
       "      <td>2024-02-16 17:45:25</td>\n",
       "      <td>21.1875</td>\n",
       "      <td>43.087524</td>\n",
       "    </tr>\n",
       "    <tr>\n",
       "      <th>12</th>\n",
       "      <td>2024-02-16 17:45:30</td>\n",
       "      <td>21.1875</td>\n",
       "      <td>42.843384</td>\n",
       "    </tr>\n",
       "    <tr>\n",
       "      <th>13</th>\n",
       "      <td>2024-02-16 17:45:35</td>\n",
       "      <td>21.1875</td>\n",
       "      <td>42.675537</td>\n",
       "    </tr>\n",
       "    <tr>\n",
       "      <th>14</th>\n",
       "      <td>2024-02-16 17:45:40</td>\n",
       "      <td>21.1250</td>\n",
       "      <td>42.500061</td>\n",
       "    </tr>\n",
       "    <tr>\n",
       "      <th>15</th>\n",
       "      <td>2024-02-16 17:45:45</td>\n",
       "      <td>21.1250</td>\n",
       "      <td>42.301697</td>\n",
       "    </tr>\n",
       "    <tr>\n",
       "      <th>16</th>\n",
       "      <td>2024-02-16 17:45:50</td>\n",
       "      <td>21.1250</td>\n",
       "      <td>42.149109</td>\n",
       "    </tr>\n",
       "    <tr>\n",
       "      <th>17</th>\n",
       "      <td>2024-02-16 17:45:55</td>\n",
       "      <td>21.0625</td>\n",
       "      <td>41.996521</td>\n",
       "    </tr>\n",
       "    <tr>\n",
       "      <th>18</th>\n",
       "      <td>2024-02-16 17:46:00</td>\n",
       "      <td>21.1250</td>\n",
       "      <td>41.828674</td>\n",
       "    </tr>\n",
       "    <tr>\n",
       "      <th>19</th>\n",
       "      <td>2024-02-16 17:46:05</td>\n",
       "      <td>21.0625</td>\n",
       "      <td>41.645569</td>\n",
       "    </tr>\n",
       "  </tbody>\n",
       "</table>\n",
       "</div>"
      ],
      "text/plain": [
       "                  time  Temperature  RelativeHumidity\n",
       "0  2024-02-16 17:44:30      21.1250         48.450989\n",
       "1  2024-02-16 17:44:35      21.2500         46.909851\n",
       "2  2024-02-16 17:44:40      21.2500         45.925659\n",
       "3  2024-02-16 17:44:45      21.2500         45.559448\n",
       "4  2024-02-16 17:44:50      21.2500         45.177979\n",
       "5  2024-02-16 17:44:55      21.1875         44.697327\n",
       "6  2024-02-16 17:45:00      21.1875         44.270081\n",
       "7  2024-02-16 17:45:05      21.1875         44.003052\n",
       "8  2024-02-16 17:45:10      21.1875         43.728394\n",
       "9  2024-02-16 17:45:15      21.1875         43.537659\n",
       "10 2024-02-16 17:45:20      21.1875         43.354553\n",
       "11 2024-02-16 17:45:25      21.1875         43.087524\n",
       "12 2024-02-16 17:45:30      21.1875         42.843384\n",
       "13 2024-02-16 17:45:35      21.1875         42.675537\n",
       "14 2024-02-16 17:45:40      21.1250         42.500061\n",
       "15 2024-02-16 17:45:45      21.1250         42.301697\n",
       "16 2024-02-16 17:45:50      21.1250         42.149109\n",
       "17 2024-02-16 17:45:55      21.0625         41.996521\n",
       "18 2024-02-16 17:46:00      21.1250         41.828674\n",
       "19 2024-02-16 17:46:05      21.0625         41.645569"
      ]
     },
     "execution_count": 12,
     "metadata": {},
     "output_type": "execute_result"
    }
   ],
   "source": [
    "df.head(20)"
   ]
  },
  {
   "cell_type": "code",
   "execution_count": 13,
   "metadata": {
    "id": "OfAMe3-TgS3-"
   },
   "outputs": [],
   "source": [
    "df['Temperature'] = round(df['Temperature'], 2)\n",
    "df['RelativeHumidity'] = round(df['RelativeHumidity'], 2)"
   ]
  },
  {
   "cell_type": "code",
   "execution_count": 14,
   "metadata": {
    "id": "Z_zVHP9QuWUx"
   },
   "outputs": [],
   "source": [
    "filled_df = df\n",
    "new_df1 = filled_df"
   ]
  },
  {
   "cell_type": "code",
   "execution_count": 15,
   "metadata": {
    "colab": {
     "base_uri": "https://localhost:8080/",
     "height": 423
    },
    "id": "vpTaTljQxP3b",
    "outputId": "f7260499-df02-42bf-ccc3-ec198bc5d039"
   },
   "outputs": [
    {
     "data": {
      "text/html": [
       "<div>\n",
       "<style scoped>\n",
       "    .dataframe tbody tr th:only-of-type {\n",
       "        vertical-align: middle;\n",
       "    }\n",
       "\n",
       "    .dataframe tbody tr th {\n",
       "        vertical-align: top;\n",
       "    }\n",
       "\n",
       "    .dataframe thead th {\n",
       "        text-align: right;\n",
       "    }\n",
       "</style>\n",
       "<table border=\"1\" class=\"dataframe\">\n",
       "  <thead>\n",
       "    <tr style=\"text-align: right;\">\n",
       "      <th></th>\n",
       "      <th>time</th>\n",
       "      <th>Temperature</th>\n",
       "      <th>RelativeHumidity</th>\n",
       "    </tr>\n",
       "  </thead>\n",
       "  <tbody>\n",
       "    <tr>\n",
       "      <th>0</th>\n",
       "      <td>2024-02-16 17:44:30</td>\n",
       "      <td>21.12</td>\n",
       "      <td>48.45</td>\n",
       "    </tr>\n",
       "    <tr>\n",
       "      <th>1</th>\n",
       "      <td>2024-02-16 17:44:35</td>\n",
       "      <td>21.25</td>\n",
       "      <td>46.91</td>\n",
       "    </tr>\n",
       "    <tr>\n",
       "      <th>2</th>\n",
       "      <td>2024-02-16 17:44:40</td>\n",
       "      <td>21.25</td>\n",
       "      <td>45.93</td>\n",
       "    </tr>\n",
       "    <tr>\n",
       "      <th>3</th>\n",
       "      <td>2024-02-16 17:44:45</td>\n",
       "      <td>21.25</td>\n",
       "      <td>45.56</td>\n",
       "    </tr>\n",
       "    <tr>\n",
       "      <th>4</th>\n",
       "      <td>2024-02-16 17:44:50</td>\n",
       "      <td>21.25</td>\n",
       "      <td>45.18</td>\n",
       "    </tr>\n",
       "    <tr>\n",
       "      <th>...</th>\n",
       "      <td>...</td>\n",
       "      <td>...</td>\n",
       "      <td>...</td>\n",
       "    </tr>\n",
       "    <tr>\n",
       "      <th>599995</th>\n",
       "      <td>2024-03-22 11:25:44</td>\n",
       "      <td>24.62</td>\n",
       "      <td>23.62</td>\n",
       "    </tr>\n",
       "    <tr>\n",
       "      <th>599996</th>\n",
       "      <td>2024-03-22 11:25:49</td>\n",
       "      <td>24.56</td>\n",
       "      <td>23.61</td>\n",
       "    </tr>\n",
       "    <tr>\n",
       "      <th>599997</th>\n",
       "      <td>2024-03-22 11:25:54</td>\n",
       "      <td>24.56</td>\n",
       "      <td>23.61</td>\n",
       "    </tr>\n",
       "    <tr>\n",
       "      <th>599998</th>\n",
       "      <td>2024-03-22 11:25:59</td>\n",
       "      <td>24.56</td>\n",
       "      <td>23.63</td>\n",
       "    </tr>\n",
       "    <tr>\n",
       "      <th>599999</th>\n",
       "      <td>2024-03-22 11:26:04</td>\n",
       "      <td>24.56</td>\n",
       "      <td>23.63</td>\n",
       "    </tr>\n",
       "  </tbody>\n",
       "</table>\n",
       "<p>600000 rows × 3 columns</p>\n",
       "</div>"
      ],
      "text/plain": [
       "                      time  Temperature  RelativeHumidity\n",
       "0      2024-02-16 17:44:30        21.12             48.45\n",
       "1      2024-02-16 17:44:35        21.25             46.91\n",
       "2      2024-02-16 17:44:40        21.25             45.93\n",
       "3      2024-02-16 17:44:45        21.25             45.56\n",
       "4      2024-02-16 17:44:50        21.25             45.18\n",
       "...                    ...          ...               ...\n",
       "599995 2024-03-22 11:25:44        24.62             23.62\n",
       "599996 2024-03-22 11:25:49        24.56             23.61\n",
       "599997 2024-03-22 11:25:54        24.56             23.61\n",
       "599998 2024-03-22 11:25:59        24.56             23.63\n",
       "599999 2024-03-22 11:26:04        24.56             23.63\n",
       "\n",
       "[600000 rows x 3 columns]"
      ]
     },
     "execution_count": 15,
     "metadata": {},
     "output_type": "execute_result"
    }
   ],
   "source": [
    "new_df = new_df1\n",
    "new_df"
   ]
  },
  {
   "cell_type": "markdown",
   "metadata": {
    "id": "m39dLXsY0Ndh"
   },
   "source": [
    "# Missing Data Imputation"
   ]
  },
  {
   "cell_type": "code",
   "execution_count": 17,
   "metadata": {
    "colab": {
     "base_uri": "https://localhost:8080/",
     "height": 421
    },
    "id": "XLzUzLzckaSu",
    "outputId": "21615ab1-afbd-40a9-aaa8-766d6bf13481"
   },
   "outputs": [
    {
     "name": "stdout",
     "output_type": "stream",
     "text": [
      "                      time  Temperature  RelativeHumidity\n",
      "0      2024-02-16 17:44:30        21.12             48.45\n",
      "1      2024-02-16 17:44:35        21.25             46.91\n",
      "2      2024-02-16 17:44:40        21.25             45.93\n",
      "3      2024-02-16 17:44:45        21.25             45.56\n",
      "4      2024-02-16 17:44:50        21.25             45.18\n",
      "...                    ...          ...               ...\n",
      "599995 2024-03-22 11:25:44        24.62             23.62\n",
      "599996 2024-03-22 11:25:49        24.56             23.61\n",
      "599997 2024-03-22 11:25:54        24.56             23.61\n",
      "599998 2024-03-22 11:25:59        24.56             23.63\n",
      "599999 2024-03-22 11:26:04        24.56             23.63\n",
      "\n",
      "[600000 rows x 3 columns]\n"
     ]
    },
    {
     "data": {
      "text/plain": [
       "time                0\n",
       "Temperature         0\n",
       "RelativeHumidity    0\n",
       "dtype: int64"
      ]
     },
     "execution_count": 17,
     "metadata": {},
     "output_type": "execute_result"
    }
   ],
   "source": [
    "new_df['Temperature'].interpolate(method='linear', inplace=True)\n",
    "#new_df['Temperature'].interpolate(method='spline', order = 3, inplace=True)\n",
    "\n",
    "print(new_df)\n",
    "\n",
    "new_df.isna().sum()"
   ]
  },
  {
   "cell_type": "code",
   "execution_count": null,
   "metadata": {
    "id": "dfyBCMYV_t4m"
   },
   "outputs": [],
   "source": []
  },
  {
   "cell_type": "code",
   "execution_count": 153,
   "metadata": {
    "colab": {
     "base_uri": "https://localhost:8080/",
     "height": 1000
    },
    "id": "VYHaeImNkJWb",
    "outputId": "fba89bfc-91ad-4b71-b396-ea9979d55af8"
   },
   "outputs": [
    {
     "data": {
      "image/png": "[encoded data removed]",
      "text/plain": [
       "<Figure size 1080x864 with 2 Axes>"
      ]
     },
     "metadata": {
      "needs_background": "light"
     },
     "output_type": "display_data"
    }
   ],
   "source": [
    "import matplotlib.pyplot as plt\n",
    "\n",
    "# Create a figure with two subplots (one row, two columns)\n",
    "fig, axs = plt.subplots(2, 1, figsize=(15, 12))\n",
    "\n",
    "# Define font sizes for title, labels, and ticks\n",
    "title_fontsize = 22\n",
    "label_fontsize = 18\n",
    "tick_fontsize = 16\n",
    "\n",
    "# Plot Temperature on the first subplot\n",
    "axs[0].plot(new_df['time'], new_df['Temperature'], label='Temperature')\n",
    "axs[0].set_xlabel('Timestamp', fontsize=label_fontsize)\n",
    "axs[0].set_ylabel('Temperature level', fontsize=label_fontsize)\n",
    "axs[0].set_title('Temperature Time Series without Anomaly', fontsize=title_fontsize)\n",
    "axs[0].legend(fontsize=label_fontsize)\n",
    "axs[0].tick_params(axis='x', labelsize=tick_fontsize, rotation=45)  # Rotate x-axis labels for better readability\n",
    "axs[0].tick_params(axis='y', labelsize=tick_fontsize)\n",
    "\n",
    "# Plot RelativeHumidity on the second subplot\n",
    "axs[1].plot(new_df['time'], new_df['RelativeHumidity'], label='RelativeHumidity')\n",
    "axs[1].set_xlabel('Timestamp', fontsize=label_fontsize)\n",
    "axs[1].set_ylabel('Humidity level', fontsize=label_fontsize)\n",
    "axs[1].set_title('Humidity Time Series without Anomaly', fontsize=title_fontsize)\n",
    "axs[1].legend(fontsize=label_fontsize)\n",
    "axs[1].tick_params(axis='x', labelsize=tick_fontsize, rotation=45)  # Rotate x-axis labels for better readability\n",
    "axs[1].tick_params(axis='y', labelsize=tick_fontsize)\n",
    "\n",
    "# Adjust layout to prevent clipping of labels\n",
    "plt.tight_layout()\n",
    "\n",
    "# Show the plot\n",
    "plt.show()"
   ]
  },
  {
   "cell_type": "code",
   "execution_count": 154,
   "metadata": {
    "colab": {
     "base_uri": "https://localhost:8080/"
    },
    "id": "UMO5Cxzt_t4m",
    "outputId": "af6ade90-87e0-473f-d807-f97aeadd586a"
   },
   "outputs": [
    {
     "name": "stdout",
     "output_type": "stream",
     "text": [
      "Correlation between Temperature and RelativeHumidity: -0.5193350918167688\n"
     ]
    }
   ],
   "source": [
    "correlation = new_df['Temperature'].corr(new_df['RelativeHumidity'])\n",
    "\n",
    "print(\"Correlation between Temperature and RelativeHumidity:\", correlation)"
   ]
  },
  {
   "cell_type": "code",
   "execution_count": null,
   "metadata": {
    "id": "mVZ7s31i8B_e"
   },
   "outputs": [],
   "source": []
  },
  {
   "cell_type": "markdown",
   "metadata": {},
   "source": [
    "# INJECT ARTIFICIAL OUTLIERS TO TEMPERATURE DATA"
   ]
  },
  {
   "cell_type": "markdown",
   "metadata": {},
   "source": [
    "# The outliers are constant values of varying itensities (e.g large variations, subtle variations and extreme variations)"
   ]
  },
  {
   "cell_type": "code",
   "execution_count": 155,
   "metadata": {
    "colab": {
     "base_uri": "https://localhost:8080/",
     "height": 423
    },
    "id": "dyjkacNW_t4n",
    "outputId": "30d3308f-ec04-4ac0-e4e4-506bd09f0f50"
   },
   "outputs": [
    {
     "data": {
      "text/html": [
       "<div>\n",
       "<style scoped>\n",
       "    .dataframe tbody tr th:only-of-type {\n",
       "        vertical-align: middle;\n",
       "    }\n",
       "\n",
       "    .dataframe tbody tr th {\n",
       "        vertical-align: top;\n",
       "    }\n",
       "\n",
       "    .dataframe thead th {\n",
       "        text-align: right;\n",
       "    }\n",
       "</style>\n",
       "<table border=\"1\" class=\"dataframe\">\n",
       "  <thead>\n",
       "    <tr style=\"text-align: right;\">\n",
       "      <th></th>\n",
       "      <th>time</th>\n",
       "      <th>Temperature</th>\n",
       "      <th>RelativeHumidity</th>\n",
       "      <th>Temp_anomaly</th>\n",
       "      <th>anomaly_time</th>\n",
       "    </tr>\n",
       "  </thead>\n",
       "  <tbody>\n",
       "    <tr>\n",
       "      <th>0</th>\n",
       "      <td>2024-02-16 17:44:30</td>\n",
       "      <td>21.12</td>\n",
       "      <td>48.45</td>\n",
       "      <td>21.12</td>\n",
       "      <td>2024-02-16 17:44:30</td>\n",
       "    </tr>\n",
       "    <tr>\n",
       "      <th>1</th>\n",
       "      <td>2024-02-16 17:44:35</td>\n",
       "      <td>21.25</td>\n",
       "      <td>46.91</td>\n",
       "      <td>21.25</td>\n",
       "      <td>2024-02-16 17:44:35</td>\n",
       "    </tr>\n",
       "    <tr>\n",
       "      <th>2</th>\n",
       "      <td>2024-02-16 17:44:40</td>\n",
       "      <td>21.25</td>\n",
       "      <td>45.93</td>\n",
       "      <td>21.25</td>\n",
       "      <td>2024-02-16 17:44:40</td>\n",
       "    </tr>\n",
       "    <tr>\n",
       "      <th>3</th>\n",
       "      <td>2024-02-16 17:44:45</td>\n",
       "      <td>21.25</td>\n",
       "      <td>45.56</td>\n",
       "      <td>21.25</td>\n",
       "      <td>2024-02-16 17:44:45</td>\n",
       "    </tr>\n",
       "    <tr>\n",
       "      <th>4</th>\n",
       "      <td>2024-02-16 17:44:50</td>\n",
       "      <td>21.25</td>\n",
       "      <td>45.18</td>\n",
       "      <td>21.25</td>\n",
       "      <td>2024-02-16 17:44:50</td>\n",
       "    </tr>\n",
       "    <tr>\n",
       "      <th>...</th>\n",
       "      <td>...</td>\n",
       "      <td>...</td>\n",
       "      <td>...</td>\n",
       "      <td>...</td>\n",
       "      <td>...</td>\n",
       "    </tr>\n",
       "    <tr>\n",
       "      <th>599995</th>\n",
       "      <td>2024-03-22 11:25:44</td>\n",
       "      <td>24.62</td>\n",
       "      <td>23.62</td>\n",
       "      <td>24.62</td>\n",
       "      <td>2024-03-22 11:25:44</td>\n",
       "    </tr>\n",
       "    <tr>\n",
       "      <th>599996</th>\n",
       "      <td>2024-03-22 11:25:49</td>\n",
       "      <td>24.56</td>\n",
       "      <td>23.61</td>\n",
       "      <td>24.56</td>\n",
       "      <td>2024-03-22 11:25:49</td>\n",
       "    </tr>\n",
       "    <tr>\n",
       "      <th>599997</th>\n",
       "      <td>2024-03-22 11:25:54</td>\n",
       "      <td>24.56</td>\n",
       "      <td>23.61</td>\n",
       "      <td>24.56</td>\n",
       "      <td>2024-03-22 11:25:54</td>\n",
       "    </tr>\n",
       "    <tr>\n",
       "      <th>599998</th>\n",
       "      <td>2024-03-22 11:25:59</td>\n",
       "      <td>24.56</td>\n",
       "      <td>23.63</td>\n",
       "      <td>24.56</td>\n",
       "      <td>2024-03-22 11:25:59</td>\n",
       "    </tr>\n",
       "    <tr>\n",
       "      <th>599999</th>\n",
       "      <td>2024-03-22 11:26:04</td>\n",
       "      <td>24.56</td>\n",
       "      <td>23.63</td>\n",
       "      <td>24.56</td>\n",
       "      <td>2024-03-22 11:26:04</td>\n",
       "    </tr>\n",
       "  </tbody>\n",
       "</table>\n",
       "<p>600000 rows × 5 columns</p>\n",
       "</div>"
      ],
      "text/plain": [
       "                      time  Temperature  RelativeHumidity  Temp_anomaly  \\\n",
       "0      2024-02-16 17:44:30        21.12             48.45         21.12   \n",
       "1      2024-02-16 17:44:35        21.25             46.91         21.25   \n",
       "2      2024-02-16 17:44:40        21.25             45.93         21.25   \n",
       "3      2024-02-16 17:44:45        21.25             45.56         21.25   \n",
       "4      2024-02-16 17:44:50        21.25             45.18         21.25   \n",
       "...                    ...          ...               ...           ...   \n",
       "599995 2024-03-22 11:25:44        24.62             23.62         24.62   \n",
       "599996 2024-03-22 11:25:49        24.56             23.61         24.56   \n",
       "599997 2024-03-22 11:25:54        24.56             23.61         24.56   \n",
       "599998 2024-03-22 11:25:59        24.56             23.63         24.56   \n",
       "599999 2024-03-22 11:26:04        24.56             23.63         24.56   \n",
       "\n",
       "              anomaly_time  \n",
       "0      2024-02-16 17:44:30  \n",
       "1      2024-02-16 17:44:35  \n",
       "2      2024-02-16 17:44:40  \n",
       "3      2024-02-16 17:44:45  \n",
       "4      2024-02-16 17:44:50  \n",
       "...                    ...  \n",
       "599995 2024-03-22 11:25:44  \n",
       "599996 2024-03-22 11:25:49  \n",
       "599997 2024-03-22 11:25:54  \n",
       "599998 2024-03-22 11:25:59  \n",
       "599999 2024-03-22 11:26:04  \n",
       "\n",
       "[600000 rows x 5 columns]"
      ]
     },
     "execution_count": 155,
     "metadata": {},
     "output_type": "execute_result"
    }
   ],
   "source": [
    "new_df['Temp_anomaly'] = new_df['Temperature']\n",
    "\n",
    "new_df['anomaly_time'] = pd.to_datetime(new_df['time'])\n",
    "\n",
    "\n",
    "# Select the dates for inputing outliers\n",
    "specific_dates1 = ['2024-03-13', '2024-03-03', '2024-02-19']\n",
    "specific_dates2 = ['2024-02-21', '2024-02-25', '2024-03-07']\n",
    "specific_dates3 = ['2024-02-23', '2024-02-26', '2024-03-09']\n",
    "specific_dates4 = ['2024-02-29', '2024-03-05']\n",
    "\n",
    "\n",
    "# Create the condition mask\n",
    "mask1 = (new_df['anomaly_time'].dt.date.astype(str).isin(specific_dates1)) & (new_df['Temperature'].between(22.3, 22.45))\n",
    "mask2 = (new_df['anomaly_time'].dt.date.astype(str).isin(specific_dates2)) & (new_df['Temperature'].between(20.4, 20.5))\n",
    "mask3 = (new_df['anomaly_time'].dt.date.astype(str).isin(specific_dates3)) & (new_df['Temperature'].between(21.3, 21.4))\n",
    "mask4 = (new_df['anomaly_time'].dt.date.astype(str).isin(specific_dates4)) & (new_df['Temperature'].between(21.5, 21.7))\n",
    "\n",
    "\n",
    "# Apply the replacement\n",
    "new_df.loc[mask1, 'Temp_anomaly'] = 33.885\n",
    "new_df.loc[mask2, 'Temp_anomaly'] = 32.885\n",
    "new_df.loc[mask3, 'Temp_anomaly'] = 24.885\n",
    "new_df.loc[mask4, 'Temp_anomaly'] = 17.885\n",
    "\n",
    "\n",
    "# View the updated DataFrame\n",
    "new_df"
   ]
  },
  {
   "cell_type": "markdown",
   "metadata": {
    "id": "1nETDF0a_t4n"
   },
   "source": [
    "# INJECT ARTIFICIAL OUTLIERS TO HUMIDITY DATA"
   ]
  },
  {
   "cell_type": "markdown",
   "metadata": {},
   "source": [
    "# The outliers are constant values of varying itensities (e.g large variations, subtle variations and extreme variations)"
   ]
  },
  {
   "cell_type": "code",
   "execution_count": 156,
   "metadata": {
    "colab": {
     "base_uri": "https://localhost:8080/",
     "height": 423
    },
    "id": "6qTEdHXU_t4n",
    "outputId": "cece3a98-79a5-460f-9dc1-1757394aa19f"
   },
   "outputs": [
    {
     "data": {
      "text/html": [
       "<div>\n",
       "<style scoped>\n",
       "    .dataframe tbody tr th:only-of-type {\n",
       "        vertical-align: middle;\n",
       "    }\n",
       "\n",
       "    .dataframe tbody tr th {\n",
       "        vertical-align: top;\n",
       "    }\n",
       "\n",
       "    .dataframe thead th {\n",
       "        text-align: right;\n",
       "    }\n",
       "</style>\n",
       "<table border=\"1\" class=\"dataframe\">\n",
       "  <thead>\n",
       "    <tr style=\"text-align: right;\">\n",
       "      <th></th>\n",
       "      <th>time</th>\n",
       "      <th>Temperature</th>\n",
       "      <th>RelativeHumidity</th>\n",
       "      <th>Temp_anomaly</th>\n",
       "      <th>anomaly_time</th>\n",
       "      <th>RH_anomaly</th>\n",
       "    </tr>\n",
       "  </thead>\n",
       "  <tbody>\n",
       "    <tr>\n",
       "      <th>0</th>\n",
       "      <td>2024-02-16 17:44:30</td>\n",
       "      <td>21.12</td>\n",
       "      <td>48.45</td>\n",
       "      <td>21.12</td>\n",
       "      <td>2024-02-16 17:44:30</td>\n",
       "      <td>48.45</td>\n",
       "    </tr>\n",
       "    <tr>\n",
       "      <th>1</th>\n",
       "      <td>2024-02-16 17:44:35</td>\n",
       "      <td>21.25</td>\n",
       "      <td>46.91</td>\n",
       "      <td>21.25</td>\n",
       "      <td>2024-02-16 17:44:35</td>\n",
       "      <td>46.91</td>\n",
       "    </tr>\n",
       "    <tr>\n",
       "      <th>2</th>\n",
       "      <td>2024-02-16 17:44:40</td>\n",
       "      <td>21.25</td>\n",
       "      <td>45.93</td>\n",
       "      <td>21.25</td>\n",
       "      <td>2024-02-16 17:44:40</td>\n",
       "      <td>45.93</td>\n",
       "    </tr>\n",
       "    <tr>\n",
       "      <th>3</th>\n",
       "      <td>2024-02-16 17:44:45</td>\n",
       "      <td>21.25</td>\n",
       "      <td>45.56</td>\n",
       "      <td>21.25</td>\n",
       "      <td>2024-02-16 17:44:45</td>\n",
       "      <td>45.56</td>\n",
       "    </tr>\n",
       "    <tr>\n",
       "      <th>4</th>\n",
       "      <td>2024-02-16 17:44:50</td>\n",
       "      <td>21.25</td>\n",
       "      <td>45.18</td>\n",
       "      <td>21.25</td>\n",
       "      <td>2024-02-16 17:44:50</td>\n",
       "      <td>45.18</td>\n",
       "    </tr>\n",
       "    <tr>\n",
       "      <th>...</th>\n",
       "      <td>...</td>\n",
       "      <td>...</td>\n",
       "      <td>...</td>\n",
       "      <td>...</td>\n",
       "      <td>...</td>\n",
       "      <td>...</td>\n",
       "    </tr>\n",
       "    <tr>\n",
       "      <th>599995</th>\n",
       "      <td>2024-03-22 11:25:44</td>\n",
       "      <td>24.62</td>\n",
       "      <td>23.62</td>\n",
       "      <td>24.62</td>\n",
       "      <td>2024-03-22 11:25:44</td>\n",
       "      <td>23.62</td>\n",
       "    </tr>\n",
       "    <tr>\n",
       "      <th>599996</th>\n",
       "      <td>2024-03-22 11:25:49</td>\n",
       "      <td>24.56</td>\n",
       "      <td>23.61</td>\n",
       "      <td>24.56</td>\n",
       "      <td>2024-03-22 11:25:49</td>\n",
       "      <td>23.61</td>\n",
       "    </tr>\n",
       "    <tr>\n",
       "      <th>599997</th>\n",
       "      <td>2024-03-22 11:25:54</td>\n",
       "      <td>24.56</td>\n",
       "      <td>23.61</td>\n",
       "      <td>24.56</td>\n",
       "      <td>2024-03-22 11:25:54</td>\n",
       "      <td>23.61</td>\n",
       "    </tr>\n",
       "    <tr>\n",
       "      <th>599998</th>\n",
       "      <td>2024-03-22 11:25:59</td>\n",
       "      <td>24.56</td>\n",
       "      <td>23.63</td>\n",
       "      <td>24.56</td>\n",
       "      <td>2024-03-22 11:25:59</td>\n",
       "      <td>23.63</td>\n",
       "    </tr>\n",
       "    <tr>\n",
       "      <th>599999</th>\n",
       "      <td>2024-03-22 11:26:04</td>\n",
       "      <td>24.56</td>\n",
       "      <td>23.63</td>\n",
       "      <td>24.56</td>\n",
       "      <td>2024-03-22 11:26:04</td>\n",
       "      <td>23.63</td>\n",
       "    </tr>\n",
       "  </tbody>\n",
       "</table>\n",
       "<p>600000 rows × 6 columns</p>\n",
       "</div>"
      ],
      "text/plain": [
       "                      time  Temperature  RelativeHumidity  Temp_anomaly  \\\n",
       "0      2024-02-16 17:44:30        21.12             48.45         21.12   \n",
       "1      2024-02-16 17:44:35        21.25             46.91         21.25   \n",
       "2      2024-02-16 17:44:40        21.25             45.93         21.25   \n",
       "3      2024-02-16 17:44:45        21.25             45.56         21.25   \n",
       "4      2024-02-16 17:44:50        21.25             45.18         21.25   \n",
       "...                    ...          ...               ...           ...   \n",
       "599995 2024-03-22 11:25:44        24.62             23.62         24.62   \n",
       "599996 2024-03-22 11:25:49        24.56             23.61         24.56   \n",
       "599997 2024-03-22 11:25:54        24.56             23.61         24.56   \n",
       "599998 2024-03-22 11:25:59        24.56             23.63         24.56   \n",
       "599999 2024-03-22 11:26:04        24.56             23.63         24.56   \n",
       "\n",
       "              anomaly_time  RH_anomaly  \n",
       "0      2024-02-16 17:44:30       48.45  \n",
       "1      2024-02-16 17:44:35       46.91  \n",
       "2      2024-02-16 17:44:40       45.93  \n",
       "3      2024-02-16 17:44:45       45.56  \n",
       "4      2024-02-16 17:44:50       45.18  \n",
       "...                    ...         ...  \n",
       "599995 2024-03-22 11:25:44       23.62  \n",
       "599996 2024-03-22 11:25:49       23.61  \n",
       "599997 2024-03-22 11:25:54       23.61  \n",
       "599998 2024-03-22 11:25:59       23.63  \n",
       "599999 2024-03-22 11:26:04       23.63  \n",
       "\n",
       "[600000 rows x 6 columns]"
      ]
     },
     "execution_count": 156,
     "metadata": {},
     "output_type": "execute_result"
    }
   ],
   "source": [
    "new_df['RH_anomaly'] = new_df['RelativeHumidity']\n",
    "\n",
    "specific_dates5 = ['2024-02-27', '2024-02-22']\n",
    "specific_dates6 = ['2024-03-04']\n",
    "specific_dates7 = ['2024-02-22', '2024-02-24', '2024-03-13', '2024-03-17']\n",
    "specific_dates8 = ['2024-03-16']\n",
    "\n",
    "# Create the condition mask\n",
    "mask5 = (new_df['anomaly_time'].dt.date.astype(str).isin(specific_dates5)) & (new_df['RelativeHumidity'].between(29.1, 29.5))\n",
    "mask6 = (new_df['anomaly_time'].dt.date.astype(str).isin(specific_dates6)) & (new_df['RelativeHumidity'].between(26.7, 27.2))\n",
    "mask7 = (new_df['anomaly_time'].dt.date.astype(str).isin(specific_dates7)) & (new_df['RelativeHumidity'].between(26.8, 27.0))\n",
    "mask8 = (new_df['anomaly_time'].dt.date.astype(str).isin(specific_dates8)) & (new_df['RelativeHumidity'].between(30.2, 30.5))\n",
    "\n",
    "\n",
    "# Apply the replacement\n",
    "new_df.loc[mask5, 'RH_anomaly'] = 40.885\n",
    "new_df.loc[mask6, 'RH_anomaly'] = 36.885\n",
    "new_df.loc[mask7, 'RH_anomaly'] = 29.885\n",
    "new_df.loc[mask8, 'RH_anomaly'] = 25.885\n",
    "\n",
    "\n",
    "# View the updated DataFrame\n",
    "new_df"
   ]
  },
  {
   "cell_type": "code",
   "execution_count": null,
   "metadata": {},
   "outputs": [],
   "source": []
  },
  {
   "cell_type": "markdown",
   "metadata": {},
   "source": [
    "# MANUALLY LABEL INJECTED ANOMALY DATA AS 0 for NORMAL and 1 for ABNORMAL"
   ]
  },
  {
   "cell_type": "code",
   "execution_count": 157,
   "metadata": {
    "id": "DXRLYe8Z_t4n"
   },
   "outputs": [],
   "source": [
    "def replacevalues(val):\n",
    "  if val in [33.885, 32.885, 24.885, 17.885]:\n",
    "    return 1\n",
    "  else:\n",
    "    return 0\n",
    "\n",
    "new_df['Temp_anomaly_labels'] = new_df['Temp_anomaly'].apply(replacevalues)\n",
    "\n",
    "\n",
    "def replacevalues(val):\n",
    "  if val in [40.885, 36.885, 29.885, 25.885]:\n",
    "    return 1\n",
    "  else:\n",
    "    return 0\n",
    "\n",
    "new_df['RH_anomaly_labels'] = new_df['RH_anomaly'].apply(replacevalues)"
   ]
  },
  {
   "cell_type": "code",
   "execution_count": 158,
   "metadata": {
    "colab": {
     "base_uri": "https://localhost:8080/",
     "height": 178
    },
    "id": "-2mYMs12_t4n",
    "outputId": "54b8db0b-0020-4728-a015-a4150a070d87"
   },
   "outputs": [
    {
     "data": {
      "text/plain": [
       "RH_anomaly_labels\n",
       "0    595197\n",
       "1      4803\n",
       "Name: count, dtype: int64"
      ]
     },
     "execution_count": 158,
     "metadata": {},
     "output_type": "execute_result"
    }
   ],
   "source": [
    "new_df['RH_anomaly_labels'].value_counts()"
   ]
  },
  {
   "cell_type": "code",
   "execution_count": 159,
   "metadata": {
    "colab": {
     "base_uri": "https://localhost:8080/",
     "height": 178
    },
    "id": "GuU-VZfxZdII",
    "outputId": "2928cf30-731c-4a6d-b7df-be509e9a69a4"
   },
   "outputs": [
    {
     "data": {
      "text/plain": [
       "Temp_anomaly_labels\n",
       "0    593498\n",
       "1      6502\n",
       "Name: count, dtype: int64"
      ]
     },
     "execution_count": 159,
     "metadata": {},
     "output_type": "execute_result"
    }
   ],
   "source": [
    "new_df['Temp_anomaly_labels'].value_counts()"
   ]
  },
  {
   "cell_type": "code",
   "execution_count": 160,
   "metadata": {
    "colab": {
     "base_uri": "https://localhost:8080/",
     "height": 423
    },
    "id": "HgS5JP5G_t4n",
    "outputId": "6c9e9a71-b657-423d-f8f4-654fc03532ee"
   },
   "outputs": [
    {
     "data": {
      "text/html": [
       "<div>\n",
       "<style scoped>\n",
       "    .dataframe tbody tr th:only-of-type {\n",
       "        vertical-align: middle;\n",
       "    }\n",
       "\n",
       "    .dataframe tbody tr th {\n",
       "        vertical-align: top;\n",
       "    }\n",
       "\n",
       "    .dataframe thead th {\n",
       "        text-align: right;\n",
       "    }\n",
       "</style>\n",
       "<table border=\"1\" class=\"dataframe\">\n",
       "  <thead>\n",
       "    <tr style=\"text-align: right;\">\n",
       "      <th></th>\n",
       "      <th>time</th>\n",
       "      <th>Temperature</th>\n",
       "      <th>RelativeHumidity</th>\n",
       "      <th>Temp_anomaly</th>\n",
       "      <th>anomaly_time</th>\n",
       "      <th>RH_anomaly</th>\n",
       "      <th>Temp_anomaly_labels</th>\n",
       "      <th>RH_anomaly_labels</th>\n",
       "    </tr>\n",
       "  </thead>\n",
       "  <tbody>\n",
       "    <tr>\n",
       "      <th>0</th>\n",
       "      <td>2024-02-16 17:44:30</td>\n",
       "      <td>21.12</td>\n",
       "      <td>48.45</td>\n",
       "      <td>21.12</td>\n",
       "      <td>2024-02-16 17:44:30</td>\n",
       "      <td>48.45</td>\n",
       "      <td>0</td>\n",
       "      <td>0</td>\n",
       "    </tr>\n",
       "    <tr>\n",
       "      <th>1</th>\n",
       "      <td>2024-02-16 17:44:35</td>\n",
       "      <td>21.25</td>\n",
       "      <td>46.91</td>\n",
       "      <td>21.25</td>\n",
       "      <td>2024-02-16 17:44:35</td>\n",
       "      <td>46.91</td>\n",
       "      <td>0</td>\n",
       "      <td>0</td>\n",
       "    </tr>\n",
       "    <tr>\n",
       "      <th>2</th>\n",
       "      <td>2024-02-16 17:44:40</td>\n",
       "      <td>21.25</td>\n",
       "      <td>45.93</td>\n",
       "      <td>21.25</td>\n",
       "      <td>2024-02-16 17:44:40</td>\n",
       "      <td>45.93</td>\n",
       "      <td>0</td>\n",
       "      <td>0</td>\n",
       "    </tr>\n",
       "    <tr>\n",
       "      <th>3</th>\n",
       "      <td>2024-02-16 17:44:45</td>\n",
       "      <td>21.25</td>\n",
       "      <td>45.56</td>\n",
       "      <td>21.25</td>\n",
       "      <td>2024-02-16 17:44:45</td>\n",
       "      <td>45.56</td>\n",
       "      <td>0</td>\n",
       "      <td>0</td>\n",
       "    </tr>\n",
       "    <tr>\n",
       "      <th>4</th>\n",
       "      <td>2024-02-16 17:44:50</td>\n",
       "      <td>21.25</td>\n",
       "      <td>45.18</td>\n",
       "      <td>21.25</td>\n",
       "      <td>2024-02-16 17:44:50</td>\n",
       "      <td>45.18</td>\n",
       "      <td>0</td>\n",
       "      <td>0</td>\n",
       "    </tr>\n",
       "    <tr>\n",
       "      <th>...</th>\n",
       "      <td>...</td>\n",
       "      <td>...</td>\n",
       "      <td>...</td>\n",
       "      <td>...</td>\n",
       "      <td>...</td>\n",
       "      <td>...</td>\n",
       "      <td>...</td>\n",
       "      <td>...</td>\n",
       "    </tr>\n",
       "    <tr>\n",
       "      <th>599995</th>\n",
       "      <td>2024-03-22 11:25:44</td>\n",
       "      <td>24.62</td>\n",
       "      <td>23.62</td>\n",
       "      <td>24.62</td>\n",
       "      <td>2024-03-22 11:25:44</td>\n",
       "      <td>23.62</td>\n",
       "      <td>0</td>\n",
       "      <td>0</td>\n",
       "    </tr>\n",
       "    <tr>\n",
       "      <th>599996</th>\n",
       "      <td>2024-03-22 11:25:49</td>\n",
       "      <td>24.56</td>\n",
       "      <td>23.61</td>\n",
       "      <td>24.56</td>\n",
       "      <td>2024-03-22 11:25:49</td>\n",
       "      <td>23.61</td>\n",
       "      <td>0</td>\n",
       "      <td>0</td>\n",
       "    </tr>\n",
       "    <tr>\n",
       "      <th>599997</th>\n",
       "      <td>2024-03-22 11:25:54</td>\n",
       "      <td>24.56</td>\n",
       "      <td>23.61</td>\n",
       "      <td>24.56</td>\n",
       "      <td>2024-03-22 11:25:54</td>\n",
       "      <td>23.61</td>\n",
       "      <td>0</td>\n",
       "      <td>0</td>\n",
       "    </tr>\n",
       "    <tr>\n",
       "      <th>599998</th>\n",
       "      <td>2024-03-22 11:25:59</td>\n",
       "      <td>24.56</td>\n",
       "      <td>23.63</td>\n",
       "      <td>24.56</td>\n",
       "      <td>2024-03-22 11:25:59</td>\n",
       "      <td>23.63</td>\n",
       "      <td>0</td>\n",
       "      <td>0</td>\n",
       "    </tr>\n",
       "    <tr>\n",
       "      <th>599999</th>\n",
       "      <td>2024-03-22 11:26:04</td>\n",
       "      <td>24.56</td>\n",
       "      <td>23.63</td>\n",
       "      <td>24.56</td>\n",
       "      <td>2024-03-22 11:26:04</td>\n",
       "      <td>23.63</td>\n",
       "      <td>0</td>\n",
       "      <td>0</td>\n",
       "    </tr>\n",
       "  </tbody>\n",
       "</table>\n",
       "<p>600000 rows × 8 columns</p>\n",
       "</div>"
      ],
      "text/plain": [
       "                      time  Temperature  RelativeHumidity  Temp_anomaly  \\\n",
       "0      2024-02-16 17:44:30        21.12             48.45         21.12   \n",
       "1      2024-02-16 17:44:35        21.25             46.91         21.25   \n",
       "2      2024-02-16 17:44:40        21.25             45.93         21.25   \n",
       "3      2024-02-16 17:44:45        21.25             45.56         21.25   \n",
       "4      2024-02-16 17:44:50        21.25             45.18         21.25   \n",
       "...                    ...          ...               ...           ...   \n",
       "599995 2024-03-22 11:25:44        24.62             23.62         24.62   \n",
       "599996 2024-03-22 11:25:49        24.56             23.61         24.56   \n",
       "599997 2024-03-22 11:25:54        24.56             23.61         24.56   \n",
       "599998 2024-03-22 11:25:59        24.56             23.63         24.56   \n",
       "599999 2024-03-22 11:26:04        24.56             23.63         24.56   \n",
       "\n",
       "              anomaly_time  RH_anomaly  Temp_anomaly_labels  RH_anomaly_labels  \n",
       "0      2024-02-16 17:44:30       48.45                    0                  0  \n",
       "1      2024-02-16 17:44:35       46.91                    0                  0  \n",
       "2      2024-02-16 17:44:40       45.93                    0                  0  \n",
       "3      2024-02-16 17:44:45       45.56                    0                  0  \n",
       "4      2024-02-16 17:44:50       45.18                    0                  0  \n",
       "...                    ...         ...                  ...                ...  \n",
       "599995 2024-03-22 11:25:44       23.62                    0                  0  \n",
       "599996 2024-03-22 11:25:49       23.61                    0                  0  \n",
       "599997 2024-03-22 11:25:54       23.61                    0                  0  \n",
       "599998 2024-03-22 11:25:59       23.63                    0                  0  \n",
       "599999 2024-03-22 11:26:04       23.63                    0                  0  \n",
       "\n",
       "[600000 rows x 8 columns]"
      ]
     },
     "execution_count": 160,
     "metadata": {},
     "output_type": "execute_result"
    }
   ],
   "source": [
    "new_df"
   ]
  },
  {
   "cell_type": "code",
   "execution_count": null,
   "metadata": {
    "id": "y5px_PF9_t4o"
   },
   "outputs": [],
   "source": []
  },
  {
   "cell_type": "code",
   "execution_count": 161,
   "metadata": {
    "colab": {
     "base_uri": "https://localhost:8080/",
     "height": 1000
    },
    "id": "-R9i16Cx_t4o",
    "outputId": "26a0215b-0d83-4a51-9e3a-e9852eb4f298"
   },
   "outputs": [
    {
     "data": {
      "image/png": "[encoded data removed]",
      "text/plain": [
       "<Figure size 1080x864 with 2 Axes>"
      ]
     },
     "metadata": {
      "needs_background": "light"
     },
     "output_type": "display_data"
    }
   ],
   "source": [
    "import matplotlib.pyplot as plt\n",
    "\n",
    "# Create a figure with two subplots (one row, two columns)\n",
    "fig, axs = plt.subplots(2, 1, figsize=(15, 12))\n",
    "\n",
    "# Define font sizes for title, labels, and ticks\n",
    "title_fontsize = 22\n",
    "label_fontsize = 18\n",
    "tick_fontsize = 16\n",
    "\n",
    "# Plot Temp anomaly on the first subplot\n",
    "axs[0].plot(new_df['time'], new_df['Temp_anomaly'], label='Temperature')\n",
    "axs[0].set_xlabel(' ', fontsize=label_fontsize)  # Empty label but with bigger font size for consistency\n",
    "axs[0].set_ylabel('Temperature level', fontsize=label_fontsize)\n",
    "axs[0].set_title('Temperature Time Series with Anomaly', fontsize=title_fontsize)\n",
    "axs[0].legend(fontsize=label_fontsize)\n",
    "axs[0].tick_params(axis='x', labelsize=tick_fontsize, rotation=45)  # Rotate x-axis labels for better readability\n",
    "axs[0].tick_params(axis='y', labelsize=tick_fontsize)\n",
    "\n",
    "# Plot RH anomaly on the second subplot\n",
    "axs[1].plot(new_df['time'], new_df['RH_anomaly'], label='Relative Humidity')\n",
    "axs[1].set_xlabel('Timestamp', fontsize=label_fontsize)\n",
    "axs[1].set_ylabel('Humidity Level', fontsize=label_fontsize)\n",
    "axs[1].set_title('Humidity Time Series with Anomaly', fontsize=title_fontsize)\n",
    "axs[1].legend(fontsize=label_fontsize)\n",
    "axs[1].tick_params(axis='x', labelsize=tick_fontsize, rotation=45)\n",
    "axs[1].tick_params(axis='y', labelsize=tick_fontsize)\n",
    "\n",
    "# Adjust layout to prevent clipping of labels\n",
    "plt.tight_layout()\n",
    "\n",
    "# Show the plot\n",
    "plt.show()"
   ]
  },
  {
   "cell_type": "code",
   "execution_count": 162,
   "metadata": {
    "colab": {
     "base_uri": "https://localhost:8080/",
     "height": 676
    },
    "id": "YLFgoWJwx3Pz",
    "outputId": "d724a918-e007-4d92-ce4b-036d3f29d318"
   },
   "outputs": [
    {
     "data": {
      "text/html": [
       "<div>\n",
       "<style scoped>\n",
       "    .dataframe tbody tr th:only-of-type {\n",
       "        vertical-align: middle;\n",
       "    }\n",
       "\n",
       "    .dataframe tbody tr th {\n",
       "        vertical-align: top;\n",
       "    }\n",
       "\n",
       "    .dataframe thead th {\n",
       "        text-align: right;\n",
       "    }\n",
       "</style>\n",
       "<table border=\"1\" class=\"dataframe\">\n",
       "  <thead>\n",
       "    <tr style=\"text-align: right;\">\n",
       "      <th></th>\n",
       "      <th>time</th>\n",
       "      <th>Temperature</th>\n",
       "      <th>RelativeHumidity</th>\n",
       "      <th>Temp_anomaly</th>\n",
       "      <th>anomaly_time</th>\n",
       "      <th>RH_anomaly</th>\n",
       "      <th>Temp_anomaly_labels</th>\n",
       "      <th>RH_anomaly_labels</th>\n",
       "    </tr>\n",
       "  </thead>\n",
       "  <tbody>\n",
       "    <tr>\n",
       "      <th>0</th>\n",
       "      <td>2024-02-16 17:44:30</td>\n",
       "      <td>21.12</td>\n",
       "      <td>48.45</td>\n",
       "      <td>21.12</td>\n",
       "      <td>2024-02-16 17:44:30</td>\n",
       "      <td>48.45</td>\n",
       "      <td>0</td>\n",
       "      <td>0</td>\n",
       "    </tr>\n",
       "    <tr>\n",
       "      <th>1</th>\n",
       "      <td>2024-02-16 17:44:35</td>\n",
       "      <td>21.25</td>\n",
       "      <td>46.91</td>\n",
       "      <td>21.25</td>\n",
       "      <td>2024-02-16 17:44:35</td>\n",
       "      <td>46.91</td>\n",
       "      <td>0</td>\n",
       "      <td>0</td>\n",
       "    </tr>\n",
       "    <tr>\n",
       "      <th>2</th>\n",
       "      <td>2024-02-16 17:44:40</td>\n",
       "      <td>21.25</td>\n",
       "      <td>45.93</td>\n",
       "      <td>21.25</td>\n",
       "      <td>2024-02-16 17:44:40</td>\n",
       "      <td>45.93</td>\n",
       "      <td>0</td>\n",
       "      <td>0</td>\n",
       "    </tr>\n",
       "    <tr>\n",
       "      <th>3</th>\n",
       "      <td>2024-02-16 17:44:45</td>\n",
       "      <td>21.25</td>\n",
       "      <td>45.56</td>\n",
       "      <td>21.25</td>\n",
       "      <td>2024-02-16 17:44:45</td>\n",
       "      <td>45.56</td>\n",
       "      <td>0</td>\n",
       "      <td>0</td>\n",
       "    </tr>\n",
       "    <tr>\n",
       "      <th>4</th>\n",
       "      <td>2024-02-16 17:44:50</td>\n",
       "      <td>21.25</td>\n",
       "      <td>45.18</td>\n",
       "      <td>21.25</td>\n",
       "      <td>2024-02-16 17:44:50</td>\n",
       "      <td>45.18</td>\n",
       "      <td>0</td>\n",
       "      <td>0</td>\n",
       "    </tr>\n",
       "    <tr>\n",
       "      <th>5</th>\n",
       "      <td>2024-02-16 17:44:55</td>\n",
       "      <td>21.19</td>\n",
       "      <td>44.70</td>\n",
       "      <td>21.19</td>\n",
       "      <td>2024-02-16 17:44:55</td>\n",
       "      <td>44.70</td>\n",
       "      <td>0</td>\n",
       "      <td>0</td>\n",
       "    </tr>\n",
       "    <tr>\n",
       "      <th>6</th>\n",
       "      <td>2024-02-16 17:45:00</td>\n",
       "      <td>21.19</td>\n",
       "      <td>44.27</td>\n",
       "      <td>21.19</td>\n",
       "      <td>2024-02-16 17:45:00</td>\n",
       "      <td>44.27</td>\n",
       "      <td>0</td>\n",
       "      <td>0</td>\n",
       "    </tr>\n",
       "    <tr>\n",
       "      <th>7</th>\n",
       "      <td>2024-02-16 17:45:05</td>\n",
       "      <td>21.19</td>\n",
       "      <td>44.00</td>\n",
       "      <td>21.19</td>\n",
       "      <td>2024-02-16 17:45:05</td>\n",
       "      <td>44.00</td>\n",
       "      <td>0</td>\n",
       "      <td>0</td>\n",
       "    </tr>\n",
       "    <tr>\n",
       "      <th>8</th>\n",
       "      <td>2024-02-16 17:45:10</td>\n",
       "      <td>21.19</td>\n",
       "      <td>43.73</td>\n",
       "      <td>21.19</td>\n",
       "      <td>2024-02-16 17:45:10</td>\n",
       "      <td>43.73</td>\n",
       "      <td>0</td>\n",
       "      <td>0</td>\n",
       "    </tr>\n",
       "    <tr>\n",
       "      <th>9</th>\n",
       "      <td>2024-02-16 17:45:15</td>\n",
       "      <td>21.19</td>\n",
       "      <td>43.54</td>\n",
       "      <td>21.19</td>\n",
       "      <td>2024-02-16 17:45:15</td>\n",
       "      <td>43.54</td>\n",
       "      <td>0</td>\n",
       "      <td>0</td>\n",
       "    </tr>\n",
       "    <tr>\n",
       "      <th>10</th>\n",
       "      <td>2024-02-16 17:45:20</td>\n",
       "      <td>21.19</td>\n",
       "      <td>43.35</td>\n",
       "      <td>21.19</td>\n",
       "      <td>2024-02-16 17:45:20</td>\n",
       "      <td>43.35</td>\n",
       "      <td>0</td>\n",
       "      <td>0</td>\n",
       "    </tr>\n",
       "    <tr>\n",
       "      <th>11</th>\n",
       "      <td>2024-02-16 17:45:25</td>\n",
       "      <td>21.19</td>\n",
       "      <td>43.09</td>\n",
       "      <td>21.19</td>\n",
       "      <td>2024-02-16 17:45:25</td>\n",
       "      <td>43.09</td>\n",
       "      <td>0</td>\n",
       "      <td>0</td>\n",
       "    </tr>\n",
       "    <tr>\n",
       "      <th>12</th>\n",
       "      <td>2024-02-16 17:45:30</td>\n",
       "      <td>21.19</td>\n",
       "      <td>42.84</td>\n",
       "      <td>21.19</td>\n",
       "      <td>2024-02-16 17:45:30</td>\n",
       "      <td>42.84</td>\n",
       "      <td>0</td>\n",
       "      <td>0</td>\n",
       "    </tr>\n",
       "    <tr>\n",
       "      <th>13</th>\n",
       "      <td>2024-02-16 17:45:35</td>\n",
       "      <td>21.19</td>\n",
       "      <td>42.68</td>\n",
       "      <td>21.19</td>\n",
       "      <td>2024-02-16 17:45:35</td>\n",
       "      <td>42.68</td>\n",
       "      <td>0</td>\n",
       "      <td>0</td>\n",
       "    </tr>\n",
       "    <tr>\n",
       "      <th>14</th>\n",
       "      <td>2024-02-16 17:45:40</td>\n",
       "      <td>21.12</td>\n",
       "      <td>42.50</td>\n",
       "      <td>21.12</td>\n",
       "      <td>2024-02-16 17:45:40</td>\n",
       "      <td>42.50</td>\n",
       "      <td>0</td>\n",
       "      <td>0</td>\n",
       "    </tr>\n",
       "    <tr>\n",
       "      <th>15</th>\n",
       "      <td>2024-02-16 17:45:45</td>\n",
       "      <td>21.12</td>\n",
       "      <td>42.30</td>\n",
       "      <td>21.12</td>\n",
       "      <td>2024-02-16 17:45:45</td>\n",
       "      <td>42.30</td>\n",
       "      <td>0</td>\n",
       "      <td>0</td>\n",
       "    </tr>\n",
       "    <tr>\n",
       "      <th>16</th>\n",
       "      <td>2024-02-16 17:45:50</td>\n",
       "      <td>21.12</td>\n",
       "      <td>42.15</td>\n",
       "      <td>21.12</td>\n",
       "      <td>2024-02-16 17:45:50</td>\n",
       "      <td>42.15</td>\n",
       "      <td>0</td>\n",
       "      <td>0</td>\n",
       "    </tr>\n",
       "    <tr>\n",
       "      <th>17</th>\n",
       "      <td>2024-02-16 17:45:55</td>\n",
       "      <td>21.06</td>\n",
       "      <td>42.00</td>\n",
       "      <td>21.06</td>\n",
       "      <td>2024-02-16 17:45:55</td>\n",
       "      <td>42.00</td>\n",
       "      <td>0</td>\n",
       "      <td>0</td>\n",
       "    </tr>\n",
       "    <tr>\n",
       "      <th>18</th>\n",
       "      <td>2024-02-16 17:46:00</td>\n",
       "      <td>21.12</td>\n",
       "      <td>41.83</td>\n",
       "      <td>21.12</td>\n",
       "      <td>2024-02-16 17:46:00</td>\n",
       "      <td>41.83</td>\n",
       "      <td>0</td>\n",
       "      <td>0</td>\n",
       "    </tr>\n",
       "    <tr>\n",
       "      <th>19</th>\n",
       "      <td>2024-02-16 17:46:05</td>\n",
       "      <td>21.06</td>\n",
       "      <td>41.65</td>\n",
       "      <td>21.06</td>\n",
       "      <td>2024-02-16 17:46:05</td>\n",
       "      <td>41.65</td>\n",
       "      <td>0</td>\n",
       "      <td>0</td>\n",
       "    </tr>\n",
       "  </tbody>\n",
       "</table>\n",
       "</div>"
      ],
      "text/plain": [
       "                  time  Temperature  RelativeHumidity  Temp_anomaly  \\\n",
       "0  2024-02-16 17:44:30        21.12             48.45         21.12   \n",
       "1  2024-02-16 17:44:35        21.25             46.91         21.25   \n",
       "2  2024-02-16 17:44:40        21.25             45.93         21.25   \n",
       "3  2024-02-16 17:44:45        21.25             45.56         21.25   \n",
       "4  2024-02-16 17:44:50        21.25             45.18         21.25   \n",
       "5  2024-02-16 17:44:55        21.19             44.70         21.19   \n",
       "6  2024-02-16 17:45:00        21.19             44.27         21.19   \n",
       "7  2024-02-16 17:45:05        21.19             44.00         21.19   \n",
       "8  2024-02-16 17:45:10        21.19             43.73         21.19   \n",
       "9  2024-02-16 17:45:15        21.19             43.54         21.19   \n",
       "10 2024-02-16 17:45:20        21.19             43.35         21.19   \n",
       "11 2024-02-16 17:45:25        21.19             43.09         21.19   \n",
       "12 2024-02-16 17:45:30        21.19             42.84         21.19   \n",
       "13 2024-02-16 17:45:35        21.19             42.68         21.19   \n",
       "14 2024-02-16 17:45:40        21.12             42.50         21.12   \n",
       "15 2024-02-16 17:45:45        21.12             42.30         21.12   \n",
       "16 2024-02-16 17:45:50        21.12             42.15         21.12   \n",
       "17 2024-02-16 17:45:55        21.06             42.00         21.06   \n",
       "18 2024-02-16 17:46:00        21.12             41.83         21.12   \n",
       "19 2024-02-16 17:46:05        21.06             41.65         21.06   \n",
       "\n",
       "          anomaly_time  RH_anomaly  Temp_anomaly_labels  RH_anomaly_labels  \n",
       "0  2024-02-16 17:44:30       48.45                    0                  0  \n",
       "1  2024-02-16 17:44:35       46.91                    0                  0  \n",
       "2  2024-02-16 17:44:40       45.93                    0                  0  \n",
       "3  2024-02-16 17:44:45       45.56                    0                  0  \n",
       "4  2024-02-16 17:44:50       45.18                    0                  0  \n",
       "5  2024-02-16 17:44:55       44.70                    0                  0  \n",
       "6  2024-02-16 17:45:00       44.27                    0                  0  \n",
       "7  2024-02-16 17:45:05       44.00                    0                  0  \n",
       "8  2024-02-16 17:45:10       43.73                    0                  0  \n",
       "9  2024-02-16 17:45:15       43.54                    0                  0  \n",
       "10 2024-02-16 17:45:20       43.35                    0                  0  \n",
       "11 2024-02-16 17:45:25       43.09                    0                  0  \n",
       "12 2024-02-16 17:45:30       42.84                    0                  0  \n",
       "13 2024-02-16 17:45:35       42.68                    0                  0  \n",
       "14 2024-02-16 17:45:40       42.50                    0                  0  \n",
       "15 2024-02-16 17:45:45       42.30                    0                  0  \n",
       "16 2024-02-16 17:45:50       42.15                    0                  0  \n",
       "17 2024-02-16 17:45:55       42.00                    0                  0  \n",
       "18 2024-02-16 17:46:00       41.83                    0                  0  \n",
       "19 2024-02-16 17:46:05       41.65                    0                  0  "
      ]
     },
     "execution_count": 162,
     "metadata": {},
     "output_type": "execute_result"
    }
   ],
   "source": [
    "clean_df = new_df\n",
    "clean_df.head(20)"
   ]
  },
  {
   "cell_type": "code",
   "execution_count": 75,
   "metadata": {
    "colab": {
     "base_uri": "https://localhost:8080/"
    },
    "id": "au5BGsKW_t4o",
    "outputId": "192f0940-5e5e-42ea-aa30-95630dab55db"
   },
   "outputs": [
    {
     "name": "stdout",
     "output_type": "stream",
     "text": [
      "Requirement already satisfied: scalecast in /home/sean/anaconda3/lib/python3.8/site-packages (0.19.9)\n",
      "Requirement already satisfied: scikit-learn>=1.3.1 in /home/sean/anaconda3/lib/python3.8/site-packages (from scalecast) (1.3.2)\n",
      "Requirement already satisfied: statsmodels in /home/sean/anaconda3/lib/python3.8/site-packages (from scalecast) (0.14.1)\n",
      "Requirement already satisfied: tbats in /home/sean/anaconda3/lib/python3.8/site-packages (from scalecast) (1.1.3)\n",
      "Requirement already satisfied: scipy in /home/sean/anaconda3/lib/python3.8/site-packages (from scalecast) (1.5.2)\n",
      "Requirement already satisfied: numpy in /home/sean/anaconda3/lib/python3.8/site-packages (from scalecast) (1.24.3)\n",
      "Requirement already satisfied: pandas in /home/sean/anaconda3/lib/python3.8/site-packages (from scalecast) (2.0.3)\n",
      "Requirement already satisfied: matplotlib in /home/sean/anaconda3/lib/python3.8/site-packages (from scalecast) (3.7.5)\n",
      "Requirement already satisfied: seaborn>=0.13.0 in /home/sean/anaconda3/lib/python3.8/site-packages (from scalecast) (0.13.2)\n",
      "Requirement already satisfied: xgboost in /home/sean/anaconda3/lib/python3.8/site-packages (from scalecast) (2.1.1)\n",
      "Requirement already satisfied: lightgbm>=3.2.1 in /home/sean/anaconda3/lib/python3.8/site-packages (from scalecast) (4.5.0)\n",
      "Requirement already satisfied: dask>=2023.3.2 in /home/sean/anaconda3/lib/python3.8/site-packages (from scalecast) (2023.5.0)\n",
      "Requirement already satisfied: catboost in /home/sean/anaconda3/lib/python3.8/site-packages (from scalecast) (1.2.5)\n",
      "Requirement already satisfied: openpyxl in /home/sean/anaconda3/lib/python3.8/site-packages (from scalecast) (3.0.5)\n",
      "Requirement already satisfied: shap in /home/sean/anaconda3/lib/python3.8/site-packages (from scalecast) (0.44.1)\n",
      "Requirement already satisfied: threadpoolctl>=3.0 in /home/sean/anaconda3/lib/python3.8/site-packages (from scalecast) (3.5.0)\n",
      "Requirement already satisfied: click>=8.0 in /home/sean/anaconda3/lib/python3.8/site-packages (from dask>=2023.3.2->scalecast) (8.1.7)\n",
      "Requirement already satisfied: cloudpickle>=1.5.0 in /home/sean/anaconda3/lib/python3.8/site-packages (from dask>=2023.3.2->scalecast) (1.6.0)\n",
      "Requirement already satisfied: fsspec>=2021.09.0 in /home/sean/anaconda3/lib/python3.8/site-packages (from dask>=2023.3.2->scalecast) (2024.6.1)\n",
      "Requirement already satisfied: packaging>=20.0 in /home/sean/anaconda3/lib/python3.8/site-packages (from dask>=2023.3.2->scalecast) (24.1)\n",
      "Requirement already satisfied: partd>=1.2.0 in /home/sean/anaconda3/lib/python3.8/site-packages (from dask>=2023.3.2->scalecast) (1.4.1)\n",
      "Requirement already satisfied: pyyaml>=5.3.1 in /home/sean/anaconda3/lib/python3.8/site-packages (from dask>=2023.3.2->scalecast) (5.3.1)\n",
      "Requirement already satisfied: toolz>=0.10.0 in /home/sean/anaconda3/lib/python3.8/site-packages (from dask>=2023.3.2->scalecast) (0.11.1)\n",
      "Requirement already satisfied: importlib-metadata>=4.13.0 in /home/sean/anaconda3/lib/python3.8/site-packages (from dask>=2023.3.2->scalecast) (8.4.0)\n",
      "Requirement already satisfied: joblib>=1.1.1 in /home/sean/anaconda3/lib/python3.8/site-packages (from scikit-learn>=1.3.1->scalecast) (1.4.2)\n",
      "Requirement already satisfied: contourpy>=1.0.1 in /home/sean/anaconda3/lib/python3.8/site-packages (from matplotlib->scalecast) (1.1.1)\n",
      "Requirement already satisfied: cycler>=0.10 in /home/sean/anaconda3/lib/python3.8/site-packages (from matplotlib->scalecast) (0.10.0)\n",
      "Requirement already satisfied: fonttools>=4.22.0 in /home/sean/anaconda3/lib/python3.8/site-packages (from matplotlib->scalecast) (4.53.1)\n",
      "Requirement already satisfied: kiwisolver>=1.0.1 in /home/sean/anaconda3/lib/python3.8/site-packages (from matplotlib->scalecast) (1.3.0)\n",
      "Requirement already satisfied: pillow>=6.2.0 in /home/sean/anaconda3/lib/python3.8/site-packages (from matplotlib->scalecast) (8.0.1)\n",
      "Requirement already satisfied: pyparsing>=2.3.1 in /home/sean/anaconda3/lib/python3.8/site-packages (from matplotlib->scalecast) (2.4.7)\n",
      "Requirement already satisfied: python-dateutil>=2.7 in /home/sean/anaconda3/lib/python3.8/site-packages (from matplotlib->scalecast) (2.9.0.post0)\n",
      "Requirement already satisfied: importlib-resources>=3.2.0 in /home/sean/anaconda3/lib/python3.8/site-packages (from matplotlib->scalecast) (6.4.4)\n",
      "Requirement already satisfied: pytz>=2020.1 in /home/sean/anaconda3/lib/python3.8/site-packages (from pandas->scalecast) (2020.1)\n",
      "Requirement already satisfied: tzdata>=2022.1 in /home/sean/anaconda3/lib/python3.8/site-packages (from pandas->scalecast) (2024.1)\n",
      "Requirement already satisfied: graphviz in /home/sean/anaconda3/lib/python3.8/site-packages (from catboost->scalecast) (0.20.3)\n",
      "Requirement already satisfied: plotly in /home/sean/anaconda3/lib/python3.8/site-packages (from catboost->scalecast) (5.24.0)\n",
      "Requirement already satisfied: six in /home/sean/anaconda3/lib/python3.8/site-packages (from catboost->scalecast) (1.15.0)\n",
      "Requirement already satisfied: jdcal in /home/sean/anaconda3/lib/python3.8/site-packages (from openpyxl->scalecast) (1.4.1)\n",
      "Requirement already satisfied: et-xmlfile in /home/sean/anaconda3/lib/python3.8/site-packages (from openpyxl->scalecast) (1.0.1)\n",
      "Requirement already satisfied: tqdm>=4.27.0 in /home/sean/anaconda3/lib/python3.8/site-packages (from shap->scalecast) (4.50.2)\n",
      "Requirement already satisfied: slicer==0.0.7 in /home/sean/anaconda3/lib/python3.8/site-packages (from shap->scalecast) (0.0.7)\n",
      "Requirement already satisfied: numba in /home/sean/anaconda3/lib/python3.8/site-packages (from shap->scalecast) (0.51.2)\n",
      "Requirement already satisfied: patsy>=0.5.4 in /home/sean/anaconda3/lib/python3.8/site-packages (from statsmodels->scalecast) (0.5.6)\n",
      "Requirement already satisfied: pmdarima in /home/sean/anaconda3/lib/python3.8/site-packages (from tbats->scalecast) (2.0.4)\n",
      "Requirement already satisfied: nvidia-nccl-cu12 in /home/sean/anaconda3/lib/python3.8/site-packages (from xgboost->scalecast) (2.20.5)\n",
      "Requirement already satisfied: zipp>=0.5 in /home/sean/anaconda3/lib/python3.8/site-packages (from importlib-metadata>=4.13.0->dask>=2023.3.2->scalecast) (3.4.0)\n",
      "Requirement already satisfied: locket in /home/sean/anaconda3/lib/python3.8/site-packages (from partd>=1.2.0->dask>=2023.3.2->scalecast) (0.2.0)\n",
      "Requirement already satisfied: llvmlite<0.35,>=0.34.0.dev0 in /home/sean/anaconda3/lib/python3.8/site-packages (from numba->shap->scalecast) (0.34.0)\n",
      "Requirement already satisfied: setuptools in /home/sean/anaconda3/lib/python3.8/site-packages (from numba->shap->scalecast) (50.3.1.post20201107)\n",
      "Requirement already satisfied: tenacity>=6.2.0 in /home/sean/anaconda3/lib/python3.8/site-packages (from plotly->catboost->scalecast) (9.0.0)\n",
      "Requirement already satisfied: Cython!=0.29.18,!=0.29.31,>=0.29 in /home/sean/anaconda3/lib/python3.8/site-packages (from pmdarima->tbats->scalecast) (0.29.21)\n",
      "Requirement already satisfied: urllib3 in /home/sean/anaconda3/lib/python3.8/site-packages (from pmdarima->tbats->scalecast) (1.25.11)\n",
      "\u001b[33mWARNING: Error parsing dependencies of pyodbc: Invalid version: '4.0.0-unsupported'\u001b[0m\u001b[33m\n",
      "\u001b[0m\u001b[31mERROR: Exception:\n",
      "Traceback (most recent call last):\n",
      "  File \"/home/sean/anaconda3/lib/python3.8/site-packages/pip/_internal/cli/base_command.py\", line 105, in _run_wrapper\n",
      "    status = _inner_run()\n",
      "  File \"/home/sean/anaconda3/lib/python3.8/site-packages/pip/_internal/cli/base_command.py\", line 96, in _inner_run\n",
      "    return self.run(options, args)\n",
      "  File \"/home/sean/anaconda3/lib/python3.8/site-packages/pip/_internal/cli/req_command.py\", line 67, in wrapper\n",
      "    return func(self, options, args)\n",
      "  File \"/home/sean/anaconda3/lib/python3.8/site-packages/pip/_internal/commands/install.py\", line 483, in run\n",
      "    installed_versions[distribution.canonical_name] = distribution.version\n",
      "  File \"/home/sean/anaconda3/lib/python3.8/site-packages/pip/_internal/metadata/pkg_resources.py\", line 192, in version\n",
      "    return parse_version(self._dist.version)\n",
      "  File \"/home/sean/anaconda3/lib/python3.8/site-packages/pip/_vendor/packaging/version.py\", line 56, in parse\n",
      "    return Version(version)\n",
      "  File \"/home/sean/anaconda3/lib/python3.8/site-packages/pip/_vendor/packaging/version.py\", line 202, in __init__\n",
      "    raise InvalidVersion(f\"Invalid version: '{version}'\")\n",
      "pip._vendor.packaging.version.InvalidVersion: Invalid version: '4.0.0-unsupported'\u001b[0m\u001b[31m\n"
     ]
    },
    {
     "name": "stdout",
     "output_type": "stream",
     "text": [
      "\u001b[0mRequirement already satisfied: pandas_datareader in /home/sean/anaconda3/lib/python3.8/site-packages (0.10.0)\n",
      "Requirement already satisfied: lxml in /home/sean/anaconda3/lib/python3.8/site-packages (from pandas_datareader) (4.6.1)\n",
      "Requirement already satisfied: pandas>=0.23 in /home/sean/anaconda3/lib/python3.8/site-packages (from pandas_datareader) (2.0.3)\n",
      "Requirement already satisfied: requests>=2.19.0 in /home/sean/anaconda3/lib/python3.8/site-packages (from pandas_datareader) (2.24.0)\n",
      "Requirement already satisfied: python-dateutil>=2.8.2 in /home/sean/anaconda3/lib/python3.8/site-packages (from pandas>=0.23->pandas_datareader) (2.9.0.post0)\n",
      "Requirement already satisfied: pytz>=2020.1 in /home/sean/anaconda3/lib/python3.8/site-packages (from pandas>=0.23->pandas_datareader) (2020.1)\n",
      "Requirement already satisfied: tzdata>=2022.1 in /home/sean/anaconda3/lib/python3.8/site-packages (from pandas>=0.23->pandas_datareader) (2024.1)\n",
      "Requirement already satisfied: numpy>=1.20.3 in /home/sean/anaconda3/lib/python3.8/site-packages (from pandas>=0.23->pandas_datareader) (1.24.3)\n",
      "Requirement already satisfied: chardet<4,>=3.0.2 in /home/sean/anaconda3/lib/python3.8/site-packages (from requests>=2.19.0->pandas_datareader) (3.0.4)\n",
      "Requirement already satisfied: idna<3,>=2.5 in /home/sean/anaconda3/lib/python3.8/site-packages (from requests>=2.19.0->pandas_datareader) (2.10)\n",
      "Requirement already satisfied: urllib3!=1.25.0,!=1.25.1,<1.26,>=1.21.1 in /home/sean/anaconda3/lib/python3.8/site-packages (from requests>=2.19.0->pandas_datareader) (1.25.11)\n",
      "Requirement already satisfied: certifi>=2017.4.17 in /home/sean/anaconda3/lib/python3.8/site-packages (from requests>=2.19.0->pandas_datareader) (2020.6.20)\n",
      "Requirement already satisfied: six>=1.5 in /home/sean/anaconda3/lib/python3.8/site-packages (from python-dateutil>=2.8.2->pandas>=0.23->pandas_datareader) (1.15.0)\n",
      "\u001b[33mWARNING: Error parsing dependencies of pyodbc: Invalid version: '4.0.0-unsupported'\u001b[0m\u001b[33m\n",
      "\u001b[0m\u001b[31mERROR: Exception:\n",
      "Traceback (most recent call last):\n",
      "  File \"/home/sean/anaconda3/lib/python3.8/site-packages/pip/_internal/cli/base_command.py\", line 105, in _run_wrapper\n",
      "    status = _inner_run()\n",
      "  File \"/home/sean/anaconda3/lib/python3.8/site-packages/pip/_internal/cli/base_command.py\", line 96, in _inner_run\n",
      "    return self.run(options, args)\n",
      "  File \"/home/sean/anaconda3/lib/python3.8/site-packages/pip/_internal/cli/req_command.py\", line 67, in wrapper\n",
      "    return func(self, options, args)\n",
      "  File \"/home/sean/anaconda3/lib/python3.8/site-packages/pip/_internal/commands/install.py\", line 483, in run\n",
      "    installed_versions[distribution.canonical_name] = distribution.version\n",
      "  File \"/home/sean/anaconda3/lib/python3.8/site-packages/pip/_internal/metadata/pkg_resources.py\", line 192, in version\n",
      "    return parse_version(self._dist.version)\n",
      "  File \"/home/sean/anaconda3/lib/python3.8/site-packages/pip/_vendor/packaging/version.py\", line 56, in parse\n",
      "    return Version(version)\n",
      "  File \"/home/sean/anaconda3/lib/python3.8/site-packages/pip/_vendor/packaging/version.py\", line 202, in __init__\n",
      "    raise InvalidVersion(f\"Invalid version: '{version}'\")\n",
      "pip._vendor.packaging.version.InvalidVersion: Invalid version: '4.0.0-unsupported'\u001b[0m\u001b[31m\n",
      "\u001b[0m"
     ]
    }
   ],
   "source": [
    "!pip install scalecast\n",
    "!pip install pandas_datareader"
   ]
  },
  {
   "cell_type": "code",
   "execution_count": 163,
   "metadata": {
    "id": "Fz2UgqWP_t4o"
   },
   "outputs": [],
   "source": [
    "from statsmodels.tsa.seasonal import seasonal_decompose\n",
    "from scipy.stats import boxcox\n",
    "\n",
    "\n",
    "# Decompose to check temeprature components\n",
    "decomposition1 = seasonal_decompose(clean_df['Temp_anomaly'], model='additive', period=2300)\n",
    "clean_df['Temp_Trend'] = decomposition1.trend\n",
    "clean_df['Temp_Seasonality'] = decomposition1.seasonal\n",
    "clean_df['Temp_Residual'] = decomposition1.resid\n",
    "\n",
    "# Stationary temperature Series after removing trend and seasonality\n",
    "clean_df['Temp_Stationary'] = clean_df['Temp_anomaly'] - (clean_df['Temp_Trend'] - clean_df['Temp_Seasonality'])\n",
    "clean_df = clean_df.drop(columns=['Temp_Trend','Temp_Seasonality','Temp_Residual'], axis=1)\n",
    "\n",
    "# Decompose to check humidity components\n",
    "decomposition2 = seasonal_decompose(clean_df['RH_anomaly'], model='additive', period=2300)\n",
    "clean_df['RH_Trend'] = decomposition2.trend\n",
    "clean_df['RH_Seasonality'] = decomposition2.seasonal\n",
    "clean_df['RH_Residual'] = decomposition2.resid\n",
    "\n",
    "# Stationary humidity Series after removing trend and seasonality\n",
    "clean_df['RH_Stationary'] = clean_df['RH_anomaly'] - clean_df['RH_Trend'] - clean_df['RH_Seasonality']\n",
    "clean_df = clean_df.drop(columns=['RH_Trend','RH_Seasonality','RH_Residual'], axis=1)"
   ]
  },
  {
   "cell_type": "code",
   "execution_count": 164,
   "metadata": {
    "colab": {
     "base_uri": "https://localhost:8080/",
     "height": 178
    },
    "id": "nqVvHDIF_t4o",
    "outputId": "533aca89-ccc2-4ea7-8356-d38e85a1333c"
   },
   "outputs": [
    {
     "data": {
      "text/plain": [
       "RH_anomaly_labels\n",
       "0    595197\n",
       "1      4803\n",
       "Name: count, dtype: int64"
      ]
     },
     "execution_count": 164,
     "metadata": {},
     "output_type": "execute_result"
    }
   ],
   "source": [
    "new_df['RH_anomaly_labels'].value_counts()"
   ]
  },
  {
   "cell_type": "code",
   "execution_count": 165,
   "metadata": {
    "colab": {
     "base_uri": "https://localhost:8080/",
     "height": 178
    },
    "id": "mrp7tpFU_t4p",
    "outputId": "7af8f5d7-2c98-4d32-d564-0c9e5dbf6891"
   },
   "outputs": [
    {
     "data": {
      "text/plain": [
       "Temp_anomaly_labels\n",
       "0    593498\n",
       "1      6502\n",
       "Name: count, dtype: int64"
      ]
     },
     "execution_count": 165,
     "metadata": {},
     "output_type": "execute_result"
    }
   ],
   "source": [
    "new_df['Temp_anomaly_labels'].value_counts()"
   ]
  },
  {
   "cell_type": "code",
   "execution_count": 166,
   "metadata": {
    "colab": {
     "base_uri": "https://localhost:8080/",
     "height": 423
    },
    "id": "TJczVBsC_t4p",
    "outputId": "4be3bc4e-f9ac-4f03-9c98-33d5971314f1"
   },
   "outputs": [],
   "source": [
    "clean_df = clean_df.dropna(subset=['Temp_Stationary'])\n",
    "clean_df = clean_df.dropna(subset=['RH_Stationary'])"
   ]
  },
  {
   "cell_type": "code",
   "execution_count": 167,
   "metadata": {
    "colab": {
     "base_uri": "https://localhost:8080/",
     "height": 1000
    },
    "id": "DIhHqqSf_t4p",
    "outputId": "3dce6e02-b33b-45fb-a92e-c1fe5f6c4cba"
   },
   "outputs": [
    {
     "data": {
      "image/png": "[encoded data removed]",
      "text/plain": [
       "<Figure size 1080x720 with 2 Axes>"
      ]
     },
     "metadata": {
      "needs_background": "light"
     },
     "output_type": "display_data"
    }
   ],
   "source": [
    "import matplotlib.pyplot as plt\n",
    "\n",
    "# Create a figure with two subplots (one row, two columns)\n",
    "fig, axs = plt.subplots(2, 1, figsize=(15, 10))\n",
    "\n",
    "# Define font sizes for title, labels, and ticks\n",
    "title_fontsize = 24\n",
    "label_fontsize = 18\n",
    "tick_fontsize = 16\n",
    "\n",
    "# Plot Temp on the first subplot\n",
    "axs[0].plot(clean_df['time'], clean_df['Temp_Stationary'], label='Temp_Stationary')\n",
    "axs[0].set_xlabel('Timestamp', fontsize=label_fontsize)\n",
    "axs[0].set_ylabel('Amplitude Value', fontsize=label_fontsize)\n",
    "axs[0].set_title('Stationary Temperature Timeseries', fontsize=title_fontsize)\n",
    "axs[0].legend(fontsize=label_fontsize)\n",
    "axs[0].tick_params(axis='x', labelsize=tick_fontsize, rotation=45)  # Rotate x-axis labels for better readability\n",
    "axs[0].tick_params(axis='y', labelsize=tick_fontsize)\n",
    "\n",
    "# Plot RelativeHumidity on the second subplot\n",
    "axs[1].plot(clean_df['time'], clean_df['RH_Stationary'], label='RH_Stationary')\n",
    "axs[1].set_xlabel('Timestamp', fontsize=label_fontsize)\n",
    "axs[1].set_ylabel('Amplitude Value', fontsize=label_fontsize)\n",
    "axs[1].set_title('Stationary RelativeHumidity Timeseries', fontsize=title_fontsize)\n",
    "axs[1].legend(fontsize=label_fontsize)\n",
    "axs[1].tick_params(axis='x', labelsize=tick_fontsize, rotation=45)  # Rotate x-axis labels for better readability\n",
    "axs[1].tick_params(axis='y', labelsize=tick_fontsize)\n",
    "\n",
    "# Adjust layout to prevent clipping of labels\n",
    "plt.tight_layout()\n",
    "\n",
    "# Show the plot\n",
    "plt.show()"
   ]
  },
  {
   "cell_type": "markdown",
   "metadata": {},
   "source": [
    "# TEST FOR STATIONARITY OF TEMPERATURE DATA"
   ]
  },
  {
   "cell_type": "code",
   "execution_count": 168,
   "metadata": {
    "colab": {
     "base_uri": "https://localhost:8080/"
    },
    "id": "KdImnXjB_t4p",
    "outputId": "c540534c-a987-4188-a180-b01b62471a18"
   },
   "outputs": [
    {
     "name": "stdout",
     "output_type": "stream",
     "text": [
      "mean1=0.274440, mean2=0.236448\n",
      "variance1=0.680129, variance2=0.619927\n"
     ]
    }
   ],
   "source": [
    "X = abs(clean_df['Temp_Stationary'].values)\n",
    "split = int(len(X) / 2)\n",
    "X1, X2 = X[0:split], X[split:]\n",
    "mean1, mean2 = X1.mean(), X2.mean()\n",
    "var1, var2 = X1.var(), X2.var()\n",
    "print('mean1=%f, mean2=%f' % (mean1, mean2))\n",
    "print('variance1=%f, variance2=%f' % (var1, var2))"
   ]
  },
  {
   "cell_type": "markdown",
   "metadata": {},
   "source": [
    "# TEST FOR STATIONARITY OF TEMPERATURE DATA"
   ]
  },
  {
   "cell_type": "code",
   "execution_count": 169,
   "metadata": {
    "colab": {
     "base_uri": "https://localhost:8080/"
    },
    "id": "-DJ6-hkx_t4p",
    "outputId": "5e997f55-5d5f-409b-f8f6-44c00572fb51"
   },
   "outputs": [
    {
     "name": "stdout",
     "output_type": "stream",
     "text": [
      "mean1=0.304983, mean2=0.159661\n",
      "variance1=0.682180, variance2=0.061617\n"
     ]
    }
   ],
   "source": [
    "X = abs(clean_df['RH_Stationary'].values)\n",
    "split = int(len(X) / 2)\n",
    "X1, X2 = X[0:split], X[split:]\n",
    "mean1, mean2 = X1.mean(), X2.mean()\n",
    "var1, var2 = X1.var(), X2.var()\n",
    "print('mean1=%f, mean2=%f' % (mean1, mean2))\n",
    "print('variance1=%f, variance2=%f' % (var1, var2))"
   ]
  },
  {
   "cell_type": "code",
   "execution_count": 35,
   "metadata": {
    "id": "_ETWSvCq_t4s",
    "outputId": "35ca3faf-c5ab-40ba-ec8d-3be405002068"
   },
   "outputs": [
    {
     "name": "stdout",
     "output_type": "stream",
     "text": [
      "p-value: 0.0\n",
      "p-value: 0.0\n"
     ]
    }
   ],
   "source": [
    "from statsmodels.tsa.stattools import adfuller\n",
    "\n",
    "clean_df = clean_df.dropna(subset=['Temp_Stationary'])\n",
    "clean_df = clean_df.dropna(subset=['RH_Stationary'])\n",
    "\n",
    "adf_result1 = adfuller(abs(clean_df['Temp_Stationary']))\n",
    "adf_result2 = adfuller(abs(clean_df['RH_Stationary']))\n",
    "\n",
    "\n",
    "# Print the ADF test results\n",
    "#print(f\"ADF Statistic: {adf_result1[0]}\")\n",
    "print(f\"p-value: {adf_result1[1]}\")\n",
    "\n",
    "print(f\"p-value: {adf_result2[1]}\")"
   ]
  },
  {
   "cell_type": "markdown",
   "metadata": {},
   "source": [
    "# SUBTRACTION TECHNIQUE TO REDUCE TIME SERIES INTO ONE\n",
    "# SUBTRACTION OF HUMIDITY FROM TEMPERATURE"
   ]
  },
  {
   "cell_type": "code",
   "execution_count": 170,
   "metadata": {
    "colab": {
     "base_uri": "https://localhost:8080/",
     "height": 423
    },
    "id": "EK06xLUd_t4t",
    "outputId": "d2fe1f5e-ccd0-4619-fb6e-1aae0afcea1b"
   },
   "outputs": [
    {
     "data": {
      "text/html": [
       "<div>\n",
       "<style scoped>\n",
       "    .dataframe tbody tr th:only-of-type {\n",
       "        vertical-align: middle;\n",
       "    }\n",
       "\n",
       "    .dataframe tbody tr th {\n",
       "        vertical-align: top;\n",
       "    }\n",
       "\n",
       "    .dataframe thead th {\n",
       "        text-align: right;\n",
       "    }\n",
       "</style>\n",
       "<table border=\"1\" class=\"dataframe\">\n",
       "  <thead>\n",
       "    <tr style=\"text-align: right;\">\n",
       "      <th></th>\n",
       "      <th>time</th>\n",
       "      <th>Temperature</th>\n",
       "      <th>RelativeHumidity</th>\n",
       "      <th>Temp_anomaly</th>\n",
       "      <th>anomaly_time</th>\n",
       "      <th>RH_anomaly</th>\n",
       "      <th>Temp_anomaly_labels</th>\n",
       "      <th>RH_anomaly_labels</th>\n",
       "      <th>Temp_Stationary</th>\n",
       "      <th>RH_Stationary</th>\n",
       "      <th>Temp_RH_stationary</th>\n",
       "      <th>var_Temp_anomaly</th>\n",
       "      <th>var_RH_anomaly</th>\n",
       "    </tr>\n",
       "  </thead>\n",
       "  <tbody>\n",
       "    <tr>\n",
       "      <th>1150</th>\n",
       "      <td>2024-02-16 19:20:21</td>\n",
       "      <td>22.62</td>\n",
       "      <td>29.33</td>\n",
       "      <td>22.62</td>\n",
       "      <td>2024-02-16 19:20:21</td>\n",
       "      <td>29.33</td>\n",
       "      <td>0</td>\n",
       "      <td>0</td>\n",
       "      <td>0.031755</td>\n",
       "      <td>0.440788</td>\n",
       "      <td>0.409033</td>\n",
       "      <td>0.650389</td>\n",
       "      <td>0.377178</td>\n",
       "    </tr>\n",
       "    <tr>\n",
       "      <th>1151</th>\n",
       "      <td>2024-02-16 19:20:26</td>\n",
       "      <td>22.56</td>\n",
       "      <td>29.34</td>\n",
       "      <td>22.56</td>\n",
       "      <td>2024-02-16 19:20:26</td>\n",
       "      <td>29.34</td>\n",
       "      <td>0</td>\n",
       "      <td>0</td>\n",
       "      <td>0.086534</td>\n",
       "      <td>0.423971</td>\n",
       "      <td>0.337437</td>\n",
       "      <td>0.650389</td>\n",
       "      <td>0.377178</td>\n",
       "    </tr>\n",
       "    <tr>\n",
       "      <th>1152</th>\n",
       "      <td>2024-02-16 19:20:31</td>\n",
       "      <td>22.62</td>\n",
       "      <td>29.34</td>\n",
       "      <td>22.62</td>\n",
       "      <td>2024-02-16 19:20:31</td>\n",
       "      <td>29.34</td>\n",
       "      <td>0</td>\n",
       "      <td>0</td>\n",
       "      <td>0.031391</td>\n",
       "      <td>0.428796</td>\n",
       "      <td>0.397405</td>\n",
       "      <td>0.650389</td>\n",
       "      <td>0.377178</td>\n",
       "    </tr>\n",
       "    <tr>\n",
       "      <th>1153</th>\n",
       "      <td>2024-02-16 19:20:36</td>\n",
       "      <td>22.56</td>\n",
       "      <td>29.35</td>\n",
       "      <td>22.56</td>\n",
       "      <td>2024-02-16 19:20:36</td>\n",
       "      <td>29.35</td>\n",
       "      <td>0</td>\n",
       "      <td>0</td>\n",
       "      <td>0.095555</td>\n",
       "      <td>0.411125</td>\n",
       "      <td>0.315569</td>\n",
       "      <td>0.650389</td>\n",
       "      <td>0.377178</td>\n",
       "    </tr>\n",
       "    <tr>\n",
       "      <th>1154</th>\n",
       "      <td>2024-02-16 19:20:41</td>\n",
       "      <td>22.62</td>\n",
       "      <td>29.35</td>\n",
       "      <td>22.62</td>\n",
       "      <td>2024-02-16 19:20:41</td>\n",
       "      <td>29.35</td>\n",
       "      <td>0</td>\n",
       "      <td>0</td>\n",
       "      <td>0.033130</td>\n",
       "      <td>0.404073</td>\n",
       "      <td>0.370944</td>\n",
       "      <td>0.650389</td>\n",
       "      <td>0.377178</td>\n",
       "    </tr>\n",
       "    <tr>\n",
       "      <th>...</th>\n",
       "      <td>...</td>\n",
       "      <td>...</td>\n",
       "      <td>...</td>\n",
       "      <td>...</td>\n",
       "      <td>...</td>\n",
       "      <td>...</td>\n",
       "      <td>...</td>\n",
       "      <td>...</td>\n",
       "      <td>...</td>\n",
       "      <td>...</td>\n",
       "      <td>...</td>\n",
       "      <td>...</td>\n",
       "      <td>...</td>\n",
       "    </tr>\n",
       "    <tr>\n",
       "      <th>598845</th>\n",
       "      <td>2024-03-22 09:49:52</td>\n",
       "      <td>22.38</td>\n",
       "      <td>26.14</td>\n",
       "      <td>22.38</td>\n",
       "      <td>2024-03-22 09:49:52</td>\n",
       "      <td>26.14</td>\n",
       "      <td>0</td>\n",
       "      <td>0</td>\n",
       "      <td>0.174017</td>\n",
       "      <td>0.510440</td>\n",
       "      <td>0.336423</td>\n",
       "      <td>0.650389</td>\n",
       "      <td>0.377178</td>\n",
       "    </tr>\n",
       "    <tr>\n",
       "      <th>598846</th>\n",
       "      <td>2024-03-22 09:49:57</td>\n",
       "      <td>22.38</td>\n",
       "      <td>26.14</td>\n",
       "      <td>22.38</td>\n",
       "      <td>2024-03-22 09:49:57</td>\n",
       "      <td>26.14</td>\n",
       "      <td>0</td>\n",
       "      <td>0</td>\n",
       "      <td>0.189095</td>\n",
       "      <td>0.507042</td>\n",
       "      <td>0.317946</td>\n",
       "      <td>0.650389</td>\n",
       "      <td>0.377178</td>\n",
       "    </tr>\n",
       "    <tr>\n",
       "      <th>598847</th>\n",
       "      <td>2024-03-22 09:50:02</td>\n",
       "      <td>22.38</td>\n",
       "      <td>26.12</td>\n",
       "      <td>22.38</td>\n",
       "      <td>2024-03-22 09:50:02</td>\n",
       "      <td>26.12</td>\n",
       "      <td>0</td>\n",
       "      <td>0</td>\n",
       "      <td>0.172918</td>\n",
       "      <td>0.524795</td>\n",
       "      <td>0.351878</td>\n",
       "      <td>0.650389</td>\n",
       "      <td>0.377178</td>\n",
       "    </tr>\n",
       "    <tr>\n",
       "      <th>598848</th>\n",
       "      <td>2024-03-22 09:50:07</td>\n",
       "      <td>22.38</td>\n",
       "      <td>26.12</td>\n",
       "      <td>22.38</td>\n",
       "      <td>2024-03-22 09:50:07</td>\n",
       "      <td>26.12</td>\n",
       "      <td>0</td>\n",
       "      <td>0</td>\n",
       "      <td>0.174057</td>\n",
       "      <td>0.522435</td>\n",
       "      <td>0.348379</td>\n",
       "      <td>0.650389</td>\n",
       "      <td>0.377178</td>\n",
       "    </tr>\n",
       "    <tr>\n",
       "      <th>598849</th>\n",
       "      <td>2024-03-22 09:50:12</td>\n",
       "      <td>22.38</td>\n",
       "      <td>26.10</td>\n",
       "      <td>22.38</td>\n",
       "      <td>2024-03-22 09:50:12</td>\n",
       "      <td>26.10</td>\n",
       "      <td>0</td>\n",
       "      <td>0</td>\n",
       "      <td>0.170196</td>\n",
       "      <td>0.538657</td>\n",
       "      <td>0.368461</td>\n",
       "      <td>0.650389</td>\n",
       "      <td>0.377178</td>\n",
       "    </tr>\n",
       "  </tbody>\n",
       "</table>\n",
       "<p>597700 rows × 13 columns</p>\n",
       "</div>"
      ],
      "text/plain": [
       "                      time  Temperature  RelativeHumidity  Temp_anomaly  \\\n",
       "1150   2024-02-16 19:20:21        22.62             29.33         22.62   \n",
       "1151   2024-02-16 19:20:26        22.56             29.34         22.56   \n",
       "1152   2024-02-16 19:20:31        22.62             29.34         22.62   \n",
       "1153   2024-02-16 19:20:36        22.56             29.35         22.56   \n",
       "1154   2024-02-16 19:20:41        22.62             29.35         22.62   \n",
       "...                    ...          ...               ...           ...   \n",
       "598845 2024-03-22 09:49:52        22.38             26.14         22.38   \n",
       "598846 2024-03-22 09:49:57        22.38             26.14         22.38   \n",
       "598847 2024-03-22 09:50:02        22.38             26.12         22.38   \n",
       "598848 2024-03-22 09:50:07        22.38             26.12         22.38   \n",
       "598849 2024-03-22 09:50:12        22.38             26.10         22.38   \n",
       "\n",
       "              anomaly_time  RH_anomaly  Temp_anomaly_labels  \\\n",
       "1150   2024-02-16 19:20:21       29.33                    0   \n",
       "1151   2024-02-16 19:20:26       29.34                    0   \n",
       "1152   2024-02-16 19:20:31       29.34                    0   \n",
       "1153   2024-02-16 19:20:36       29.35                    0   \n",
       "1154   2024-02-16 19:20:41       29.35                    0   \n",
       "...                    ...         ...                  ...   \n",
       "598845 2024-03-22 09:49:52       26.14                    0   \n",
       "598846 2024-03-22 09:49:57       26.14                    0   \n",
       "598847 2024-03-22 09:50:02       26.12                    0   \n",
       "598848 2024-03-22 09:50:07       26.12                    0   \n",
       "598849 2024-03-22 09:50:12       26.10                    0   \n",
       "\n",
       "        RH_anomaly_labels  Temp_Stationary  RH_Stationary  Temp_RH_stationary  \\\n",
       "1150                    0         0.031755       0.440788            0.409033   \n",
       "1151                    0         0.086534       0.423971            0.337437   \n",
       "1152                    0         0.031391       0.428796            0.397405   \n",
       "1153                    0         0.095555       0.411125            0.315569   \n",
       "1154                    0         0.033130       0.404073            0.370944   \n",
       "...                   ...              ...            ...                 ...   \n",
       "598845                  0         0.174017       0.510440            0.336423   \n",
       "598846                  0         0.189095       0.507042            0.317946   \n",
       "598847                  0         0.172918       0.524795            0.351878   \n",
       "598848                  0         0.174057       0.522435            0.348379   \n",
       "598849                  0         0.170196       0.538657            0.368461   \n",
       "\n",
       "        var_Temp_anomaly  var_RH_anomaly  \n",
       "1150            0.650389        0.377178  \n",
       "1151            0.650389        0.377178  \n",
       "1152            0.650389        0.377178  \n",
       "1153            0.650389        0.377178  \n",
       "1154            0.650389        0.377178  \n",
       "...                  ...             ...  \n",
       "598845          0.650389        0.377178  \n",
       "598846          0.650389        0.377178  \n",
       "598847          0.650389        0.377178  \n",
       "598848          0.650389        0.377178  \n",
       "598849          0.650389        0.377178  \n",
       "\n",
       "[597700 rows x 13 columns]"
      ]
     },
     "execution_count": 170,
     "metadata": {},
     "output_type": "execute_result"
    }
   ],
   "source": [
    "clean_df['Temp_Stationary'] = abs(clean_df['Temp_Stationary'])\n",
    "clean_df['RH_Stationary'] = abs(clean_df['RH_Stationary'])\n",
    "\n",
    "clean_df['Temp_RH_stationary'] = abs(clean_df['Temp_Stationary'] - clean_df['RH_Stationary'])\n",
    "\n",
    "clean_df['var_Temp_anomaly'] = clean_df['Temp_Stationary'].var(ddof=0)\n",
    "clean_df['var_RH_anomaly'] = clean_df['RH_Stationary'].var(ddof=0)\n",
    "clean_df"
   ]
  },
  {
   "cell_type": "code",
   "execution_count": null,
   "metadata": {
    "colab": {
     "base_uri": "https://localhost:8080/",
     "height": 423
    },
    "id": "JK5bbBav_t4t",
    "outputId": "70606f44-b2ba-4921-f937-0a9d877d1d08"
   },
   "outputs": [],
   "source": []
  },
  {
   "cell_type": "markdown",
   "metadata": {},
   "source": [
    "# MANUAL LABELLING OF Z FEATURE CALLED ''Temp_RH_Anomaly_Labels''"
   ]
  },
  {
   "cell_type": "code",
   "execution_count": 171,
   "metadata": {
    "colab": {
     "base_uri": "https://localhost:8080/",
     "height": 423
    },
    "id": "_phdx5RrZaIU",
    "outputId": "004100b7-bd10-4dfa-a2cd-ebb8efc2db9a"
   },
   "outputs": [],
   "source": [
    "clean_df['Temp_RH_Anomaly_Labels'] = clean_df.apply(lambda row: 0 if (row['Temp_anomaly_labels'] == 0 and row['RH_anomaly_labels'] == 0) else 1, axis=1)"
   ]
  },
  {
   "cell_type": "code",
   "execution_count": 198,
   "metadata": {
    "colab": {
     "base_uri": "https://localhost:8080/",
     "height": 570
    },
    "id": "7zLh6WomyzMe",
    "outputId": "5971c5bd-f8dd-407e-8916-48de34c53ea3"
   },
   "outputs": [
    {
     "data": {
      "image/png": "[encoded data removed]",
      "text/plain": [
       "<Figure size 576x432 with 1 Axes>"
      ]
     },
     "metadata": {
      "needs_background": "light"
     },
     "output_type": "display_data"
    }
   ],
   "source": [
    "fig = plt.figure(figsize=(8, 6))\n",
    "sns.scatterplot(data=clean_df, x='Temp_Stationary', y='RH_Stationary')\n",
    "plt.title('', weight='bold', fontsize=15)\n",
    "plt.ylabel('Residual components Humidity', weight='bold', fontsize=12)\n",
    "plt.xlabel('Residual components Temeprature', weight='bold', fontsize=12)\n",
    "plt.show()"
   ]
  },
  {
   "cell_type": "code",
   "execution_count": null,
   "metadata": {
    "id": "4U6QUeVITll9"
   },
   "outputs": [],
   "source": []
  },
  {
   "cell_type": "markdown",
   "metadata": {},
   "source": [
    "# MODEL BUILDING, TESTING, EVALUATION   USING ONECLASS SVM"
   ]
  },
  {
   "cell_type": "code",
   "execution_count": 173,
   "metadata": {
    "id": "PTxUmpRj7tE4"
   },
   "outputs": [],
   "source": [
    "import pandas as pd\n",
    "from sklearn.preprocessing import StandardScaler\n",
    "from sklearn.svm import OneClassSVM\n",
    "from sklearn.metrics import accuracy_score, precision_score, recall_score, f1_score\n",
    "\n",
    "labelled_data = clean_df[['time', 'Temp_RH_Anomaly_Labels', 'Temp_RH_stationary']]"
   ]
  },
  {
   "cell_type": "code",
   "execution_count": 174,
   "metadata": {
    "colab": {
     "base_uri": "https://localhost:8080/",
     "height": 423
    },
    "id": "WfSZYA6Yb0Uw",
    "outputId": "f38896e2-de21-4612-fb7a-dde8f85b45ca"
   },
   "outputs": [
    {
     "data": {
      "text/html": [
       "<div>\n",
       "<style scoped>\n",
       "    .dataframe tbody tr th:only-of-type {\n",
       "        vertical-align: middle;\n",
       "    }\n",
       "\n",
       "    .dataframe tbody tr th {\n",
       "        vertical-align: top;\n",
       "    }\n",
       "\n",
       "    .dataframe thead th {\n",
       "        text-align: right;\n",
       "    }\n",
       "</style>\n",
       "<table border=\"1\" class=\"dataframe\">\n",
       "  <thead>\n",
       "    <tr style=\"text-align: right;\">\n",
       "      <th></th>\n",
       "      <th>time</th>\n",
       "      <th>Temp_RH_Anomaly_Labels</th>\n",
       "      <th>Temp_RH_stationary</th>\n",
       "    </tr>\n",
       "  </thead>\n",
       "  <tbody>\n",
       "    <tr>\n",
       "      <th>1150</th>\n",
       "      <td>2024-02-16 19:20:21</td>\n",
       "      <td>0</td>\n",
       "      <td>0.409033</td>\n",
       "    </tr>\n",
       "    <tr>\n",
       "      <th>1151</th>\n",
       "      <td>2024-02-16 19:20:26</td>\n",
       "      <td>0</td>\n",
       "      <td>0.337437</td>\n",
       "    </tr>\n",
       "    <tr>\n",
       "      <th>1152</th>\n",
       "      <td>2024-02-16 19:20:31</td>\n",
       "      <td>0</td>\n",
       "      <td>0.397405</td>\n",
       "    </tr>\n",
       "    <tr>\n",
       "      <th>1153</th>\n",
       "      <td>2024-02-16 19:20:36</td>\n",
       "      <td>0</td>\n",
       "      <td>0.315569</td>\n",
       "    </tr>\n",
       "    <tr>\n",
       "      <th>1154</th>\n",
       "      <td>2024-02-16 19:20:41</td>\n",
       "      <td>0</td>\n",
       "      <td>0.370944</td>\n",
       "    </tr>\n",
       "    <tr>\n",
       "      <th>...</th>\n",
       "      <td>...</td>\n",
       "      <td>...</td>\n",
       "      <td>...</td>\n",
       "    </tr>\n",
       "    <tr>\n",
       "      <th>598845</th>\n",
       "      <td>2024-03-22 09:49:52</td>\n",
       "      <td>0</td>\n",
       "      <td>0.336423</td>\n",
       "    </tr>\n",
       "    <tr>\n",
       "      <th>598846</th>\n",
       "      <td>2024-03-22 09:49:57</td>\n",
       "      <td>0</td>\n",
       "      <td>0.317946</td>\n",
       "    </tr>\n",
       "    <tr>\n",
       "      <th>598847</th>\n",
       "      <td>2024-03-22 09:50:02</td>\n",
       "      <td>0</td>\n",
       "      <td>0.351878</td>\n",
       "    </tr>\n",
       "    <tr>\n",
       "      <th>598848</th>\n",
       "      <td>2024-03-22 09:50:07</td>\n",
       "      <td>0</td>\n",
       "      <td>0.348379</td>\n",
       "    </tr>\n",
       "    <tr>\n",
       "      <th>598849</th>\n",
       "      <td>2024-03-22 09:50:12</td>\n",
       "      <td>0</td>\n",
       "      <td>0.368461</td>\n",
       "    </tr>\n",
       "  </tbody>\n",
       "</table>\n",
       "<p>597700 rows × 3 columns</p>\n",
       "</div>"
      ],
      "text/plain": [
       "                      time  Temp_RH_Anomaly_Labels  Temp_RH_stationary\n",
       "1150   2024-02-16 19:20:21                       0            0.409033\n",
       "1151   2024-02-16 19:20:26                       0            0.337437\n",
       "1152   2024-02-16 19:20:31                       0            0.397405\n",
       "1153   2024-02-16 19:20:36                       0            0.315569\n",
       "1154   2024-02-16 19:20:41                       0            0.370944\n",
       "...                    ...                     ...                 ...\n",
       "598845 2024-03-22 09:49:52                       0            0.336423\n",
       "598846 2024-03-22 09:49:57                       0            0.317946\n",
       "598847 2024-03-22 09:50:02                       0            0.351878\n",
       "598848 2024-03-22 09:50:07                       0            0.348379\n",
       "598849 2024-03-22 09:50:12                       0            0.368461\n",
       "\n",
       "[597700 rows x 3 columns]"
      ]
     },
     "execution_count": 174,
     "metadata": {},
     "output_type": "execute_result"
    }
   ],
   "source": [
    "labelled_data"
   ]
  },
  {
   "cell_type": "markdown",
   "metadata": {},
   "source": [
    "# NORMALIZATION"
   ]
  },
  {
   "cell_type": "code",
   "execution_count": 175,
   "metadata": {
    "colab": {
     "base_uri": "https://localhost:8080/"
    },
    "id": "Qi57Z3HTE2zD",
    "outputId": "45f77dc3-77e6-496d-85d9-53f71ca1938e"
   },
   "outputs": [
    {
     "name": "stderr",
     "output_type": "stream",
     "text": [
      "<ipython-input-175-181fca226024>:5: SettingWithCopyWarning: \n",
      "A value is trying to be set on a copy of a slice from a DataFrame.\n",
      "Try using .loc[row_indexer,col_indexer] = value instead\n",
      "\n",
      "See the caveats in the documentation: https://pandas.pydata.org/pandas-docs/stable/user_guide/indexing.html#returning-a-view-versus-a-copy\n",
      "  labelled_data['Temp_RH_diff_scaled'] = labelled_data['Temp_RH_stationary'].apply(lambda x: (x - val_min) / (val_max - val_min))\n"
     ]
    }
   ],
   "source": [
    "val_min = labelled_data['Temp_RH_stationary'].min()\n",
    "val_max = labelled_data['Temp_RH_stationary'].max()\n",
    "\n",
    "# Feature scaling\n",
    "labelled_data['Temp_RH_diff_scaled'] = labelled_data['Temp_RH_stationary'].apply(lambda x: (x - val_min) / (val_max - val_min))"
   ]
  },
  {
   "cell_type": "code",
   "execution_count": 176,
   "metadata": {
    "colab": {
     "base_uri": "https://localhost:8080/",
     "height": 423
    },
    "id": "qtFT8ITB_t4u",
    "outputId": "953ce5b1-5521-4de6-fed2-25bf788ad8e5"
   },
   "outputs": [
    {
     "data": {
      "text/html": [
       "<div>\n",
       "<style scoped>\n",
       "    .dataframe tbody tr th:only-of-type {\n",
       "        vertical-align: middle;\n",
       "    }\n",
       "\n",
       "    .dataframe tbody tr th {\n",
       "        vertical-align: top;\n",
       "    }\n",
       "\n",
       "    .dataframe thead th {\n",
       "        text-align: right;\n",
       "    }\n",
       "</style>\n",
       "<table border=\"1\" class=\"dataframe\">\n",
       "  <thead>\n",
       "    <tr style=\"text-align: right;\">\n",
       "      <th></th>\n",
       "      <th>time</th>\n",
       "      <th>Temp_RH_Anomaly_Labels</th>\n",
       "      <th>Temp_RH_stationary</th>\n",
       "      <th>Temp_RH_diff_scaled</th>\n",
       "    </tr>\n",
       "  </thead>\n",
       "  <tbody>\n",
       "    <tr>\n",
       "      <th>1150</th>\n",
       "      <td>2024-02-16 19:20:21</td>\n",
       "      <td>0</td>\n",
       "      <td>0.409033</td>\n",
       "      <td>0.033824</td>\n",
       "    </tr>\n",
       "    <tr>\n",
       "      <th>1151</th>\n",
       "      <td>2024-02-16 19:20:26</td>\n",
       "      <td>0</td>\n",
       "      <td>0.337437</td>\n",
       "      <td>0.027904</td>\n",
       "    </tr>\n",
       "    <tr>\n",
       "      <th>1152</th>\n",
       "      <td>2024-02-16 19:20:31</td>\n",
       "      <td>0</td>\n",
       "      <td>0.397405</td>\n",
       "      <td>0.032863</td>\n",
       "    </tr>\n",
       "    <tr>\n",
       "      <th>1153</th>\n",
       "      <td>2024-02-16 19:20:36</td>\n",
       "      <td>0</td>\n",
       "      <td>0.315569</td>\n",
       "      <td>0.026095</td>\n",
       "    </tr>\n",
       "    <tr>\n",
       "      <th>1154</th>\n",
       "      <td>2024-02-16 19:20:41</td>\n",
       "      <td>0</td>\n",
       "      <td>0.370944</td>\n",
       "      <td>0.030674</td>\n",
       "    </tr>\n",
       "    <tr>\n",
       "      <th>...</th>\n",
       "      <td>...</td>\n",
       "      <td>...</td>\n",
       "      <td>...</td>\n",
       "      <td>...</td>\n",
       "    </tr>\n",
       "    <tr>\n",
       "      <th>598845</th>\n",
       "      <td>2024-03-22 09:49:52</td>\n",
       "      <td>0</td>\n",
       "      <td>0.336423</td>\n",
       "      <td>0.027820</td>\n",
       "    </tr>\n",
       "    <tr>\n",
       "      <th>598846</th>\n",
       "      <td>2024-03-22 09:49:57</td>\n",
       "      <td>0</td>\n",
       "      <td>0.317946</td>\n",
       "      <td>0.026292</td>\n",
       "    </tr>\n",
       "    <tr>\n",
       "      <th>598847</th>\n",
       "      <td>2024-03-22 09:50:02</td>\n",
       "      <td>0</td>\n",
       "      <td>0.351878</td>\n",
       "      <td>0.029098</td>\n",
       "    </tr>\n",
       "    <tr>\n",
       "      <th>598848</th>\n",
       "      <td>2024-03-22 09:50:07</td>\n",
       "      <td>0</td>\n",
       "      <td>0.348379</td>\n",
       "      <td>0.028808</td>\n",
       "    </tr>\n",
       "    <tr>\n",
       "      <th>598849</th>\n",
       "      <td>2024-03-22 09:50:12</td>\n",
       "      <td>0</td>\n",
       "      <td>0.368461</td>\n",
       "      <td>0.030469</td>\n",
       "    </tr>\n",
       "  </tbody>\n",
       "</table>\n",
       "<p>597700 rows × 4 columns</p>\n",
       "</div>"
      ],
      "text/plain": [
       "                      time  Temp_RH_Anomaly_Labels  Temp_RH_stationary  \\\n",
       "1150   2024-02-16 19:20:21                       0            0.409033   \n",
       "1151   2024-02-16 19:20:26                       0            0.337437   \n",
       "1152   2024-02-16 19:20:31                       0            0.397405   \n",
       "1153   2024-02-16 19:20:36                       0            0.315569   \n",
       "1154   2024-02-16 19:20:41                       0            0.370944   \n",
       "...                    ...                     ...                 ...   \n",
       "598845 2024-03-22 09:49:52                       0            0.336423   \n",
       "598846 2024-03-22 09:49:57                       0            0.317946   \n",
       "598847 2024-03-22 09:50:02                       0            0.351878   \n",
       "598848 2024-03-22 09:50:07                       0            0.348379   \n",
       "598849 2024-03-22 09:50:12                       0            0.368461   \n",
       "\n",
       "        Temp_RH_diff_scaled  \n",
       "1150               0.033824  \n",
       "1151               0.027904  \n",
       "1152               0.032863  \n",
       "1153               0.026095  \n",
       "1154               0.030674  \n",
       "...                     ...  \n",
       "598845             0.027820  \n",
       "598846             0.026292  \n",
       "598847             0.029098  \n",
       "598848             0.028808  \n",
       "598849             0.030469  \n",
       "\n",
       "[597700 rows x 4 columns]"
      ]
     },
     "execution_count": 176,
     "metadata": {},
     "output_type": "execute_result"
    }
   ],
   "source": [
    "labelled_data"
   ]
  },
  {
   "cell_type": "markdown",
   "metadata": {},
   "source": [
    "# TRAIN TEST SPLIT "
   ]
  },
  {
   "cell_type": "code",
   "execution_count": 179,
   "metadata": {
    "id": "Ip9IoMLi3mld"
   },
   "outputs": [
    {
     "data": {
      "text/plain": [
       "187224"
      ]
     },
     "execution_count": 179,
     "metadata": {},
     "output_type": "execute_result"
    }
   ],
   "source": [
    "import pandas as pd\n",
    "from sklearn.preprocessing import StandardScaler\n",
    "from sklearn.svm import OneClassSVM\n",
    "from sklearn.metrics import roc_auc_score\n",
    "from sklearn.utils import shuffle  # To shuffle the data\n",
    "\n",
    "\n",
    "normal_group = labelled_data[labelled_data['Temp_RH_Anomaly_Labels'] != 1]  # Normal data\n",
    "anomaly_group = labelled_data[labelled_data['Temp_RH_Anomaly_Labels'] == 1]  # Anomalous data\n",
    "\n",
    "normal_group = normal_group[['Temp_RH_diff_scaled']]\n",
    "anomaly_group = anomaly_group[['Temp_RH_diff_scaled']]  # Anomalous data\n",
    "\n",
    "# Shuffle the data to randomize the order of the samples\n",
    "normal_group = shuffle(normal_group).reset_index(drop=True)\n",
    "anomaly_group = shuffle(anomaly_group).reset_index(drop=True)\n",
    "\n",
    "# Determine split indices for normal group\n",
    "split_index = int(len(normal_group) * 0.70)  # 60% for training, 40% for validation\n",
    "\n",
    "# Split normal data for training/validation\n",
    "X_train_normal = normal_group[:split_index]\n",
    "X_val_normal = normal_group[split_index:]\n",
    "\n",
    "X_val = pd.concat([X_val_normal, anomaly_group])\n",
    "\n",
    "# Shuffle the concatenated data to randomize the samples\n",
    "#X_val = X_val.sample(frac=1, random_state=42).reset_index(drop=True)\n",
    "\n",
    "# Further split the validation data into validation and unseen test data (64.5% for validation)\n",
    "#split_index_val = int(len(X_val) * 0.645)\n",
    "#X_val, X_val_test_unseen = X_val[:split_index_val], X_val[split_index_val:]\n",
    "\n",
    "# Testing and anomaly detection\n",
    "#X_val_scaled_anomaly = np.array(anomaly_group)\n",
    "\n",
    "# Convert Pandas Series to NumPy array\n",
    "X_train_normal = X_train_normal.to_numpy()\n",
    "X_val = X_val.to_numpy()\n",
    "\n",
    "# Reshape the array\n",
    "#X_train_normal = X_train_normal.reshape(-1, 1)\n",
    "#X_val = X_val.reshape(-1, 1)\n",
    "len(X_val)"
   ]
  },
  {
   "cell_type": "markdown",
   "metadata": {},
   "source": [
    "# MODEL FIT, TRAIN AND HYPER PARAMETER TUNING"
   ]
  },
  {
   "cell_type": "code",
   "execution_count": 180,
   "metadata": {
    "colab": {
     "base_uri": "https://localhost:8080/",
     "height": 75
    },
    "id": "vPtRG0sa5kKv",
    "outputId": "ca4be614-5b44-4ac4-943b-f106badaf5cd"
   },
   "outputs": [
    {
     "data": {
      "text/html": [
       "<style>#sk-container-id-2 {color: black;}#sk-container-id-2 pre{padding: 0;}#sk-container-id-2 div.sk-toggleable {background-color: white;}#sk-container-id-2 label.sk-toggleable__label {cursor: pointer;display: block;width: 100%;margin-bottom: 0;padding: 0.3em;box-sizing: border-box;text-align: center;}#sk-container-id-2 label.sk-toggleable__label-arrow:before {content: \"▸\";float: left;margin-right: 0.25em;color: #696969;}#sk-container-id-2 label.sk-toggleable__label-arrow:hover:before {color: black;}#sk-container-id-2 div.sk-estimator:hover label.sk-toggleable__label-arrow:before {color: black;}#sk-container-id-2 div.sk-toggleable__content {max-height: 0;max-width: 0;overflow: hidden;text-align: left;background-color: #f0f8ff;}#sk-container-id-2 div.sk-toggleable__content pre {margin: 0.2em;color: black;border-radius: 0.25em;background-color: #f0f8ff;}#sk-container-id-2 input.sk-toggleable__control:checked~div.sk-toggleable__content {max-height: 200px;max-width: 100%;overflow: auto;}#sk-container-id-2 input.sk-toggleable__control:checked~label.sk-toggleable__label-arrow:before {content: \"▾\";}#sk-container-id-2 div.sk-estimator input.sk-toggleable__control:checked~label.sk-toggleable__label {background-color: #d4ebff;}#sk-container-id-2 div.sk-label input.sk-toggleable__control:checked~label.sk-toggleable__label {background-color: #d4ebff;}#sk-container-id-2 input.sk-hidden--visually {border: 0;clip: rect(1px 1px 1px 1px);clip: rect(1px, 1px, 1px, 1px);height: 1px;margin: -1px;overflow: hidden;padding: 0;position: absolute;width: 1px;}#sk-container-id-2 div.sk-estimator {font-family: monospace;background-color: #f0f8ff;border: 1px dotted black;border-radius: 0.25em;box-sizing: border-box;margin-bottom: 0.5em;}#sk-container-id-2 div.sk-estimator:hover {background-color: #d4ebff;}#sk-container-id-2 div.sk-parallel-item::after {content: \"\";width: 100%;border-bottom: 1px solid gray;flex-grow: 1;}#sk-container-id-2 div.sk-label:hover label.sk-toggleable__label {background-color: #d4ebff;}#sk-container-id-2 div.sk-serial::before {content: \"\";position: absolute;border-left: 1px solid gray;box-sizing: border-box;top: 0;bottom: 0;left: 50%;z-index: 0;}#sk-container-id-2 div.sk-serial {display: flex;flex-direction: column;align-items: center;background-color: white;padding-right: 0.2em;padding-left: 0.2em;position: relative;}#sk-container-id-2 div.sk-item {position: relative;z-index: 1;}#sk-container-id-2 div.sk-parallel {display: flex;align-items: stretch;justify-content: center;background-color: white;position: relative;}#sk-container-id-2 div.sk-item::before, #sk-container-id-2 div.sk-parallel-item::before {content: \"\";position: absolute;border-left: 1px solid gray;box-sizing: border-box;top: 0;bottom: 0;left: 50%;z-index: -1;}#sk-container-id-2 div.sk-parallel-item {display: flex;flex-direction: column;z-index: 1;position: relative;background-color: white;}#sk-container-id-2 div.sk-parallel-item:first-child::after {align-self: flex-end;width: 50%;}#sk-container-id-2 div.sk-parallel-item:last-child::after {align-self: flex-start;width: 50%;}#sk-container-id-2 div.sk-parallel-item:only-child::after {width: 0;}#sk-container-id-2 div.sk-dashed-wrapped {border: 1px dashed gray;margin: 0 0.4em 0.5em 0.4em;box-sizing: border-box;padding-bottom: 0.4em;background-color: white;}#sk-container-id-2 div.sk-label label {font-family: monospace;font-weight: bold;display: inline-block;line-height: 1.2em;}#sk-container-id-2 div.sk-label-container {text-align: center;}#sk-container-id-2 div.sk-container {/* jupyter's `normalize.less` sets `[hidden] { display: none; }` but bootstrap.min.css set `[hidden] { display: none !important; }` so we also need the `!important` here to be able to override the default hidden behavior on the sphinx rendered scikit-learn.org. See: https://github.com/scikit-learn/scikit-learn/issues/21755 */display: inline-block !important;position: relative;}#sk-container-id-2 div.sk-text-repr-fallback {display: none;}</style><div id=\"sk-container-id-2\" class=\"sk-top-container\"><div class=\"sk-text-repr-fallback\"><pre>OneClassSVM(gamma=0.02, nu=0.016)</pre><b>In a Jupyter environment, please rerun this cell to show the HTML representation or trust the notebook. <br />On GitHub, the HTML representation is unable to render, please try loading this page with nbviewer.org.</b></div><div class=\"sk-container\" hidden><div class=\"sk-item\"><div class=\"sk-estimator sk-toggleable\"><input class=\"sk-toggleable__control sk-hidden--visually\" id=\"sk-estimator-id-2\" type=\"checkbox\" checked><label for=\"sk-estimator-id-2\" class=\"sk-toggleable__label sk-toggleable__label-arrow\">OneClassSVM</label><div class=\"sk-toggleable__content\"><pre>OneClassSVM(gamma=0.02, nu=0.016)</pre></div></div></div></div></div>"
      ],
      "text/plain": [
       "OneClassSVM(gamma=0.02, nu=0.016)"
      ]
     },
     "execution_count": 180,
     "metadata": {},
     "output_type": "execute_result"
    }
   ],
   "source": [
    "# Model Training\n",
    "clf = OneClassSVM(nu=0.016, kernel=\"rbf\", gamma=0.02)  # Adjust hyperparameters if needed\n",
    "clf.fit(X_train_normal)"
   ]
  },
  {
   "cell_type": "markdown",
   "metadata": {},
   "source": [
    "# MODEL TESTING"
   ]
  },
  {
   "cell_type": "code",
   "execution_count": 181,
   "metadata": {
    "id": "zvCbYwxx5oeM"
   },
   "outputs": [
    {
     "name": "stdout",
     "output_type": "stream",
     "text": [
      "Time taken to run the validation data: 45.417394161224365 seconds\n"
     ]
    }
   ],
   "source": [
    "import time\n",
    "\n",
    "# Start the timer\n",
    "start_time = time.time()\n",
    "\n",
    "# Predictions\n",
    "y_pred_val = clf.predict(X_val)  # Predictions: 1 for inliers, -1 for outliers\n",
    "\n",
    "# Model Evaluation\n",
    "y_val_true = [0] * len(X_val_normal) + [1] * len(anomaly_group)  # True labels: 1 for normal, -1 for anomaly\n",
    "\n",
    "# End the timer\n",
    "end_time = time.time()\n",
    "\n",
    "# Calculate the time taken\n",
    "execution_time = end_time - start_time\n",
    "print(f\"Time taken to run the validation data: {execution_time} seconds\")"
   ]
  },
  {
   "cell_type": "code",
   "execution_count": 182,
   "metadata": {},
   "outputs": [],
   "source": [
    "y_pred_val = np.where(y_pred_val == -1, 1, 0)"
   ]
  },
  {
   "cell_type": "markdown",
   "metadata": {},
   "source": [
    "# TESTING RESULTS"
   ]
  },
  {
   "cell_type": "code",
   "execution_count": 183,
   "metadata": {
    "colab": {
     "base_uri": "https://localhost:8080/"
    },
    "id": "jwR8BxSb5rk3",
    "outputId": "64c62386-ec42-457d-f82a-8da585ca041e"
   },
   "outputs": [
    {
     "name": "stdout",
     "output_type": "stream",
     "text": [
      "Precision: 0.7727097321910936\n",
      "Recall: 0.8856258292790801\n",
      "F1-Score: 0.82532355123238\n"
     ]
    }
   ],
   "source": [
    "precision = precision_score(y_val_true, y_pred_val, pos_label=1)\n",
    "recall = recall_score(y_val_true, y_pred_val, pos_label=1)\n",
    "f1 = f1_score(y_val_true, y_pred_val, pos_label=1)\n",
    "\n",
    "print(\"Precision:\", precision)\n",
    "print(\"Recall:\", recall)\n",
    "print(\"F1-Score:\", f1)"
   ]
  },
  {
   "cell_type": "code",
   "execution_count": 55,
   "metadata": {
    "colab": {
     "base_uri": "https://localhost:8080/",
     "height": 564
    },
    "id": "1_VO8eOeDk7S",
    "outputId": "7a1ae9d3-221d-4dd7-a253-efdc38ed7039"
   },
   "outputs": [
    {
     "data": {
      "image/png": "[encoded data removed]",
      "text/plain": [
       "<Figure size 576x432 with 2 Axes>"
      ]
     },
     "metadata": {
      "needs_background": "light"
     },
     "output_type": "display_data"
    }
   ],
   "source": [
    "import seaborn as sns\n",
    "import matplotlib.pyplot as plt\n",
    "from sklearn.metrics import confusion_matrix\n",
    "\n",
    "# Generate confusion matrix\n",
    "cm = confusion_matrix(y_val_true, y_pred_val)\n",
    "\n",
    "# Plot confusion matrix\n",
    "plt.figure(figsize=(8, 6))\n",
    "sns.heatmap(cm, annot=True, cmap='Blues', fmt='g', xticklabels=['Abnormal', 'Normal'], yticklabels=['Abnormal', 'Normal'])\n",
    "plt.xlabel('Predicted Label')\n",
    "plt.ylabel('True Label')\n",
    "plt.title('Confusion Matrix')\n",
    "plt.show()\n",
    "\n"
   ]
  },
  {
   "cell_type": "code",
   "execution_count": 54,
   "metadata": {
    "colab": {
     "base_uri": "https://localhost:8080/",
     "height": 472
    },
    "id": "r50S1E-xqo1e",
    "outputId": "5d35be35-ed47-479b-a0c0-f7a3b05b75d6"
   },
   "outputs": [
    {
     "data": {
      "image/png": "[encoded data removed]",
      "text/plain": [
       "<Figure size 432x288 with 1 Axes>"
      ]
     },
     "metadata": {
      "needs_background": "light"
     },
     "output_type": "display_data"
    }
   ],
   "source": [
    "import numpy as np\n",
    "import matplotlib.pyplot as plt\n",
    "\n",
    "# Scatter plot of normal instances\n",
    "plt.scatter(X_val_normal, np.zeros_like(X_val_normal), label='Normal', color='blue')\n",
    "\n",
    "# Scatter plot of anomaly instances\n",
    "plt.scatter(anomaly_group, np.zeros_like(anomaly_group), label='Anomaly', color='red')\n",
    "\n",
    "# Decision boundary plot\n",
    "xx = np.linspace(np.min(X_val), np.max(X_val), 100)\n",
    "yy = clf.decision_function(xx.reshape(-1, 1))\n",
    "plt.plot(xx, yy, label='Decision Boundary', linestyle='--', color='green')\n",
    "\n",
    "plt.xlabel('Temperature')\n",
    "plt.ylabel('Decision Function Value')\n",
    "plt.title('One-Class SVM Outlier Detection')\n",
    "plt.legend()\n",
    "plt.show()\n"
   ]
  },
  {
   "cell_type": "code",
   "execution_count": 51,
   "metadata": {
    "id": "Da1xWAhCzq2D"
   },
   "outputs": [],
   "source": []
  },
  {
   "cell_type": "code",
   "execution_count": 51,
   "metadata": {
    "id": "0ZqIsycWNzes"
   },
   "outputs": [],
   "source": []
  },
  {
   "cell_type": "code",
   "execution_count": 51,
   "metadata": {
    "id": "YpEtxW0pVP0N"
   },
   "outputs": [],
   "source": []
  },
  {
   "cell_type": "code",
   "execution_count": 51,
   "metadata": {
    "id": "Inbso_OwF3uS"
   },
   "outputs": [],
   "source": []
  },
  {
   "cell_type": "code",
   "execution_count": 51,
   "metadata": {
    "id": "rNpDvMdKBwHv"
   },
   "outputs": [],
   "source": []
  },
  {
   "cell_type": "code",
   "execution_count": 51,
   "metadata": {
    "id": "7zlNcDzIB4uh"
   },
   "outputs": [],
   "source": []
  },
  {
   "cell_type": "code",
   "execution_count": 51,
   "metadata": {
    "id": "W8cvkFwsB8GJ"
   },
   "outputs": [],
   "source": []
  },
  {
   "cell_type": "code",
   "execution_count": 51,
   "metadata": {
    "id": "2VfM8o53GchC"
   },
   "outputs": [],
   "source": []
  }
 ],
 "metadata": {
  "accelerator": "GPU",
  "colab": {
   "gpuType": "T4",
   "provenance": []
  },
  "kernelspec": {
   "display_name": "O_SVM",
   "language": "python",
   "name": "o_svm"
  },
  "language_info": {
   "codemirror_mode": {
    "name": "ipython",
    "version": 3
   },
   "file_extension": ".py",
   "mimetype": "text/x-python",
   "name": "python",
   "nbconvert_exporter": "python",
   "pygments_lexer": "ipython3",
   "version": "3.8.5"
  }
 },
 "nbformat": 4,
 "nbformat_minor": 1
}
