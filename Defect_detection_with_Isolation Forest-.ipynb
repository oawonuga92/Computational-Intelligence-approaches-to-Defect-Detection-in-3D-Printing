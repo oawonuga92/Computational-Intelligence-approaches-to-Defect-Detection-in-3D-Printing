{
 "cells": [
  {
   "cell_type": "code",
   "execution_count": 1,
   "metadata": {
    "colab": {
     "background_save": true
    },
    "id": "yubchrBmP0pX"
   },
   "outputs": [],
   "source": [
    "#!pip install numpy\n",
    "#!pip install pandas\n",
    "#!pip install matplotlib\n",
    "#!pip install scipy\n",
    "#!pip install plotly\n",
    "#!pip install scikit-learn\n",
    "#!pip install scikit-learn==0.24.2\n",
    "#!pip install hnswlib\n",
    "#!pip install annoy\n",
    "#!pip install seaborn"
   ]
  },
  {
   "cell_type": "code",
   "execution_count": 2,
   "metadata": {},
   "outputs": [],
   "source": [
    "#!pip install tensorflow"
   ]
  },
  {
   "cell_type": "code",
   "execution_count": 1,
   "metadata": {
    "id": "DiBNmSWjy6mS"
   },
   "outputs": [
    {
     "name": "stderr",
     "output_type": "stream",
     "text": [
      "/home/sean/anaconda3/lib/python3.8/site-packages/pandas/core/computation/expressions.py:20: UserWarning: Pandas requires version '2.7.3' or newer of 'numexpr' (version '2.7.1' currently installed).\n",
      "  from pandas.core.computation.check import NUMEXPR_INSTALLED\n"
     ]
    }
   ],
   "source": [
    "import numpy as np\n",
    "import pandas as pd\n",
    "import matplotlib.pyplot as plt\n",
    "import seaborn as sns\n",
    "from scipy.signal import butter, filtfilt\n",
    "from mpl_toolkits.mplot3d import Axes3D\n",
    "from scipy import signal"
   ]
  },
  {
   "cell_type": "code",
   "execution_count": 2,
   "metadata": {},
   "outputs": [],
   "source": [
    "import json\n",
    "import pandas as pd\n",
    "import numpy as np\n",
    "import matplotlib.pyplot as plt\n",
    "import datetime as dt\n",
    "#import plotly.express as px\n",
    "#import plotly.graph_objs as go\n",
    "from matplotlib import dates as mpl_dates\n",
    "from matplotlib import pyplot as plt"
   ]
  },
  {
   "cell_type": "code",
   "execution_count": 3,
   "metadata": {},
   "outputs": [],
   "source": [
    "#model and performance\n",
    "from sklearn.model_selection import train_test_split\n",
    "import tensorflow as tf\n",
    "from tensorflow.keras import layers, losses\n",
    "from sklearn.metrics import classification_report"
   ]
  },
  {
   "cell_type": "code",
   "execution_count": 4,
   "metadata": {
    "id": "jjLNFTZnMhrS"
   },
   "outputs": [],
   "source": [
    "df = pd.read_csv(\"3D_Printing_data.csv\")"
   ]
  },
  {
   "cell_type": "code",
   "execution_count": 5,
   "metadata": {
    "id": "iJbkHR9NvYq4"
   },
   "outputs": [
    {
     "data": {
      "text/html": [
       "<div>\n",
       "<style scoped>\n",
       "    .dataframe tbody tr th:only-of-type {\n",
       "        vertical-align: middle;\n",
       "    }\n",
       "\n",
       "    .dataframe tbody tr th {\n",
       "        vertical-align: top;\n",
       "    }\n",
       "\n",
       "    .dataframe thead th {\n",
       "        text-align: right;\n",
       "    }\n",
       "</style>\n",
       "<table border=\"1\" class=\"dataframe\">\n",
       "  <thead>\n",
       "    <tr style=\"text-align: right;\">\n",
       "      <th></th>\n",
       "      <th>ID</th>\n",
       "      <th>ts</th>\n",
       "      <th>Temp</th>\n",
       "      <th>RelativeHumidity</th>\n",
       "    </tr>\n",
       "  </thead>\n",
       "  <tbody>\n",
       "    <tr>\n",
       "      <th>0</th>\n",
       "      <td>3DPrinter_S5_Env</td>\n",
       "      <td>2024-02-21T11:57:15.000Z</td>\n",
       "      <td>21.6875</td>\n",
       "      <td>31.490845</td>\n",
       "    </tr>\n",
       "    <tr>\n",
       "      <th>1</th>\n",
       "      <td>3DPrinter_S5_Env</td>\n",
       "      <td>2024-02-21T11:57:20.000Z</td>\n",
       "      <td>21.6875</td>\n",
       "      <td>31.490845</td>\n",
       "    </tr>\n",
       "    <tr>\n",
       "      <th>2</th>\n",
       "      <td>3DPrinter_S5_Env</td>\n",
       "      <td>2024-02-21T11:57:25.000Z</td>\n",
       "      <td>21.7500</td>\n",
       "      <td>31.475586</td>\n",
       "    </tr>\n",
       "    <tr>\n",
       "      <th>3</th>\n",
       "      <td>3DPrinter_S5_Env</td>\n",
       "      <td>2024-02-21T11:57:30.000Z</td>\n",
       "      <td>21.6875</td>\n",
       "      <td>31.475586</td>\n",
       "    </tr>\n",
       "    <tr>\n",
       "      <th>4</th>\n",
       "      <td>3DPrinter_S5_Env</td>\n",
       "      <td>2024-02-21T11:57:35.000Z</td>\n",
       "      <td>21.6875</td>\n",
       "      <td>31.475586</td>\n",
       "    </tr>\n",
       "    <tr>\n",
       "      <th>...</th>\n",
       "      <td>...</td>\n",
       "      <td>...</td>\n",
       "      <td>...</td>\n",
       "      <td>...</td>\n",
       "    </tr>\n",
       "    <tr>\n",
       "      <th>1075376</th>\n",
       "      <td>3DPrinter_S5_Env</td>\n",
       "      <td>2024-04-13T20:59:21.000Z</td>\n",
       "      <td>25.8750</td>\n",
       "      <td>28.782410</td>\n",
       "    </tr>\n",
       "    <tr>\n",
       "      <th>1075377</th>\n",
       "      <td>3DPrinter_S5_Env</td>\n",
       "      <td>2024-04-13T20:59:26.000Z</td>\n",
       "      <td>25.8750</td>\n",
       "      <td>28.790039</td>\n",
       "    </tr>\n",
       "    <tr>\n",
       "      <th>1075378</th>\n",
       "      <td>3DPrinter_S5_Env</td>\n",
       "      <td>2024-04-13T20:59:31.000Z</td>\n",
       "      <td>25.8750</td>\n",
       "      <td>28.805298</td>\n",
       "    </tr>\n",
       "    <tr>\n",
       "      <th>1075379</th>\n",
       "      <td>3DPrinter_S5_Env</td>\n",
       "      <td>2024-04-13T20:59:36.000Z</td>\n",
       "      <td>25.9375</td>\n",
       "      <td>28.820557</td>\n",
       "    </tr>\n",
       "    <tr>\n",
       "      <th>1075380</th>\n",
       "      <td>3DPrinter_S5_Env</td>\n",
       "      <td>2024-04-13T20:59:41.000Z</td>\n",
       "      <td>25.8750</td>\n",
       "      <td>28.805298</td>\n",
       "    </tr>\n",
       "  </tbody>\n",
       "</table>\n",
       "<p>1075381 rows × 4 columns</p>\n",
       "</div>"
      ],
      "text/plain": [
       "                       ID                        ts     Temp  RelativeHumidity\n",
       "0        3DPrinter_S5_Env  2024-02-21T11:57:15.000Z  21.6875         31.490845\n",
       "1        3DPrinter_S5_Env  2024-02-21T11:57:20.000Z  21.6875         31.490845\n",
       "2        3DPrinter_S5_Env  2024-02-21T11:57:25.000Z  21.7500         31.475586\n",
       "3        3DPrinter_S5_Env  2024-02-21T11:57:30.000Z  21.6875         31.475586\n",
       "4        3DPrinter_S5_Env  2024-02-21T11:57:35.000Z  21.6875         31.475586\n",
       "...                   ...                       ...      ...               ...\n",
       "1075376  3DPrinter_S5_Env  2024-04-13T20:59:21.000Z  25.8750         28.782410\n",
       "1075377  3DPrinter_S5_Env  2024-04-13T20:59:26.000Z  25.8750         28.790039\n",
       "1075378  3DPrinter_S5_Env  2024-04-13T20:59:31.000Z  25.8750         28.805298\n",
       "1075379  3DPrinter_S5_Env  2024-04-13T20:59:36.000Z  25.9375         28.820557\n",
       "1075380  3DPrinter_S5_Env  2024-04-13T20:59:41.000Z  25.8750         28.805298\n",
       "\n",
       "[1075381 rows x 4 columns]"
      ]
     },
     "execution_count": 5,
     "metadata": {},
     "output_type": "execute_result"
    }
   ],
   "source": [
    "df"
   ]
  },
  {
   "cell_type": "code",
   "execution_count": 6,
   "metadata": {
    "colab": {
     "base_uri": "https://localhost:8080/",
     "height": 300
    },
    "id": "JGkY5tUpZvZ2",
    "outputId": "d3ec5820-b7e7-4a4f-cbc9-0c93b2b6d12a"
   },
   "outputs": [
    {
     "data": {
      "text/html": [
       "<div>\n",
       "<style scoped>\n",
       "    .dataframe tbody tr th:only-of-type {\n",
       "        vertical-align: middle;\n",
       "    }\n",
       "\n",
       "    .dataframe tbody tr th {\n",
       "        vertical-align: top;\n",
       "    }\n",
       "\n",
       "    .dataframe thead th {\n",
       "        text-align: right;\n",
       "    }\n",
       "</style>\n",
       "<table border=\"1\" class=\"dataframe\">\n",
       "  <thead>\n",
       "    <tr style=\"text-align: right;\">\n",
       "      <th></th>\n",
       "      <th>Temp</th>\n",
       "      <th>RelativeHumidity</th>\n",
       "    </tr>\n",
       "  </thead>\n",
       "  <tbody>\n",
       "    <tr>\n",
       "      <th>count</th>\n",
       "      <td>1.007983e+06</td>\n",
       "      <td>1.075381e+06</td>\n",
       "    </tr>\n",
       "    <tr>\n",
       "      <th>mean</th>\n",
       "      <td>2.020231e+01</td>\n",
       "      <td>3.023567e+01</td>\n",
       "    </tr>\n",
       "    <tr>\n",
       "      <th>std</th>\n",
       "      <td>3.251303e+00</td>\n",
       "      <td>3.392731e+00</td>\n",
       "    </tr>\n",
       "    <tr>\n",
       "      <th>min</th>\n",
       "      <td>1.087500e+01</td>\n",
       "      <td>1.861243e+01</td>\n",
       "    </tr>\n",
       "    <tr>\n",
       "      <th>25%</th>\n",
       "      <td>1.856250e+01</td>\n",
       "      <td>2.808051e+01</td>\n",
       "    </tr>\n",
       "    <tr>\n",
       "      <th>50%</th>\n",
       "      <td>2.037500e+01</td>\n",
       "      <td>3.010992e+01</td>\n",
       "    </tr>\n",
       "    <tr>\n",
       "      <th>75%</th>\n",
       "      <td>2.218750e+01</td>\n",
       "      <td>3.225378e+01</td>\n",
       "    </tr>\n",
       "    <tr>\n",
       "      <th>max</th>\n",
       "      <td>3.293750e+01</td>\n",
       "      <td>4.845099e+01</td>\n",
       "    </tr>\n",
       "  </tbody>\n",
       "</table>\n",
       "</div>"
      ],
      "text/plain": [
       "               Temp  RelativeHumidity\n",
       "count  1.007983e+06      1.075381e+06\n",
       "mean   2.020231e+01      3.023567e+01\n",
       "std    3.251303e+00      3.392731e+00\n",
       "min    1.087500e+01      1.861243e+01\n",
       "25%    1.856250e+01      2.808051e+01\n",
       "50%    2.037500e+01      3.010992e+01\n",
       "75%    2.218750e+01      3.225378e+01\n",
       "max    3.293750e+01      4.845099e+01"
      ]
     },
     "execution_count": 6,
     "metadata": {},
     "output_type": "execute_result"
    }
   ],
   "source": [
    "df.describe()"
   ]
  },
  {
   "cell_type": "code",
   "execution_count": 7,
   "metadata": {
    "colab": {
     "base_uri": "https://localhost:8080/"
    },
    "id": "8ITC0jSlavax",
    "outputId": "824937ec-697c-4e42-8749-0b17cb1acff3"
   },
   "outputs": [
    {
     "name": "stdout",
     "output_type": "stream",
     "text": [
      "<class 'pandas.core.frame.DataFrame'>\n",
      "RangeIndex: 1075381 entries, 0 to 1075380\n",
      "Data columns (total 4 columns):\n",
      " #   Column            Non-Null Count    Dtype  \n",
      "---  ------            --------------    -----  \n",
      " 0   ID                1075381 non-null  object \n",
      " 1   ts                1075381 non-null  object \n",
      " 2   Temp              1007983 non-null  float64\n",
      " 3   RelativeHumidity  1075381 non-null  float64\n",
      "dtypes: float64(2), object(2)\n",
      "memory usage: 32.8+ MB\n"
     ]
    }
   ],
   "source": [
    "df.info()"
   ]
  },
  {
   "cell_type": "code",
   "execution_count": 8,
   "metadata": {
    "colab": {
     "base_uri": "https://localhost:8080/",
     "height": 210
    },
    "id": "hTlKZRcn_t4j",
    "outputId": "8b0352c8-19cc-4ca1-931e-fa9ca090ba31"
   },
   "outputs": [
    {
     "data": {
      "text/plain": [
       "ID                      0\n",
       "ts                      0\n",
       "Temp                67398\n",
       "RelativeHumidity        0\n",
       "dtype: int64"
      ]
     },
     "execution_count": 8,
     "metadata": {},
     "output_type": "execute_result"
    }
   ],
   "source": [
    "df.isna().sum()"
   ]
  },
  {
   "cell_type": "code",
   "execution_count": 9,
   "metadata": {
    "id": "Q1j67s91_t4j"
   },
   "outputs": [],
   "source": [
    "df.rename(columns={'ts': 'time'}, inplace=True)\n",
    "df.rename(columns={'Temp': 'Temperature'}, inplace=True)"
   ]
  },
  {
   "cell_type": "code",
   "execution_count": 10,
   "metadata": {
    "id": "wUSNbCQl_t4k"
   },
   "outputs": [],
   "source": [
    "df = df.sort_values(by='time', ascending=True)\n",
    "\n",
    "df = df.head(600000)\n",
    "\n",
    "df = df.reset_index(drop=True)"
   ]
  },
  {
   "cell_type": "code",
   "execution_count": 11,
   "metadata": {
    "id": "ZBW28SNC_t4k"
   },
   "outputs": [],
   "source": [
    "df['time'] = pd.to_datetime(df['time'])\n",
    "df['time'] = df['time'].dt.tz_localize(None)\n",
    "df = df.drop(columns=['ID'],axis=1)"
   ]
  },
  {
   "cell_type": "code",
   "execution_count": 12,
   "metadata": {
    "colab": {
     "base_uri": "https://localhost:8080/",
     "height": 424
    },
    "id": "LVRnsh1G_t4k",
    "outputId": "c61524b4-d097-4be9-8b73-cd45c36e7b65"
   },
   "outputs": [
    {
     "data": {
      "text/html": [
       "<div>\n",
       "<style scoped>\n",
       "    .dataframe tbody tr th:only-of-type {\n",
       "        vertical-align: middle;\n",
       "    }\n",
       "\n",
       "    .dataframe tbody tr th {\n",
       "        vertical-align: top;\n",
       "    }\n",
       "\n",
       "    .dataframe thead th {\n",
       "        text-align: right;\n",
       "    }\n",
       "</style>\n",
       "<table border=\"1\" class=\"dataframe\">\n",
       "  <thead>\n",
       "    <tr style=\"text-align: right;\">\n",
       "      <th></th>\n",
       "      <th>time</th>\n",
       "      <th>Temperature</th>\n",
       "      <th>RelativeHumidity</th>\n",
       "    </tr>\n",
       "  </thead>\n",
       "  <tbody>\n",
       "    <tr>\n",
       "      <th>0</th>\n",
       "      <td>2024-02-16 17:44:30</td>\n",
       "      <td>21.1250</td>\n",
       "      <td>48.450989</td>\n",
       "    </tr>\n",
       "    <tr>\n",
       "      <th>1</th>\n",
       "      <td>2024-02-16 17:44:35</td>\n",
       "      <td>21.2500</td>\n",
       "      <td>46.909851</td>\n",
       "    </tr>\n",
       "    <tr>\n",
       "      <th>2</th>\n",
       "      <td>2024-02-16 17:44:40</td>\n",
       "      <td>21.2500</td>\n",
       "      <td>45.925659</td>\n",
       "    </tr>\n",
       "    <tr>\n",
       "      <th>3</th>\n",
       "      <td>2024-02-16 17:44:45</td>\n",
       "      <td>21.2500</td>\n",
       "      <td>45.559448</td>\n",
       "    </tr>\n",
       "    <tr>\n",
       "      <th>4</th>\n",
       "      <td>2024-02-16 17:44:50</td>\n",
       "      <td>21.2500</td>\n",
       "      <td>45.177979</td>\n",
       "    </tr>\n",
       "    <tr>\n",
       "      <th>...</th>\n",
       "      <td>...</td>\n",
       "      <td>...</td>\n",
       "      <td>...</td>\n",
       "    </tr>\n",
       "    <tr>\n",
       "      <th>599995</th>\n",
       "      <td>2024-03-22 11:25:44</td>\n",
       "      <td>24.6250</td>\n",
       "      <td>23.617310</td>\n",
       "    </tr>\n",
       "    <tr>\n",
       "      <th>599996</th>\n",
       "      <td>2024-03-22 11:25:49</td>\n",
       "      <td>24.5625</td>\n",
       "      <td>23.609680</td>\n",
       "    </tr>\n",
       "    <tr>\n",
       "      <th>599997</th>\n",
       "      <td>2024-03-22 11:25:54</td>\n",
       "      <td>24.5625</td>\n",
       "      <td>23.609680</td>\n",
       "    </tr>\n",
       "    <tr>\n",
       "      <th>599998</th>\n",
       "      <td>2024-03-22 11:25:59</td>\n",
       "      <td>24.5625</td>\n",
       "      <td>23.632568</td>\n",
       "    </tr>\n",
       "    <tr>\n",
       "      <th>599999</th>\n",
       "      <td>2024-03-22 11:26:04</td>\n",
       "      <td>24.5625</td>\n",
       "      <td>23.632568</td>\n",
       "    </tr>\n",
       "  </tbody>\n",
       "</table>\n",
       "<p>600000 rows × 3 columns</p>\n",
       "</div>"
      ],
      "text/plain": [
       "                      time  Temperature  RelativeHumidity\n",
       "0      2024-02-16 17:44:30      21.1250         48.450989\n",
       "1      2024-02-16 17:44:35      21.2500         46.909851\n",
       "2      2024-02-16 17:44:40      21.2500         45.925659\n",
       "3      2024-02-16 17:44:45      21.2500         45.559448\n",
       "4      2024-02-16 17:44:50      21.2500         45.177979\n",
       "...                    ...          ...               ...\n",
       "599995 2024-03-22 11:25:44      24.6250         23.617310\n",
       "599996 2024-03-22 11:25:49      24.5625         23.609680\n",
       "599997 2024-03-22 11:25:54      24.5625         23.609680\n",
       "599998 2024-03-22 11:25:59      24.5625         23.632568\n",
       "599999 2024-03-22 11:26:04      24.5625         23.632568\n",
       "\n",
       "[600000 rows x 3 columns]"
      ]
     },
     "execution_count": 12,
     "metadata": {},
     "output_type": "execute_result"
    }
   ],
   "source": [
    "df"
   ]
  },
  {
   "cell_type": "code",
   "execution_count": 13,
   "metadata": {
    "id": "OfAMe3-TgS3-"
   },
   "outputs": [],
   "source": [
    "df['Temperature'] = round(df['Temperature'], 2)\n",
    "df['RelativeHumidity'] = round(df['RelativeHumidity'], 2)"
   ]
  },
  {
   "cell_type": "code",
   "execution_count": 14,
   "metadata": {
    "id": "Z_zVHP9QuWUx"
   },
   "outputs": [],
   "source": [
    "filled_df = df\n",
    "new_df1 = filled_df"
   ]
  },
  {
   "cell_type": "code",
   "execution_count": 15,
   "metadata": {
    "colab": {
     "base_uri": "https://localhost:8080/",
     "height": 424
    },
    "id": "vpTaTljQxP3b",
    "outputId": "fb61a8dd-6f22-4184-9a3d-d07965ea2b75"
   },
   "outputs": [
    {
     "data": {
      "text/html": [
       "<div>\n",
       "<style scoped>\n",
       "    .dataframe tbody tr th:only-of-type {\n",
       "        vertical-align: middle;\n",
       "    }\n",
       "\n",
       "    .dataframe tbody tr th {\n",
       "        vertical-align: top;\n",
       "    }\n",
       "\n",
       "    .dataframe thead th {\n",
       "        text-align: right;\n",
       "    }\n",
       "</style>\n",
       "<table border=\"1\" class=\"dataframe\">\n",
       "  <thead>\n",
       "    <tr style=\"text-align: right;\">\n",
       "      <th></th>\n",
       "      <th>time</th>\n",
       "      <th>Temperature</th>\n",
       "      <th>RelativeHumidity</th>\n",
       "    </tr>\n",
       "  </thead>\n",
       "  <tbody>\n",
       "    <tr>\n",
       "      <th>0</th>\n",
       "      <td>2024-02-16 17:44:30</td>\n",
       "      <td>21.12</td>\n",
       "      <td>48.45</td>\n",
       "    </tr>\n",
       "    <tr>\n",
       "      <th>1</th>\n",
       "      <td>2024-02-16 17:44:35</td>\n",
       "      <td>21.25</td>\n",
       "      <td>46.91</td>\n",
       "    </tr>\n",
       "    <tr>\n",
       "      <th>2</th>\n",
       "      <td>2024-02-16 17:44:40</td>\n",
       "      <td>21.25</td>\n",
       "      <td>45.93</td>\n",
       "    </tr>\n",
       "    <tr>\n",
       "      <th>3</th>\n",
       "      <td>2024-02-16 17:44:45</td>\n",
       "      <td>21.25</td>\n",
       "      <td>45.56</td>\n",
       "    </tr>\n",
       "    <tr>\n",
       "      <th>4</th>\n",
       "      <td>2024-02-16 17:44:50</td>\n",
       "      <td>21.25</td>\n",
       "      <td>45.18</td>\n",
       "    </tr>\n",
       "    <tr>\n",
       "      <th>...</th>\n",
       "      <td>...</td>\n",
       "      <td>...</td>\n",
       "      <td>...</td>\n",
       "    </tr>\n",
       "    <tr>\n",
       "      <th>599995</th>\n",
       "      <td>2024-03-22 11:25:44</td>\n",
       "      <td>24.62</td>\n",
       "      <td>23.62</td>\n",
       "    </tr>\n",
       "    <tr>\n",
       "      <th>599996</th>\n",
       "      <td>2024-03-22 11:25:49</td>\n",
       "      <td>24.56</td>\n",
       "      <td>23.61</td>\n",
       "    </tr>\n",
       "    <tr>\n",
       "      <th>599997</th>\n",
       "      <td>2024-03-22 11:25:54</td>\n",
       "      <td>24.56</td>\n",
       "      <td>23.61</td>\n",
       "    </tr>\n",
       "    <tr>\n",
       "      <th>599998</th>\n",
       "      <td>2024-03-22 11:25:59</td>\n",
       "      <td>24.56</td>\n",
       "      <td>23.63</td>\n",
       "    </tr>\n",
       "    <tr>\n",
       "      <th>599999</th>\n",
       "      <td>2024-03-22 11:26:04</td>\n",
       "      <td>24.56</td>\n",
       "      <td>23.63</td>\n",
       "    </tr>\n",
       "  </tbody>\n",
       "</table>\n",
       "<p>600000 rows × 3 columns</p>\n",
       "</div>"
      ],
      "text/plain": [
       "                      time  Temperature  RelativeHumidity\n",
       "0      2024-02-16 17:44:30        21.12             48.45\n",
       "1      2024-02-16 17:44:35        21.25             46.91\n",
       "2      2024-02-16 17:44:40        21.25             45.93\n",
       "3      2024-02-16 17:44:45        21.25             45.56\n",
       "4      2024-02-16 17:44:50        21.25             45.18\n",
       "...                    ...          ...               ...\n",
       "599995 2024-03-22 11:25:44        24.62             23.62\n",
       "599996 2024-03-22 11:25:49        24.56             23.61\n",
       "599997 2024-03-22 11:25:54        24.56             23.61\n",
       "599998 2024-03-22 11:25:59        24.56             23.63\n",
       "599999 2024-03-22 11:26:04        24.56             23.63\n",
       "\n",
       "[600000 rows x 3 columns]"
      ]
     },
     "execution_count": 15,
     "metadata": {},
     "output_type": "execute_result"
    }
   ],
   "source": [
    "new_df = new_df1\n",
    "new_df"
   ]
  },
  {
   "cell_type": "markdown",
   "metadata": {
    "id": "m39dLXsY0Ndh"
   },
   "source": [
    "# MISSING DATA IMPUTATION"
   ]
  },
  {
   "cell_type": "code",
   "execution_count": 16,
   "metadata": {
    "colab": {
     "base_uri": "https://localhost:8080/",
     "height": 421
    },
    "id": "XLzUzLzckaSu",
    "outputId": "4e822944-599e-4e39-aa90-0e61687328f4"
   },
   "outputs": [
    {
     "name": "stdout",
     "output_type": "stream",
     "text": [
      "                      time  Temperature  RelativeHumidity\n",
      "0      2024-02-16 17:44:30        21.12             48.45\n",
      "1      2024-02-16 17:44:35        21.25             46.91\n",
      "2      2024-02-16 17:44:40        21.25             45.93\n",
      "3      2024-02-16 17:44:45        21.25             45.56\n",
      "4      2024-02-16 17:44:50        21.25             45.18\n",
      "...                    ...          ...               ...\n",
      "599995 2024-03-22 11:25:44        24.62             23.62\n",
      "599996 2024-03-22 11:25:49        24.56             23.61\n",
      "599997 2024-03-22 11:25:54        24.56             23.61\n",
      "599998 2024-03-22 11:25:59        24.56             23.63\n",
      "599999 2024-03-22 11:26:04        24.56             23.63\n",
      "\n",
      "[600000 rows x 3 columns]\n"
     ]
    },
    {
     "data": {
      "text/plain": [
       "time                0\n",
       "Temperature         0\n",
       "RelativeHumidity    0\n",
       "dtype: int64"
      ]
     },
     "execution_count": 16,
     "metadata": {},
     "output_type": "execute_result"
    }
   ],
   "source": [
    "new_df['Temperature'].interpolate(method='linear', inplace=True)\n",
    "\n",
    "print(new_df)\n",
    "\n",
    "new_df.isna().sum()"
   ]
  },
  {
   "cell_type": "code",
   "execution_count": 17,
   "metadata": {
    "colab": {
     "base_uri": "https://localhost:8080/",
     "height": 1000
    },
    "id": "VYHaeImNkJWb",
    "outputId": "0f88230e-60e8-4c08-debe-7dba1d882942"
   },
   "outputs": [
    {
     "data": {
      "image/png": "[encoded data removed]",
      "text/plain": [
       "<Figure size 1440x864 with 2 Axes>"
      ]
     },
     "metadata": {
      "needs_background": "light"
     },
     "output_type": "display_data"
    }
   ],
   "source": [
    "import matplotlib.pyplot as plt\n",
    "\n",
    "# Create a figure with two subplots (one row, two columns)\n",
    "fig, axs = plt.subplots(2, 1, figsize=(20, 12))\n",
    "\n",
    "# Plot Temperature on the first subplot\n",
    "axs[0].plot(new_df['time'], new_df['Temperature'], label='Temperature')\n",
    "axs[0].set_xlabel('Timestamp')\n",
    "axs[0].set_ylabel('Value')\n",
    "axs[0].set_title('Temperature without Anomaly')\n",
    "axs[0].legend()\n",
    "axs[0].tick_params(axis='x', rotation=45)  # Rotate x-axis labels for better readability\n",
    "\n",
    "# Plot humidity on the second subplot\n",
    "axs[1].plot(new_df['time'], new_df['RelativeHumidity'], label='RelativeHumidity')\n",
    "axs[1].set_xlabel('Timestamp')\n",
    "axs[1].set_ylabel('Value')\n",
    "axs[1].set_title('Temperature series with Anomaly')\n",
    "axs[1].legend()\n",
    "axs[1].tick_params(axis='x', rotation=45)\n",
    "\n",
    "# Adjust layout to prevent clipping of labels\n",
    "plt.tight_layout()\n",
    "\n",
    "# Show the plot\n",
    "plt.show()\n"
   ]
  },
  {
   "cell_type": "code",
   "execution_count": 18,
   "metadata": {
    "colab": {
     "base_uri": "https://localhost:8080/"
    },
    "id": "UMO5Cxzt_t4m",
    "outputId": "468053c7-97ef-4655-ede6-f7d86ce15164"
   },
   "outputs": [
    {
     "name": "stdout",
     "output_type": "stream",
     "text": [
      "Correlation between Temperature and RelativeHumidity: -0.5193350918167688\n"
     ]
    }
   ],
   "source": [
    "correlation = new_df['Temperature'].corr(new_df['RelativeHumidity'])\n",
    "\n",
    "print(\"Correlation between Temperature and RelativeHumidity:\", correlation)"
   ]
  },
  {
   "cell_type": "markdown",
   "metadata": {
    "id": "mVZ7s31i8B_e"
   },
   "source": [
    "#  INJECT ARTIFICIAL OUTLIERS TO TEMPERATURE DATA"
   ]
  },
  {
   "cell_type": "markdown",
   "metadata": {},
   "source": [
    "# The outliers are constant values of varying itensities (e.g large variations, subtle variations and extreme variations)"
   ]
  },
  {
   "cell_type": "code",
   "execution_count": 19,
   "metadata": {
    "colab": {
     "base_uri": "https://localhost:8080/",
     "height": 424
    },
    "id": "dyjkacNW_t4n",
    "outputId": "bc155c56-8be1-467f-caeb-5bf87bfb1b85"
   },
   "outputs": [
    {
     "data": {
      "text/html": [
       "<div>\n",
       "<style scoped>\n",
       "    .dataframe tbody tr th:only-of-type {\n",
       "        vertical-align: middle;\n",
       "    }\n",
       "\n",
       "    .dataframe tbody tr th {\n",
       "        vertical-align: top;\n",
       "    }\n",
       "\n",
       "    .dataframe thead th {\n",
       "        text-align: right;\n",
       "    }\n",
       "</style>\n",
       "<table border=\"1\" class=\"dataframe\">\n",
       "  <thead>\n",
       "    <tr style=\"text-align: right;\">\n",
       "      <th></th>\n",
       "      <th>time</th>\n",
       "      <th>Temperature</th>\n",
       "      <th>RelativeHumidity</th>\n",
       "      <th>Temp_anomaly</th>\n",
       "      <th>anomaly_time</th>\n",
       "    </tr>\n",
       "  </thead>\n",
       "  <tbody>\n",
       "    <tr>\n",
       "      <th>0</th>\n",
       "      <td>2024-02-16 17:44:30</td>\n",
       "      <td>21.12</td>\n",
       "      <td>48.45</td>\n",
       "      <td>21.12</td>\n",
       "      <td>2024-02-16 17:44:30</td>\n",
       "    </tr>\n",
       "    <tr>\n",
       "      <th>1</th>\n",
       "      <td>2024-02-16 17:44:35</td>\n",
       "      <td>21.25</td>\n",
       "      <td>46.91</td>\n",
       "      <td>21.25</td>\n",
       "      <td>2024-02-16 17:44:35</td>\n",
       "    </tr>\n",
       "    <tr>\n",
       "      <th>2</th>\n",
       "      <td>2024-02-16 17:44:40</td>\n",
       "      <td>21.25</td>\n",
       "      <td>45.93</td>\n",
       "      <td>21.25</td>\n",
       "      <td>2024-02-16 17:44:40</td>\n",
       "    </tr>\n",
       "    <tr>\n",
       "      <th>3</th>\n",
       "      <td>2024-02-16 17:44:45</td>\n",
       "      <td>21.25</td>\n",
       "      <td>45.56</td>\n",
       "      <td>21.25</td>\n",
       "      <td>2024-02-16 17:44:45</td>\n",
       "    </tr>\n",
       "    <tr>\n",
       "      <th>4</th>\n",
       "      <td>2024-02-16 17:44:50</td>\n",
       "      <td>21.25</td>\n",
       "      <td>45.18</td>\n",
       "      <td>21.25</td>\n",
       "      <td>2024-02-16 17:44:50</td>\n",
       "    </tr>\n",
       "    <tr>\n",
       "      <th>...</th>\n",
       "      <td>...</td>\n",
       "      <td>...</td>\n",
       "      <td>...</td>\n",
       "      <td>...</td>\n",
       "      <td>...</td>\n",
       "    </tr>\n",
       "    <tr>\n",
       "      <th>599995</th>\n",
       "      <td>2024-03-22 11:25:44</td>\n",
       "      <td>24.62</td>\n",
       "      <td>23.62</td>\n",
       "      <td>24.62</td>\n",
       "      <td>2024-03-22 11:25:44</td>\n",
       "    </tr>\n",
       "    <tr>\n",
       "      <th>599996</th>\n",
       "      <td>2024-03-22 11:25:49</td>\n",
       "      <td>24.56</td>\n",
       "      <td>23.61</td>\n",
       "      <td>24.56</td>\n",
       "      <td>2024-03-22 11:25:49</td>\n",
       "    </tr>\n",
       "    <tr>\n",
       "      <th>599997</th>\n",
       "      <td>2024-03-22 11:25:54</td>\n",
       "      <td>24.56</td>\n",
       "      <td>23.61</td>\n",
       "      <td>24.56</td>\n",
       "      <td>2024-03-22 11:25:54</td>\n",
       "    </tr>\n",
       "    <tr>\n",
       "      <th>599998</th>\n",
       "      <td>2024-03-22 11:25:59</td>\n",
       "      <td>24.56</td>\n",
       "      <td>23.63</td>\n",
       "      <td>24.56</td>\n",
       "      <td>2024-03-22 11:25:59</td>\n",
       "    </tr>\n",
       "    <tr>\n",
       "      <th>599999</th>\n",
       "      <td>2024-03-22 11:26:04</td>\n",
       "      <td>24.56</td>\n",
       "      <td>23.63</td>\n",
       "      <td>24.56</td>\n",
       "      <td>2024-03-22 11:26:04</td>\n",
       "    </tr>\n",
       "  </tbody>\n",
       "</table>\n",
       "<p>600000 rows × 5 columns</p>\n",
       "</div>"
      ],
      "text/plain": [
       "                      time  Temperature  RelativeHumidity  Temp_anomaly  \\\n",
       "0      2024-02-16 17:44:30        21.12             48.45         21.12   \n",
       "1      2024-02-16 17:44:35        21.25             46.91         21.25   \n",
       "2      2024-02-16 17:44:40        21.25             45.93         21.25   \n",
       "3      2024-02-16 17:44:45        21.25             45.56         21.25   \n",
       "4      2024-02-16 17:44:50        21.25             45.18         21.25   \n",
       "...                    ...          ...               ...           ...   \n",
       "599995 2024-03-22 11:25:44        24.62             23.62         24.62   \n",
       "599996 2024-03-22 11:25:49        24.56             23.61         24.56   \n",
       "599997 2024-03-22 11:25:54        24.56             23.61         24.56   \n",
       "599998 2024-03-22 11:25:59        24.56             23.63         24.56   \n",
       "599999 2024-03-22 11:26:04        24.56             23.63         24.56   \n",
       "\n",
       "              anomaly_time  \n",
       "0      2024-02-16 17:44:30  \n",
       "1      2024-02-16 17:44:35  \n",
       "2      2024-02-16 17:44:40  \n",
       "3      2024-02-16 17:44:45  \n",
       "4      2024-02-16 17:44:50  \n",
       "...                    ...  \n",
       "599995 2024-03-22 11:25:44  \n",
       "599996 2024-03-22 11:25:49  \n",
       "599997 2024-03-22 11:25:54  \n",
       "599998 2024-03-22 11:25:59  \n",
       "599999 2024-03-22 11:26:04  \n",
       "\n",
       "[600000 rows x 5 columns]"
      ]
     },
     "execution_count": 19,
     "metadata": {},
     "output_type": "execute_result"
    }
   ],
   "source": [
    "new_df['Temp_anomaly'] = new_df['Temperature']\n",
    "\n",
    "new_df['anomaly_time'] = pd.to_datetime(new_df['time'])\n",
    "\n",
    "# Select the dates for inputing outliers\n",
    "specific_dates1 = ['2024-03-13', '2024-03-03', '2024-02-19']\n",
    "specific_dates2 = ['2024-02-21', '2024-02-25', '2024-03-07']\n",
    "specific_dates3 = ['2024-02-23', '2024-02-26', '2024-03-09']\n",
    "specific_dates4 = ['2024-02-29', '2024-03-05']\n",
    "\n",
    "\n",
    "# Create the condition mask\n",
    "mask1 = (new_df['anomaly_time'].dt.date.astype(str).isin(specific_dates1)) & (new_df['Temperature'].between(22.3, 22.45))\n",
    "mask2 = (new_df['anomaly_time'].dt.date.astype(str).isin(specific_dates2)) & (new_df['Temperature'].between(20.4, 20.5))\n",
    "mask3 = (new_df['anomaly_time'].dt.date.astype(str).isin(specific_dates3)) & (new_df['Temperature'].between(21.3, 21.4))\n",
    "mask4 = (new_df['anomaly_time'].dt.date.astype(str).isin(specific_dates4)) & (new_df['Temperature'].between(21.5, 21.7))\n",
    "\n",
    "\n",
    "# Apply the replacement\n",
    "new_df.loc[mask1, 'Temp_anomaly'] = 33.885\n",
    "new_df.loc[mask2, 'Temp_anomaly'] = 32.885\n",
    "new_df.loc[mask3, 'Temp_anomaly'] = 24.885\n",
    "new_df.loc[mask4, 'Temp_anomaly'] = 17.885\n",
    "\n",
    "\n",
    "# View the updated DataFrame\n",
    "new_df"
   ]
  },
  {
   "cell_type": "markdown",
   "metadata": {
    "id": "1nETDF0a_t4n"
   },
   "source": [
    "# INJECT ARTIFICIAL OUTLIERS TO HUMIDITY DATA"
   ]
  },
  {
   "cell_type": "markdown",
   "metadata": {},
   "source": [
    "# The outliers are constant values of varying itensities (e.g large variations, subtle variations and extreme variations)"
   ]
  },
  {
   "cell_type": "code",
   "execution_count": 20,
   "metadata": {
    "colab": {
     "base_uri": "https://localhost:8080/",
     "height": 424
    },
    "id": "6qTEdHXU_t4n",
    "outputId": "c821be7e-f719-4274-ae5e-b53df2041599"
   },
   "outputs": [
    {
     "data": {
      "text/html": [
       "<div>\n",
       "<style scoped>\n",
       "    .dataframe tbody tr th:only-of-type {\n",
       "        vertical-align: middle;\n",
       "    }\n",
       "\n",
       "    .dataframe tbody tr th {\n",
       "        vertical-align: top;\n",
       "    }\n",
       "\n",
       "    .dataframe thead th {\n",
       "        text-align: right;\n",
       "    }\n",
       "</style>\n",
       "<table border=\"1\" class=\"dataframe\">\n",
       "  <thead>\n",
       "    <tr style=\"text-align: right;\">\n",
       "      <th></th>\n",
       "      <th>time</th>\n",
       "      <th>Temperature</th>\n",
       "      <th>RelativeHumidity</th>\n",
       "      <th>Temp_anomaly</th>\n",
       "      <th>anomaly_time</th>\n",
       "      <th>RH_anomaly</th>\n",
       "    </tr>\n",
       "  </thead>\n",
       "  <tbody>\n",
       "    <tr>\n",
       "      <th>0</th>\n",
       "      <td>2024-02-16 17:44:30</td>\n",
       "      <td>21.12</td>\n",
       "      <td>48.45</td>\n",
       "      <td>21.12</td>\n",
       "      <td>2024-02-16 17:44:30</td>\n",
       "      <td>48.45</td>\n",
       "    </tr>\n",
       "    <tr>\n",
       "      <th>1</th>\n",
       "      <td>2024-02-16 17:44:35</td>\n",
       "      <td>21.25</td>\n",
       "      <td>46.91</td>\n",
       "      <td>21.25</td>\n",
       "      <td>2024-02-16 17:44:35</td>\n",
       "      <td>46.91</td>\n",
       "    </tr>\n",
       "    <tr>\n",
       "      <th>2</th>\n",
       "      <td>2024-02-16 17:44:40</td>\n",
       "      <td>21.25</td>\n",
       "      <td>45.93</td>\n",
       "      <td>21.25</td>\n",
       "      <td>2024-02-16 17:44:40</td>\n",
       "      <td>45.93</td>\n",
       "    </tr>\n",
       "    <tr>\n",
       "      <th>3</th>\n",
       "      <td>2024-02-16 17:44:45</td>\n",
       "      <td>21.25</td>\n",
       "      <td>45.56</td>\n",
       "      <td>21.25</td>\n",
       "      <td>2024-02-16 17:44:45</td>\n",
       "      <td>45.56</td>\n",
       "    </tr>\n",
       "    <tr>\n",
       "      <th>4</th>\n",
       "      <td>2024-02-16 17:44:50</td>\n",
       "      <td>21.25</td>\n",
       "      <td>45.18</td>\n",
       "      <td>21.25</td>\n",
       "      <td>2024-02-16 17:44:50</td>\n",
       "      <td>45.18</td>\n",
       "    </tr>\n",
       "    <tr>\n",
       "      <th>...</th>\n",
       "      <td>...</td>\n",
       "      <td>...</td>\n",
       "      <td>...</td>\n",
       "      <td>...</td>\n",
       "      <td>...</td>\n",
       "      <td>...</td>\n",
       "    </tr>\n",
       "    <tr>\n",
       "      <th>599995</th>\n",
       "      <td>2024-03-22 11:25:44</td>\n",
       "      <td>24.62</td>\n",
       "      <td>23.62</td>\n",
       "      <td>24.62</td>\n",
       "      <td>2024-03-22 11:25:44</td>\n",
       "      <td>23.62</td>\n",
       "    </tr>\n",
       "    <tr>\n",
       "      <th>599996</th>\n",
       "      <td>2024-03-22 11:25:49</td>\n",
       "      <td>24.56</td>\n",
       "      <td>23.61</td>\n",
       "      <td>24.56</td>\n",
       "      <td>2024-03-22 11:25:49</td>\n",
       "      <td>23.61</td>\n",
       "    </tr>\n",
       "    <tr>\n",
       "      <th>599997</th>\n",
       "      <td>2024-03-22 11:25:54</td>\n",
       "      <td>24.56</td>\n",
       "      <td>23.61</td>\n",
       "      <td>24.56</td>\n",
       "      <td>2024-03-22 11:25:54</td>\n",
       "      <td>23.61</td>\n",
       "    </tr>\n",
       "    <tr>\n",
       "      <th>599998</th>\n",
       "      <td>2024-03-22 11:25:59</td>\n",
       "      <td>24.56</td>\n",
       "      <td>23.63</td>\n",
       "      <td>24.56</td>\n",
       "      <td>2024-03-22 11:25:59</td>\n",
       "      <td>23.63</td>\n",
       "    </tr>\n",
       "    <tr>\n",
       "      <th>599999</th>\n",
       "      <td>2024-03-22 11:26:04</td>\n",
       "      <td>24.56</td>\n",
       "      <td>23.63</td>\n",
       "      <td>24.56</td>\n",
       "      <td>2024-03-22 11:26:04</td>\n",
       "      <td>23.63</td>\n",
       "    </tr>\n",
       "  </tbody>\n",
       "</table>\n",
       "<p>600000 rows × 6 columns</p>\n",
       "</div>"
      ],
      "text/plain": [
       "                      time  Temperature  RelativeHumidity  Temp_anomaly  \\\n",
       "0      2024-02-16 17:44:30        21.12             48.45         21.12   \n",
       "1      2024-02-16 17:44:35        21.25             46.91         21.25   \n",
       "2      2024-02-16 17:44:40        21.25             45.93         21.25   \n",
       "3      2024-02-16 17:44:45        21.25             45.56         21.25   \n",
       "4      2024-02-16 17:44:50        21.25             45.18         21.25   \n",
       "...                    ...          ...               ...           ...   \n",
       "599995 2024-03-22 11:25:44        24.62             23.62         24.62   \n",
       "599996 2024-03-22 11:25:49        24.56             23.61         24.56   \n",
       "599997 2024-03-22 11:25:54        24.56             23.61         24.56   \n",
       "599998 2024-03-22 11:25:59        24.56             23.63         24.56   \n",
       "599999 2024-03-22 11:26:04        24.56             23.63         24.56   \n",
       "\n",
       "              anomaly_time  RH_anomaly  \n",
       "0      2024-02-16 17:44:30       48.45  \n",
       "1      2024-02-16 17:44:35       46.91  \n",
       "2      2024-02-16 17:44:40       45.93  \n",
       "3      2024-02-16 17:44:45       45.56  \n",
       "4      2024-02-16 17:44:50       45.18  \n",
       "...                    ...         ...  \n",
       "599995 2024-03-22 11:25:44       23.62  \n",
       "599996 2024-03-22 11:25:49       23.61  \n",
       "599997 2024-03-22 11:25:54       23.61  \n",
       "599998 2024-03-22 11:25:59       23.63  \n",
       "599999 2024-03-22 11:26:04       23.63  \n",
       "\n",
       "[600000 rows x 6 columns]"
      ]
     },
     "execution_count": 20,
     "metadata": {},
     "output_type": "execute_result"
    }
   ],
   "source": [
    "new_df['RH_anomaly'] = new_df['RelativeHumidity']\n",
    "\n",
    "# Select the dates for inputing outliers\n",
    "specific_dates5 = ['2024-02-27', '2024-02-22']\n",
    "specific_dates6 = ['2024-03-04']\n",
    "specific_dates7 = ['2024-02-22', '2024-02-24', '2024-03-13', '2024-03-17']\n",
    "specific_dates8 = ['2024-03-16']\n",
    "\n",
    "# Create the condition mask\n",
    "mask5 = (new_df['anomaly_time'].dt.date.astype(str).isin(specific_dates5)) & (new_df['RelativeHumidity'].between(29.1, 29.5))\n",
    "mask6 = (new_df['anomaly_time'].dt.date.astype(str).isin(specific_dates6)) & (new_df['RelativeHumidity'].between(26.7, 27.2))\n",
    "mask7 = (new_df['anomaly_time'].dt.date.astype(str).isin(specific_dates7)) & (new_df['RelativeHumidity'].between(26.8, 27.0))\n",
    "mask8 = (new_df['anomaly_time'].dt.date.astype(str).isin(specific_dates8)) & (new_df['RelativeHumidity'].between(30.2, 30.5))\n",
    "\n",
    "\n",
    "# Apply the replacement\n",
    "new_df.loc[mask5, 'RH_anomaly'] = 40.885\n",
    "new_df.loc[mask6, 'RH_anomaly'] = 36.885\n",
    "new_df.loc[mask7, 'RH_anomaly'] = 29.885\n",
    "new_df.loc[mask8, 'RH_anomaly'] = 25.885\n",
    "\n",
    "\n",
    "# View the updated DataFrame\n",
    "new_df"
   ]
  },
  {
   "cell_type": "markdown",
   "metadata": {},
   "source": [
    "# MANUALLY LABEL INJECTED ANOMALY DATA AS 0 for NORMAL and 1 for ABNORMAL"
   ]
  },
  {
   "cell_type": "code",
   "execution_count": 21,
   "metadata": {
    "id": "DXRLYe8Z_t4n"
   },
   "outputs": [],
   "source": [
    "# Label the anomalies as -1 while normal as 1 \n",
    "\n",
    "def replacevalues(val):\n",
    "  if val in [33.885, 32.885, 24.885, 17.885]:\n",
    "    return 1\n",
    "  else:\n",
    "    return 0\n",
    "\n",
    "new_df['Temp_anomaly_labels'] = new_df['Temp_anomaly'].apply(replacevalues)\n",
    "\n",
    "\n",
    "def replacevalues(val):\n",
    "  if val in [40.885, 36.885, 29.885, 25.885]:\n",
    "    return 1\n",
    "  else:\n",
    "    return 0\n",
    "\n",
    "new_df['RH_anomaly_labels'] = new_df['RH_anomaly'].apply(replacevalues)"
   ]
  },
  {
   "cell_type": "code",
   "execution_count": 22,
   "metadata": {
    "colab": {
     "base_uri": "https://localhost:8080/",
     "height": 178
    },
    "id": "-2mYMs12_t4n",
    "outputId": "60693e07-d013-4b7b-8061-070eb29e11db"
   },
   "outputs": [
    {
     "data": {
      "text/plain": [
       "RH_anomaly_labels\n",
       "0    595197\n",
       "1      4803\n",
       "Name: count, dtype: int64"
      ]
     },
     "execution_count": 22,
     "metadata": {},
     "output_type": "execute_result"
    }
   ],
   "source": [
    "new_df['RH_anomaly_labels'].value_counts()"
   ]
  },
  {
   "cell_type": "code",
   "execution_count": 23,
   "metadata": {
    "colab": {
     "base_uri": "https://localhost:8080/",
     "height": 178
    },
    "id": "GuU-VZfxZdII",
    "outputId": "6db70906-846e-4b19-f5fc-a28a5afefe4b"
   },
   "outputs": [
    {
     "data": {
      "text/plain": [
       "Temp_anomaly_labels\n",
       "0    593498\n",
       "1      6502\n",
       "Name: count, dtype: int64"
      ]
     },
     "execution_count": 23,
     "metadata": {},
     "output_type": "execute_result"
    }
   ],
   "source": [
    "new_df['Temp_anomaly_labels'].value_counts()"
   ]
  },
  {
   "cell_type": "code",
   "execution_count": 24,
   "metadata": {
    "colab": {
     "base_uri": "https://localhost:8080/",
     "height": 424
    },
    "id": "HgS5JP5G_t4n",
    "outputId": "5dfb57bb-d60c-4162-b6ea-351bf0e5a9f2"
   },
   "outputs": [
    {
     "data": {
      "text/html": [
       "<div>\n",
       "<style scoped>\n",
       "    .dataframe tbody tr th:only-of-type {\n",
       "        vertical-align: middle;\n",
       "    }\n",
       "\n",
       "    .dataframe tbody tr th {\n",
       "        vertical-align: top;\n",
       "    }\n",
       "\n",
       "    .dataframe thead th {\n",
       "        text-align: right;\n",
       "    }\n",
       "</style>\n",
       "<table border=\"1\" class=\"dataframe\">\n",
       "  <thead>\n",
       "    <tr style=\"text-align: right;\">\n",
       "      <th></th>\n",
       "      <th>time</th>\n",
       "      <th>Temperature</th>\n",
       "      <th>RelativeHumidity</th>\n",
       "      <th>Temp_anomaly</th>\n",
       "      <th>anomaly_time</th>\n",
       "      <th>RH_anomaly</th>\n",
       "      <th>Temp_anomaly_labels</th>\n",
       "      <th>RH_anomaly_labels</th>\n",
       "    </tr>\n",
       "  </thead>\n",
       "  <tbody>\n",
       "    <tr>\n",
       "      <th>0</th>\n",
       "      <td>2024-02-16 17:44:30</td>\n",
       "      <td>21.12</td>\n",
       "      <td>48.45</td>\n",
       "      <td>21.12</td>\n",
       "      <td>2024-02-16 17:44:30</td>\n",
       "      <td>48.45</td>\n",
       "      <td>0</td>\n",
       "      <td>0</td>\n",
       "    </tr>\n",
       "    <tr>\n",
       "      <th>1</th>\n",
       "      <td>2024-02-16 17:44:35</td>\n",
       "      <td>21.25</td>\n",
       "      <td>46.91</td>\n",
       "      <td>21.25</td>\n",
       "      <td>2024-02-16 17:44:35</td>\n",
       "      <td>46.91</td>\n",
       "      <td>0</td>\n",
       "      <td>0</td>\n",
       "    </tr>\n",
       "    <tr>\n",
       "      <th>2</th>\n",
       "      <td>2024-02-16 17:44:40</td>\n",
       "      <td>21.25</td>\n",
       "      <td>45.93</td>\n",
       "      <td>21.25</td>\n",
       "      <td>2024-02-16 17:44:40</td>\n",
       "      <td>45.93</td>\n",
       "      <td>0</td>\n",
       "      <td>0</td>\n",
       "    </tr>\n",
       "    <tr>\n",
       "      <th>3</th>\n",
       "      <td>2024-02-16 17:44:45</td>\n",
       "      <td>21.25</td>\n",
       "      <td>45.56</td>\n",
       "      <td>21.25</td>\n",
       "      <td>2024-02-16 17:44:45</td>\n",
       "      <td>45.56</td>\n",
       "      <td>0</td>\n",
       "      <td>0</td>\n",
       "    </tr>\n",
       "    <tr>\n",
       "      <th>4</th>\n",
       "      <td>2024-02-16 17:44:50</td>\n",
       "      <td>21.25</td>\n",
       "      <td>45.18</td>\n",
       "      <td>21.25</td>\n",
       "      <td>2024-02-16 17:44:50</td>\n",
       "      <td>45.18</td>\n",
       "      <td>0</td>\n",
       "      <td>0</td>\n",
       "    </tr>\n",
       "    <tr>\n",
       "      <th>...</th>\n",
       "      <td>...</td>\n",
       "      <td>...</td>\n",
       "      <td>...</td>\n",
       "      <td>...</td>\n",
       "      <td>...</td>\n",
       "      <td>...</td>\n",
       "      <td>...</td>\n",
       "      <td>...</td>\n",
       "    </tr>\n",
       "    <tr>\n",
       "      <th>599995</th>\n",
       "      <td>2024-03-22 11:25:44</td>\n",
       "      <td>24.62</td>\n",
       "      <td>23.62</td>\n",
       "      <td>24.62</td>\n",
       "      <td>2024-03-22 11:25:44</td>\n",
       "      <td>23.62</td>\n",
       "      <td>0</td>\n",
       "      <td>0</td>\n",
       "    </tr>\n",
       "    <tr>\n",
       "      <th>599996</th>\n",
       "      <td>2024-03-22 11:25:49</td>\n",
       "      <td>24.56</td>\n",
       "      <td>23.61</td>\n",
       "      <td>24.56</td>\n",
       "      <td>2024-03-22 11:25:49</td>\n",
       "      <td>23.61</td>\n",
       "      <td>0</td>\n",
       "      <td>0</td>\n",
       "    </tr>\n",
       "    <tr>\n",
       "      <th>599997</th>\n",
       "      <td>2024-03-22 11:25:54</td>\n",
       "      <td>24.56</td>\n",
       "      <td>23.61</td>\n",
       "      <td>24.56</td>\n",
       "      <td>2024-03-22 11:25:54</td>\n",
       "      <td>23.61</td>\n",
       "      <td>0</td>\n",
       "      <td>0</td>\n",
       "    </tr>\n",
       "    <tr>\n",
       "      <th>599998</th>\n",
       "      <td>2024-03-22 11:25:59</td>\n",
       "      <td>24.56</td>\n",
       "      <td>23.63</td>\n",
       "      <td>24.56</td>\n",
       "      <td>2024-03-22 11:25:59</td>\n",
       "      <td>23.63</td>\n",
       "      <td>0</td>\n",
       "      <td>0</td>\n",
       "    </tr>\n",
       "    <tr>\n",
       "      <th>599999</th>\n",
       "      <td>2024-03-22 11:26:04</td>\n",
       "      <td>24.56</td>\n",
       "      <td>23.63</td>\n",
       "      <td>24.56</td>\n",
       "      <td>2024-03-22 11:26:04</td>\n",
       "      <td>23.63</td>\n",
       "      <td>0</td>\n",
       "      <td>0</td>\n",
       "    </tr>\n",
       "  </tbody>\n",
       "</table>\n",
       "<p>600000 rows × 8 columns</p>\n",
       "</div>"
      ],
      "text/plain": [
       "                      time  Temperature  RelativeHumidity  Temp_anomaly  \\\n",
       "0      2024-02-16 17:44:30        21.12             48.45         21.12   \n",
       "1      2024-02-16 17:44:35        21.25             46.91         21.25   \n",
       "2      2024-02-16 17:44:40        21.25             45.93         21.25   \n",
       "3      2024-02-16 17:44:45        21.25             45.56         21.25   \n",
       "4      2024-02-16 17:44:50        21.25             45.18         21.25   \n",
       "...                    ...          ...               ...           ...   \n",
       "599995 2024-03-22 11:25:44        24.62             23.62         24.62   \n",
       "599996 2024-03-22 11:25:49        24.56             23.61         24.56   \n",
       "599997 2024-03-22 11:25:54        24.56             23.61         24.56   \n",
       "599998 2024-03-22 11:25:59        24.56             23.63         24.56   \n",
       "599999 2024-03-22 11:26:04        24.56             23.63         24.56   \n",
       "\n",
       "              anomaly_time  RH_anomaly  Temp_anomaly_labels  RH_anomaly_labels  \n",
       "0      2024-02-16 17:44:30       48.45                    0                  0  \n",
       "1      2024-02-16 17:44:35       46.91                    0                  0  \n",
       "2      2024-02-16 17:44:40       45.93                    0                  0  \n",
       "3      2024-02-16 17:44:45       45.56                    0                  0  \n",
       "4      2024-02-16 17:44:50       45.18                    0                  0  \n",
       "...                    ...         ...                  ...                ...  \n",
       "599995 2024-03-22 11:25:44       23.62                    0                  0  \n",
       "599996 2024-03-22 11:25:49       23.61                    0                  0  \n",
       "599997 2024-03-22 11:25:54       23.61                    0                  0  \n",
       "599998 2024-03-22 11:25:59       23.63                    0                  0  \n",
       "599999 2024-03-22 11:26:04       23.63                    0                  0  \n",
       "\n",
       "[600000 rows x 8 columns]"
      ]
     },
     "execution_count": 24,
     "metadata": {},
     "output_type": "execute_result"
    }
   ],
   "source": [
    "new_df"
   ]
  },
  {
   "cell_type": "code",
   "execution_count": 25,
   "metadata": {
    "colab": {
     "base_uri": "https://localhost:8080/",
     "height": 1000
    },
    "id": "-R9i16Cx_t4o",
    "outputId": "8c2ad3ee-be0f-4b40-c3e9-86d605696882"
   },
   "outputs": [
    {
     "data": {
      "image/png": "[encoded data removed]",
      "text/plain": [
       "<Figure size 1440x864 with 2 Axes>"
      ]
     },
     "metadata": {
      "needs_background": "light"
     },
     "output_type": "display_data"
    }
   ],
   "source": [
    "import matplotlib.pyplot as plt\n",
    "\n",
    "# Create a figure with two subplots (one row, two columns)\n",
    "fig, axs = plt.subplots(2, 1, figsize=(20, 12))\n",
    "\n",
    "# Plot Temperature on the first subplot\n",
    "axs[0].plot(new_df['time'], new_df['Temp_anomaly'], label='Temp_anomaly')\n",
    "axs[0].set_xlabel('Timestamp')\n",
    "axs[0].set_ylabel('Value')\n",
    "axs[0].set_title('Temperature without Anomaly')\n",
    "axs[0].legend()\n",
    "axs[0].tick_params(axis='x', rotation=45)  # Rotate x-axis labels for better readability\n",
    "\n",
    "# Plot humidity on the second subplot\n",
    "axs[1].plot(new_df['time'], new_df['RH_anomaly'], label='RH_anomaly')\n",
    "axs[1].set_xlabel('Timestamp')\n",
    "axs[1].set_ylabel('Value')\n",
    "axs[1].set_title('Temperature series with Anomaly')\n",
    "axs[1].legend()\n",
    "axs[1].tick_params(axis='x', rotation=45)\n",
    "\n",
    "# Adjust layout to prevent clipping of labels\n",
    "plt.tight_layout()\n",
    "\n",
    "# Show the plot\n",
    "plt.show()"
   ]
  },
  {
   "cell_type": "code",
   "execution_count": 26,
   "metadata": {
    "colab": {
     "base_uri": "https://localhost:8080/",
     "height": 677
    },
    "id": "YLFgoWJwx3Pz",
    "outputId": "71b508e7-a233-46c8-aece-6c6facf5c9c4"
   },
   "outputs": [
    {
     "data": {
      "text/html": [
       "<div>\n",
       "<style scoped>\n",
       "    .dataframe tbody tr th:only-of-type {\n",
       "        vertical-align: middle;\n",
       "    }\n",
       "\n",
       "    .dataframe tbody tr th {\n",
       "        vertical-align: top;\n",
       "    }\n",
       "\n",
       "    .dataframe thead th {\n",
       "        text-align: right;\n",
       "    }\n",
       "</style>\n",
       "<table border=\"1\" class=\"dataframe\">\n",
       "  <thead>\n",
       "    <tr style=\"text-align: right;\">\n",
       "      <th></th>\n",
       "      <th>time</th>\n",
       "      <th>Temperature</th>\n",
       "      <th>RelativeHumidity</th>\n",
       "      <th>Temp_anomaly</th>\n",
       "      <th>anomaly_time</th>\n",
       "      <th>RH_anomaly</th>\n",
       "      <th>Temp_anomaly_labels</th>\n",
       "      <th>RH_anomaly_labels</th>\n",
       "    </tr>\n",
       "  </thead>\n",
       "  <tbody>\n",
       "    <tr>\n",
       "      <th>0</th>\n",
       "      <td>2024-02-16 17:44:30</td>\n",
       "      <td>21.12</td>\n",
       "      <td>48.45</td>\n",
       "      <td>21.12</td>\n",
       "      <td>2024-02-16 17:44:30</td>\n",
       "      <td>48.45</td>\n",
       "      <td>0</td>\n",
       "      <td>0</td>\n",
       "    </tr>\n",
       "    <tr>\n",
       "      <th>1</th>\n",
       "      <td>2024-02-16 17:44:35</td>\n",
       "      <td>21.25</td>\n",
       "      <td>46.91</td>\n",
       "      <td>21.25</td>\n",
       "      <td>2024-02-16 17:44:35</td>\n",
       "      <td>46.91</td>\n",
       "      <td>0</td>\n",
       "      <td>0</td>\n",
       "    </tr>\n",
       "    <tr>\n",
       "      <th>2</th>\n",
       "      <td>2024-02-16 17:44:40</td>\n",
       "      <td>21.25</td>\n",
       "      <td>45.93</td>\n",
       "      <td>21.25</td>\n",
       "      <td>2024-02-16 17:44:40</td>\n",
       "      <td>45.93</td>\n",
       "      <td>0</td>\n",
       "      <td>0</td>\n",
       "    </tr>\n",
       "    <tr>\n",
       "      <th>3</th>\n",
       "      <td>2024-02-16 17:44:45</td>\n",
       "      <td>21.25</td>\n",
       "      <td>45.56</td>\n",
       "      <td>21.25</td>\n",
       "      <td>2024-02-16 17:44:45</td>\n",
       "      <td>45.56</td>\n",
       "      <td>0</td>\n",
       "      <td>0</td>\n",
       "    </tr>\n",
       "    <tr>\n",
       "      <th>4</th>\n",
       "      <td>2024-02-16 17:44:50</td>\n",
       "      <td>21.25</td>\n",
       "      <td>45.18</td>\n",
       "      <td>21.25</td>\n",
       "      <td>2024-02-16 17:44:50</td>\n",
       "      <td>45.18</td>\n",
       "      <td>0</td>\n",
       "      <td>0</td>\n",
       "    </tr>\n",
       "    <tr>\n",
       "      <th>5</th>\n",
       "      <td>2024-02-16 17:44:55</td>\n",
       "      <td>21.19</td>\n",
       "      <td>44.70</td>\n",
       "      <td>21.19</td>\n",
       "      <td>2024-02-16 17:44:55</td>\n",
       "      <td>44.70</td>\n",
       "      <td>0</td>\n",
       "      <td>0</td>\n",
       "    </tr>\n",
       "    <tr>\n",
       "      <th>6</th>\n",
       "      <td>2024-02-16 17:45:00</td>\n",
       "      <td>21.19</td>\n",
       "      <td>44.27</td>\n",
       "      <td>21.19</td>\n",
       "      <td>2024-02-16 17:45:00</td>\n",
       "      <td>44.27</td>\n",
       "      <td>0</td>\n",
       "      <td>0</td>\n",
       "    </tr>\n",
       "    <tr>\n",
       "      <th>7</th>\n",
       "      <td>2024-02-16 17:45:05</td>\n",
       "      <td>21.19</td>\n",
       "      <td>44.00</td>\n",
       "      <td>21.19</td>\n",
       "      <td>2024-02-16 17:45:05</td>\n",
       "      <td>44.00</td>\n",
       "      <td>0</td>\n",
       "      <td>0</td>\n",
       "    </tr>\n",
       "    <tr>\n",
       "      <th>8</th>\n",
       "      <td>2024-02-16 17:45:10</td>\n",
       "      <td>21.19</td>\n",
       "      <td>43.73</td>\n",
       "      <td>21.19</td>\n",
       "      <td>2024-02-16 17:45:10</td>\n",
       "      <td>43.73</td>\n",
       "      <td>0</td>\n",
       "      <td>0</td>\n",
       "    </tr>\n",
       "    <tr>\n",
       "      <th>9</th>\n",
       "      <td>2024-02-16 17:45:15</td>\n",
       "      <td>21.19</td>\n",
       "      <td>43.54</td>\n",
       "      <td>21.19</td>\n",
       "      <td>2024-02-16 17:45:15</td>\n",
       "      <td>43.54</td>\n",
       "      <td>0</td>\n",
       "      <td>0</td>\n",
       "    </tr>\n",
       "    <tr>\n",
       "      <th>10</th>\n",
       "      <td>2024-02-16 17:45:20</td>\n",
       "      <td>21.19</td>\n",
       "      <td>43.35</td>\n",
       "      <td>21.19</td>\n",
       "      <td>2024-02-16 17:45:20</td>\n",
       "      <td>43.35</td>\n",
       "      <td>0</td>\n",
       "      <td>0</td>\n",
       "    </tr>\n",
       "    <tr>\n",
       "      <th>11</th>\n",
       "      <td>2024-02-16 17:45:25</td>\n",
       "      <td>21.19</td>\n",
       "      <td>43.09</td>\n",
       "      <td>21.19</td>\n",
       "      <td>2024-02-16 17:45:25</td>\n",
       "      <td>43.09</td>\n",
       "      <td>0</td>\n",
       "      <td>0</td>\n",
       "    </tr>\n",
       "    <tr>\n",
       "      <th>12</th>\n",
       "      <td>2024-02-16 17:45:30</td>\n",
       "      <td>21.19</td>\n",
       "      <td>42.84</td>\n",
       "      <td>21.19</td>\n",
       "      <td>2024-02-16 17:45:30</td>\n",
       "      <td>42.84</td>\n",
       "      <td>0</td>\n",
       "      <td>0</td>\n",
       "    </tr>\n",
       "    <tr>\n",
       "      <th>13</th>\n",
       "      <td>2024-02-16 17:45:35</td>\n",
       "      <td>21.19</td>\n",
       "      <td>42.68</td>\n",
       "      <td>21.19</td>\n",
       "      <td>2024-02-16 17:45:35</td>\n",
       "      <td>42.68</td>\n",
       "      <td>0</td>\n",
       "      <td>0</td>\n",
       "    </tr>\n",
       "    <tr>\n",
       "      <th>14</th>\n",
       "      <td>2024-02-16 17:45:40</td>\n",
       "      <td>21.12</td>\n",
       "      <td>42.50</td>\n",
       "      <td>21.12</td>\n",
       "      <td>2024-02-16 17:45:40</td>\n",
       "      <td>42.50</td>\n",
       "      <td>0</td>\n",
       "      <td>0</td>\n",
       "    </tr>\n",
       "    <tr>\n",
       "      <th>15</th>\n",
       "      <td>2024-02-16 17:45:45</td>\n",
       "      <td>21.12</td>\n",
       "      <td>42.30</td>\n",
       "      <td>21.12</td>\n",
       "      <td>2024-02-16 17:45:45</td>\n",
       "      <td>42.30</td>\n",
       "      <td>0</td>\n",
       "      <td>0</td>\n",
       "    </tr>\n",
       "    <tr>\n",
       "      <th>16</th>\n",
       "      <td>2024-02-16 17:45:50</td>\n",
       "      <td>21.12</td>\n",
       "      <td>42.15</td>\n",
       "      <td>21.12</td>\n",
       "      <td>2024-02-16 17:45:50</td>\n",
       "      <td>42.15</td>\n",
       "      <td>0</td>\n",
       "      <td>0</td>\n",
       "    </tr>\n",
       "    <tr>\n",
       "      <th>17</th>\n",
       "      <td>2024-02-16 17:45:55</td>\n",
       "      <td>21.06</td>\n",
       "      <td>42.00</td>\n",
       "      <td>21.06</td>\n",
       "      <td>2024-02-16 17:45:55</td>\n",
       "      <td>42.00</td>\n",
       "      <td>0</td>\n",
       "      <td>0</td>\n",
       "    </tr>\n",
       "    <tr>\n",
       "      <th>18</th>\n",
       "      <td>2024-02-16 17:46:00</td>\n",
       "      <td>21.12</td>\n",
       "      <td>41.83</td>\n",
       "      <td>21.12</td>\n",
       "      <td>2024-02-16 17:46:00</td>\n",
       "      <td>41.83</td>\n",
       "      <td>0</td>\n",
       "      <td>0</td>\n",
       "    </tr>\n",
       "    <tr>\n",
       "      <th>19</th>\n",
       "      <td>2024-02-16 17:46:05</td>\n",
       "      <td>21.06</td>\n",
       "      <td>41.65</td>\n",
       "      <td>21.06</td>\n",
       "      <td>2024-02-16 17:46:05</td>\n",
       "      <td>41.65</td>\n",
       "      <td>0</td>\n",
       "      <td>0</td>\n",
       "    </tr>\n",
       "  </tbody>\n",
       "</table>\n",
       "</div>"
      ],
      "text/plain": [
       "                  time  Temperature  RelativeHumidity  Temp_anomaly  \\\n",
       "0  2024-02-16 17:44:30        21.12             48.45         21.12   \n",
       "1  2024-02-16 17:44:35        21.25             46.91         21.25   \n",
       "2  2024-02-16 17:44:40        21.25             45.93         21.25   \n",
       "3  2024-02-16 17:44:45        21.25             45.56         21.25   \n",
       "4  2024-02-16 17:44:50        21.25             45.18         21.25   \n",
       "5  2024-02-16 17:44:55        21.19             44.70         21.19   \n",
       "6  2024-02-16 17:45:00        21.19             44.27         21.19   \n",
       "7  2024-02-16 17:45:05        21.19             44.00         21.19   \n",
       "8  2024-02-16 17:45:10        21.19             43.73         21.19   \n",
       "9  2024-02-16 17:45:15        21.19             43.54         21.19   \n",
       "10 2024-02-16 17:45:20        21.19             43.35         21.19   \n",
       "11 2024-02-16 17:45:25        21.19             43.09         21.19   \n",
       "12 2024-02-16 17:45:30        21.19             42.84         21.19   \n",
       "13 2024-02-16 17:45:35        21.19             42.68         21.19   \n",
       "14 2024-02-16 17:45:40        21.12             42.50         21.12   \n",
       "15 2024-02-16 17:45:45        21.12             42.30         21.12   \n",
       "16 2024-02-16 17:45:50        21.12             42.15         21.12   \n",
       "17 2024-02-16 17:45:55        21.06             42.00         21.06   \n",
       "18 2024-02-16 17:46:00        21.12             41.83         21.12   \n",
       "19 2024-02-16 17:46:05        21.06             41.65         21.06   \n",
       "\n",
       "          anomaly_time  RH_anomaly  Temp_anomaly_labels  RH_anomaly_labels  \n",
       "0  2024-02-16 17:44:30       48.45                    0                  0  \n",
       "1  2024-02-16 17:44:35       46.91                    0                  0  \n",
       "2  2024-02-16 17:44:40       45.93                    0                  0  \n",
       "3  2024-02-16 17:44:45       45.56                    0                  0  \n",
       "4  2024-02-16 17:44:50       45.18                    0                  0  \n",
       "5  2024-02-16 17:44:55       44.70                    0                  0  \n",
       "6  2024-02-16 17:45:00       44.27                    0                  0  \n",
       "7  2024-02-16 17:45:05       44.00                    0                  0  \n",
       "8  2024-02-16 17:45:10       43.73                    0                  0  \n",
       "9  2024-02-16 17:45:15       43.54                    0                  0  \n",
       "10 2024-02-16 17:45:20       43.35                    0                  0  \n",
       "11 2024-02-16 17:45:25       43.09                    0                  0  \n",
       "12 2024-02-16 17:45:30       42.84                    0                  0  \n",
       "13 2024-02-16 17:45:35       42.68                    0                  0  \n",
       "14 2024-02-16 17:45:40       42.50                    0                  0  \n",
       "15 2024-02-16 17:45:45       42.30                    0                  0  \n",
       "16 2024-02-16 17:45:50       42.15                    0                  0  \n",
       "17 2024-02-16 17:45:55       42.00                    0                  0  \n",
       "18 2024-02-16 17:46:00       41.83                    0                  0  \n",
       "19 2024-02-16 17:46:05       41.65                    0                  0  "
      ]
     },
     "execution_count": 26,
     "metadata": {},
     "output_type": "execute_result"
    }
   ],
   "source": [
    "clean_df = new_df\n",
    "clean_df.head(20)"
   ]
  },
  {
   "cell_type": "code",
   "execution_count": null,
   "metadata": {
    "colab": {
     "base_uri": "https://localhost:8080/"
    },
    "id": "au5BGsKW_t4o",
    "outputId": "c983fe02-ac0e-4731-cf08-902e37657e88"
   },
   "outputs": [],
   "source": []
  },
  {
   "cell_type": "code",
   "execution_count": 27,
   "metadata": {
    "id": "Fz2UgqWP_t4o"
   },
   "outputs": [],
   "source": [
    "import pandas as pd\n",
    "import numpy as np\n",
    "from statsmodels.tsa.seasonal import seasonal_decompose\n",
    "from scipy.stats import boxcox\n",
    "\n",
    "#  Decompose to check temperature components\n",
    "decomposition1 = seasonal_decompose(clean_df['Temp_anomaly'], model='additive', period=2300)\n",
    "clean_df['Temp_Trend'] = decomposition1.trend\n",
    "clean_df['Temp_Seasonality'] = decomposition1.seasonal\n",
    "clean_df['Temp_Residual'] = decomposition1.resid\n",
    "\n",
    "# Stationary temperature Series after removing trend and seasonality\n",
    "clean_df['Temp_Stationary'] = clean_df['Temp_anomaly'] - (clean_df['Temp_Trend'] - clean_df['Temp_Seasonality'])\n",
    "clean_df = clean_df.drop(columns=['Temp_Trend','Temp_Seasonality','Temp_Residual'], axis=1)\n",
    "\n",
    "# Decompose to check humidity components\n",
    "decomposition2 = seasonal_decompose(clean_df['RH_anomaly'], model='additive', period=2300)\n",
    "clean_df['RH_Trend'] = decomposition2.trend\n",
    "clean_df['RH_Seasonality'] = decomposition2.seasonal\n",
    "clean_df['RH_Residual'] = decomposition2.resid\n",
    "\n",
    "# Stationary humidity Series after removing trend and seasonality\n",
    "clean_df['RH_Stationary'] = clean_df['RH_anomaly'] - clean_df['RH_Trend'] - clean_df['RH_Seasonality']\n",
    "clean_df = clean_df.drop(columns=['RH_Trend','RH_Seasonality','RH_Residual'], axis=1)"
   ]
  },
  {
   "cell_type": "code",
   "execution_count": 28,
   "metadata": {
    "colab": {
     "base_uri": "https://localhost:8080/",
     "height": 178
    },
    "id": "nqVvHDIF_t4o",
    "outputId": "d5f2c5b7-22c1-4d59-dc57-3a61fd12c82d"
   },
   "outputs": [
    {
     "data": {
      "text/plain": [
       "RH_anomaly_labels\n",
       "0    595197\n",
       "1      4803\n",
       "Name: count, dtype: int64"
      ]
     },
     "execution_count": 28,
     "metadata": {},
     "output_type": "execute_result"
    }
   ],
   "source": [
    "new_df['RH_anomaly_labels'].value_counts()"
   ]
  },
  {
   "cell_type": "code",
   "execution_count": 29,
   "metadata": {
    "colab": {
     "base_uri": "https://localhost:8080/",
     "height": 178
    },
    "id": "mrp7tpFU_t4p",
    "outputId": "7a1e9eb4-4f39-4794-cf43-b1461c19fe86"
   },
   "outputs": [
    {
     "data": {
      "text/plain": [
       "Temp_anomaly_labels\n",
       "0    593498\n",
       "1      6502\n",
       "Name: count, dtype: int64"
      ]
     },
     "execution_count": 29,
     "metadata": {},
     "output_type": "execute_result"
    }
   ],
   "source": [
    "new_df['Temp_anomaly_labels'].value_counts()"
   ]
  },
  {
   "cell_type": "code",
   "execution_count": 30,
   "metadata": {
    "colab": {
     "base_uri": "https://localhost:8080/",
     "height": 424
    },
    "id": "TJczVBsC_t4p",
    "outputId": "8247ce7e-b715-423e-c4ca-4d25a6ccf1e8"
   },
   "outputs": [],
   "source": [
    "clean_df = clean_df.dropna(subset=['Temp_Stationary'])\n",
    "clean_df = clean_df.dropna(subset=['RH_Stationary'])"
   ]
  },
  {
   "cell_type": "code",
   "execution_count": 31,
   "metadata": {
    "colab": {
     "base_uri": "https://localhost:8080/",
     "height": 1000
    },
    "id": "DIhHqqSf_t4p",
    "outputId": "33beea66-0cb7-4f80-f874-13441ce6ccfa"
   },
   "outputs": [
    {
     "data": {
      "image/png": "[encoded data removed]",
      "text/plain": [
       "<Figure size 1080x720 with 2 Axes>"
      ]
     },
     "metadata": {
      "needs_background": "light"
     },
     "output_type": "display_data"
    }
   ],
   "source": [
    "import matplotlib.pyplot as plt\n",
    "\n",
    "# Create a figure with two subplots (one row, two columns)\n",
    "fig, axs = plt.subplots(2, 1, figsize=(15, 10))\n",
    "\n",
    "# Define font sizes for title, labels, and ticks\n",
    "title_fontsize = 24\n",
    "label_fontsize = 18\n",
    "tick_fontsize = 16\n",
    "\n",
    "# Plot Temp on the first subplot\n",
    "axs[0].plot(clean_df['time'], clean_df['Temp_Stationary'], label='Temp_Stationary')\n",
    "axs[0].set_xlabel('Timestamp', fontsize=label_fontsize)\n",
    "axs[0].set_ylabel('Amplitude Value', fontsize=label_fontsize)\n",
    "axs[0].set_title('Stationary Temperature Timeseries', fontsize=title_fontsize)\n",
    "axs[0].legend(fontsize=label_fontsize)\n",
    "axs[0].tick_params(axis='x', labelsize=tick_fontsize, rotation=45)  # Rotate x-axis labels for better readability\n",
    "axs[0].tick_params(axis='y', labelsize=tick_fontsize)\n",
    "\n",
    "# Plot RelativeHumidity on the second subplot\n",
    "axs[1].plot(clean_df['time'], clean_df['RH_Stationary'], label='RH_Stationary')\n",
    "axs[1].set_xlabel('Timestamp', fontsize=label_fontsize)\n",
    "axs[1].set_ylabel('Amplitude Value', fontsize=label_fontsize)\n",
    "axs[1].set_title('Stationary RelativeHumidity Timeseries', fontsize=title_fontsize)\n",
    "axs[1].legend(fontsize=label_fontsize)\n",
    "axs[1].tick_params(axis='x', labelsize=tick_fontsize, rotation=45)  # Rotate x-axis labels for better readability\n",
    "axs[1].tick_params(axis='y', labelsize=tick_fontsize)\n",
    "\n",
    "# Adjust layout to prevent clipping of labels\n",
    "plt.tight_layout()\n",
    "\n",
    "# Show the plot\n",
    "plt.show()"
   ]
  },
  {
   "cell_type": "markdown",
   "metadata": {},
   "source": [
    "# TEST FOR STATIONARITY OF TEMPERATURE DATA"
   ]
  },
  {
   "cell_type": "code",
   "execution_count": 32,
   "metadata": {
    "colab": {
     "base_uri": "https://localhost:8080/"
    },
    "id": "KdImnXjB_t4p",
    "outputId": "c9bb31c5-a1c8-47d3-baff-0628492de8a8"
   },
   "outputs": [
    {
     "name": "stdout",
     "output_type": "stream",
     "text": [
      "mean1=0.274440, mean2=0.236448\n",
      "variance1=0.680129, variance2=0.619927\n"
     ]
    }
   ],
   "source": [
    "X = abs(clean_df['Temp_Stationary'].values)\n",
    "split = int(len(X) / 2)\n",
    "X1, X2 = X[0:split], X[split:]\n",
    "mean1, mean2 = X1.mean(), X2.mean()\n",
    "var1, var2 = X1.var(), X2.var()\n",
    "print('mean1=%f, mean2=%f' % (mean1, mean2))\n",
    "print('variance1=%f, variance2=%f' % (var1, var2))"
   ]
  },
  {
   "cell_type": "markdown",
   "metadata": {},
   "source": [
    "# TEST FOR STATIONARITY OF HUMIDITY DATA"
   ]
  },
  {
   "cell_type": "code",
   "execution_count": 33,
   "metadata": {
    "colab": {
     "base_uri": "https://localhost:8080/"
    },
    "id": "-DJ6-hkx_t4p",
    "outputId": "44c5b2f9-6e47-4349-baf7-5135615f8bc0"
   },
   "outputs": [
    {
     "name": "stdout",
     "output_type": "stream",
     "text": [
      "mean1=0.304983, mean2=0.159661\n",
      "variance1=0.682180, variance2=0.061617\n"
     ]
    }
   ],
   "source": [
    "X = abs(clean_df['RH_Stationary'].values)\n",
    "split = int(len(X) / 2)\n",
    "X1, X2 = X[0:split], X[split:]\n",
    "mean1, mean2 = X1.mean(), X2.mean()\n",
    "var1, var2 = X1.var(), X2.var()\n",
    "print('mean1=%f, mean2=%f' % (mean1, mean2))\n",
    "print('variance1=%f, variance2=%f' % (var1, var2))"
   ]
  },
  {
   "cell_type": "code",
   "execution_count": 34,
   "metadata": {
    "colab": {
     "base_uri": "https://localhost:8080/",
     "height": 356
    },
    "id": "_ETWSvCq_t4s",
    "outputId": "247429c7-fe68-4777-d511-1af3a2dfaaee"
   },
   "outputs": [],
   "source": [
    "import pandas as pd\n",
    "from statsmodels.tsa.stattools import adfuller\n",
    "\n",
    "#clean_df = clean_df.dropna(subset=['Temp_Stationary'])\n",
    "#clean_df = clean_df.dropna(subset=['RH_Stationary'])\n",
    "\n",
    "#adf_result1 = adfuller(clean_df['Temp_Stationary'])\n",
    "#adf_result2 = adfuller(clean_df['RH_Stationary'])\n",
    "\n",
    "\n",
    "# Print the ADF test results\n",
    "#print(f\"ADF Statistic: {adf_result1[0]}\")\n",
    "#print(f\"p-value: {adf_result1[1]}\")\n",
    "\n",
    "#print(f\"p-value: {adf_result2[1]}\")"
   ]
  },
  {
   "cell_type": "markdown",
   "metadata": {},
   "source": [
    "# SUBTRACTION TECHNIQUE TO REDUCE TIME SERIES INTO ONE\n",
    "# SUBTRACTION OF HUMIDITY FROM TEMPERATURE"
   ]
  },
  {
   "cell_type": "code",
   "execution_count": 35,
   "metadata": {
    "colab": {
     "base_uri": "https://localhost:8080/",
     "height": 424
    },
    "id": "EK06xLUd_t4t",
    "outputId": "1e068205-986b-4b20-e521-ba9d0a570a3a"
   },
   "outputs": [],
   "source": [
    "clean_df['Temp_Stationary'] = abs(clean_df['Temp_Stationary'])\n",
    "clean_df['RH_Stationary'] = abs(clean_df['RH_Stationary'])\n",
    "\n",
    "clean_df['Temp_RH_stationary'] = abs(clean_df['Temp_Stationary'] - clean_df['RH_Stationary'])\n",
    "\n",
    "clean_df['var_Temp_anomaly'] = clean_df['Temp_Stationary'].var(ddof=0)\n",
    "clean_df['var_RH_anomaly'] = clean_df['RH_Stationary'].var(ddof=0)"
   ]
  },
  {
   "cell_type": "code",
   "execution_count": 36,
   "metadata": {
    "colab": {
     "base_uri": "https://localhost:8080/",
     "height": 424
    },
    "id": "JK5bbBav_t4t",
    "outputId": "ce957cff-1921-49c8-9fb7-b145cc07b2b8"
   },
   "outputs": [
    {
     "data": {
      "text/html": [
       "<div>\n",
       "<style scoped>\n",
       "    .dataframe tbody tr th:only-of-type {\n",
       "        vertical-align: middle;\n",
       "    }\n",
       "\n",
       "    .dataframe tbody tr th {\n",
       "        vertical-align: top;\n",
       "    }\n",
       "\n",
       "    .dataframe thead th {\n",
       "        text-align: right;\n",
       "    }\n",
       "</style>\n",
       "<table border=\"1\" class=\"dataframe\">\n",
       "  <thead>\n",
       "    <tr style=\"text-align: right;\">\n",
       "      <th></th>\n",
       "      <th>time</th>\n",
       "      <th>Temperature</th>\n",
       "      <th>RelativeHumidity</th>\n",
       "      <th>Temp_anomaly</th>\n",
       "      <th>anomaly_time</th>\n",
       "      <th>RH_anomaly</th>\n",
       "      <th>Temp_anomaly_labels</th>\n",
       "      <th>RH_anomaly_labels</th>\n",
       "      <th>Temp_Stationary</th>\n",
       "      <th>RH_Stationary</th>\n",
       "      <th>Temp_RH_stationary</th>\n",
       "      <th>var_Temp_anomaly</th>\n",
       "      <th>var_RH_anomaly</th>\n",
       "    </tr>\n",
       "  </thead>\n",
       "  <tbody>\n",
       "    <tr>\n",
       "      <th>1150</th>\n",
       "      <td>2024-02-16 19:20:21</td>\n",
       "      <td>22.62</td>\n",
       "      <td>29.33</td>\n",
       "      <td>22.62</td>\n",
       "      <td>2024-02-16 19:20:21</td>\n",
       "      <td>29.33</td>\n",
       "      <td>0</td>\n",
       "      <td>0</td>\n",
       "      <td>0.031755</td>\n",
       "      <td>0.440788</td>\n",
       "      <td>0.409033</td>\n",
       "      <td>0.650389</td>\n",
       "      <td>0.377178</td>\n",
       "    </tr>\n",
       "    <tr>\n",
       "      <th>1151</th>\n",
       "      <td>2024-02-16 19:20:26</td>\n",
       "      <td>22.56</td>\n",
       "      <td>29.34</td>\n",
       "      <td>22.56</td>\n",
       "      <td>2024-02-16 19:20:26</td>\n",
       "      <td>29.34</td>\n",
       "      <td>0</td>\n",
       "      <td>0</td>\n",
       "      <td>0.086534</td>\n",
       "      <td>0.423971</td>\n",
       "      <td>0.337437</td>\n",
       "      <td>0.650389</td>\n",
       "      <td>0.377178</td>\n",
       "    </tr>\n",
       "    <tr>\n",
       "      <th>1152</th>\n",
       "      <td>2024-02-16 19:20:31</td>\n",
       "      <td>22.62</td>\n",
       "      <td>29.34</td>\n",
       "      <td>22.62</td>\n",
       "      <td>2024-02-16 19:20:31</td>\n",
       "      <td>29.34</td>\n",
       "      <td>0</td>\n",
       "      <td>0</td>\n",
       "      <td>0.031391</td>\n",
       "      <td>0.428796</td>\n",
       "      <td>0.397405</td>\n",
       "      <td>0.650389</td>\n",
       "      <td>0.377178</td>\n",
       "    </tr>\n",
       "    <tr>\n",
       "      <th>1153</th>\n",
       "      <td>2024-02-16 19:20:36</td>\n",
       "      <td>22.56</td>\n",
       "      <td>29.35</td>\n",
       "      <td>22.56</td>\n",
       "      <td>2024-02-16 19:20:36</td>\n",
       "      <td>29.35</td>\n",
       "      <td>0</td>\n",
       "      <td>0</td>\n",
       "      <td>0.095555</td>\n",
       "      <td>0.411125</td>\n",
       "      <td>0.315569</td>\n",
       "      <td>0.650389</td>\n",
       "      <td>0.377178</td>\n",
       "    </tr>\n",
       "    <tr>\n",
       "      <th>1154</th>\n",
       "      <td>2024-02-16 19:20:41</td>\n",
       "      <td>22.62</td>\n",
       "      <td>29.35</td>\n",
       "      <td>22.62</td>\n",
       "      <td>2024-02-16 19:20:41</td>\n",
       "      <td>29.35</td>\n",
       "      <td>0</td>\n",
       "      <td>0</td>\n",
       "      <td>0.033130</td>\n",
       "      <td>0.404073</td>\n",
       "      <td>0.370944</td>\n",
       "      <td>0.650389</td>\n",
       "      <td>0.377178</td>\n",
       "    </tr>\n",
       "    <tr>\n",
       "      <th>...</th>\n",
       "      <td>...</td>\n",
       "      <td>...</td>\n",
       "      <td>...</td>\n",
       "      <td>...</td>\n",
       "      <td>...</td>\n",
       "      <td>...</td>\n",
       "      <td>...</td>\n",
       "      <td>...</td>\n",
       "      <td>...</td>\n",
       "      <td>...</td>\n",
       "      <td>...</td>\n",
       "      <td>...</td>\n",
       "      <td>...</td>\n",
       "    </tr>\n",
       "    <tr>\n",
       "      <th>598845</th>\n",
       "      <td>2024-03-22 09:49:52</td>\n",
       "      <td>22.38</td>\n",
       "      <td>26.14</td>\n",
       "      <td>22.38</td>\n",
       "      <td>2024-03-22 09:49:52</td>\n",
       "      <td>26.14</td>\n",
       "      <td>0</td>\n",
       "      <td>0</td>\n",
       "      <td>0.174017</td>\n",
       "      <td>0.510440</td>\n",
       "      <td>0.336423</td>\n",
       "      <td>0.650389</td>\n",
       "      <td>0.377178</td>\n",
       "    </tr>\n",
       "    <tr>\n",
       "      <th>598846</th>\n",
       "      <td>2024-03-22 09:49:57</td>\n",
       "      <td>22.38</td>\n",
       "      <td>26.14</td>\n",
       "      <td>22.38</td>\n",
       "      <td>2024-03-22 09:49:57</td>\n",
       "      <td>26.14</td>\n",
       "      <td>0</td>\n",
       "      <td>0</td>\n",
       "      <td>0.189095</td>\n",
       "      <td>0.507042</td>\n",
       "      <td>0.317946</td>\n",
       "      <td>0.650389</td>\n",
       "      <td>0.377178</td>\n",
       "    </tr>\n",
       "    <tr>\n",
       "      <th>598847</th>\n",
       "      <td>2024-03-22 09:50:02</td>\n",
       "      <td>22.38</td>\n",
       "      <td>26.12</td>\n",
       "      <td>22.38</td>\n",
       "      <td>2024-03-22 09:50:02</td>\n",
       "      <td>26.12</td>\n",
       "      <td>0</td>\n",
       "      <td>0</td>\n",
       "      <td>0.172918</td>\n",
       "      <td>0.524795</td>\n",
       "      <td>0.351878</td>\n",
       "      <td>0.650389</td>\n",
       "      <td>0.377178</td>\n",
       "    </tr>\n",
       "    <tr>\n",
       "      <th>598848</th>\n",
       "      <td>2024-03-22 09:50:07</td>\n",
       "      <td>22.38</td>\n",
       "      <td>26.12</td>\n",
       "      <td>22.38</td>\n",
       "      <td>2024-03-22 09:50:07</td>\n",
       "      <td>26.12</td>\n",
       "      <td>0</td>\n",
       "      <td>0</td>\n",
       "      <td>0.174057</td>\n",
       "      <td>0.522435</td>\n",
       "      <td>0.348379</td>\n",
       "      <td>0.650389</td>\n",
       "      <td>0.377178</td>\n",
       "    </tr>\n",
       "    <tr>\n",
       "      <th>598849</th>\n",
       "      <td>2024-03-22 09:50:12</td>\n",
       "      <td>22.38</td>\n",
       "      <td>26.10</td>\n",
       "      <td>22.38</td>\n",
       "      <td>2024-03-22 09:50:12</td>\n",
       "      <td>26.10</td>\n",
       "      <td>0</td>\n",
       "      <td>0</td>\n",
       "      <td>0.170196</td>\n",
       "      <td>0.538657</td>\n",
       "      <td>0.368461</td>\n",
       "      <td>0.650389</td>\n",
       "      <td>0.377178</td>\n",
       "    </tr>\n",
       "  </tbody>\n",
       "</table>\n",
       "<p>597700 rows × 13 columns</p>\n",
       "</div>"
      ],
      "text/plain": [
       "                      time  Temperature  RelativeHumidity  Temp_anomaly  \\\n",
       "1150   2024-02-16 19:20:21        22.62             29.33         22.62   \n",
       "1151   2024-02-16 19:20:26        22.56             29.34         22.56   \n",
       "1152   2024-02-16 19:20:31        22.62             29.34         22.62   \n",
       "1153   2024-02-16 19:20:36        22.56             29.35         22.56   \n",
       "1154   2024-02-16 19:20:41        22.62             29.35         22.62   \n",
       "...                    ...          ...               ...           ...   \n",
       "598845 2024-03-22 09:49:52        22.38             26.14         22.38   \n",
       "598846 2024-03-22 09:49:57        22.38             26.14         22.38   \n",
       "598847 2024-03-22 09:50:02        22.38             26.12         22.38   \n",
       "598848 2024-03-22 09:50:07        22.38             26.12         22.38   \n",
       "598849 2024-03-22 09:50:12        22.38             26.10         22.38   \n",
       "\n",
       "              anomaly_time  RH_anomaly  Temp_anomaly_labels  \\\n",
       "1150   2024-02-16 19:20:21       29.33                    0   \n",
       "1151   2024-02-16 19:20:26       29.34                    0   \n",
       "1152   2024-02-16 19:20:31       29.34                    0   \n",
       "1153   2024-02-16 19:20:36       29.35                    0   \n",
       "1154   2024-02-16 19:20:41       29.35                    0   \n",
       "...                    ...         ...                  ...   \n",
       "598845 2024-03-22 09:49:52       26.14                    0   \n",
       "598846 2024-03-22 09:49:57       26.14                    0   \n",
       "598847 2024-03-22 09:50:02       26.12                    0   \n",
       "598848 2024-03-22 09:50:07       26.12                    0   \n",
       "598849 2024-03-22 09:50:12       26.10                    0   \n",
       "\n",
       "        RH_anomaly_labels  Temp_Stationary  RH_Stationary  Temp_RH_stationary  \\\n",
       "1150                    0         0.031755       0.440788            0.409033   \n",
       "1151                    0         0.086534       0.423971            0.337437   \n",
       "1152                    0         0.031391       0.428796            0.397405   \n",
       "1153                    0         0.095555       0.411125            0.315569   \n",
       "1154                    0         0.033130       0.404073            0.370944   \n",
       "...                   ...              ...            ...                 ...   \n",
       "598845                  0         0.174017       0.510440            0.336423   \n",
       "598846                  0         0.189095       0.507042            0.317946   \n",
       "598847                  0         0.172918       0.524795            0.351878   \n",
       "598848                  0         0.174057       0.522435            0.348379   \n",
       "598849                  0         0.170196       0.538657            0.368461   \n",
       "\n",
       "        var_Temp_anomaly  var_RH_anomaly  \n",
       "1150            0.650389        0.377178  \n",
       "1151            0.650389        0.377178  \n",
       "1152            0.650389        0.377178  \n",
       "1153            0.650389        0.377178  \n",
       "1154            0.650389        0.377178  \n",
       "...                  ...             ...  \n",
       "598845          0.650389        0.377178  \n",
       "598846          0.650389        0.377178  \n",
       "598847          0.650389        0.377178  \n",
       "598848          0.650389        0.377178  \n",
       "598849          0.650389        0.377178  \n",
       "\n",
       "[597700 rows x 13 columns]"
      ]
     },
     "execution_count": 36,
     "metadata": {},
     "output_type": "execute_result"
    }
   ],
   "source": [
    "clean_df"
   ]
  },
  {
   "cell_type": "code",
   "execution_count": 37,
   "metadata": {
    "colab": {
     "base_uri": "https://localhost:8080/",
     "height": 791
    },
    "id": "_phdx5RrZaIU",
    "outputId": "479a25a5-ced4-441c-a409-870d6ea84fac"
   },
   "outputs": [],
   "source": [
    "clean_df['Temp_RH_Anomaly_Labels'] = clean_df.apply(lambda row: 0 if (row['Temp_anomaly_labels'] == 0 and row['RH_anomaly_labels'] == 0) else 1, axis=1)"
   ]
  },
  {
   "cell_type": "code",
   "execution_count": 38,
   "metadata": {
    "colab": {
     "base_uri": "https://localhost:8080/",
     "height": 570
    },
    "id": "7zLh6WomyzMe",
    "outputId": "5971c5bd-f8dd-407e-8916-48de34c53ea3"
   },
   "outputs": [
    {
     "data": {
      "image/png": "[encoded data removed]",
      "text/plain": [
       "<Figure size 576x432 with 1 Axes>"
      ]
     },
     "metadata": {
      "needs_background": "light"
     },
     "output_type": "display_data"
    }
   ],
   "source": [
    "fig = plt.figure(figsize=(8, 6))\n",
    "sns.scatterplot(data=clean_df, x='Temp_Stationary', y='RH_Stationary')\n",
    "plt.title('Temp Stationary vs RH Stationary', weight='bold', fontsize=15)\n",
    "plt.ylabel('Temp Anomaly', weight='bold', fontsize=12)\n",
    "plt.xlabel('Raw Temp', weight='bold', fontsize=12)\n",
    "plt.show()"
   ]
  },
  {
   "cell_type": "code",
   "execution_count": null,
   "metadata": {
    "colab": {
     "base_uri": "https://localhost:8080/",
     "height": 455
    },
    "id": "r3elTWUHGFtS",
    "outputId": "37fe01be-1add-4447-f2e5-fb506706b276"
   },
   "outputs": [],
   "source": []
  },
  {
   "cell_type": "code",
   "execution_count": null,
   "metadata": {
    "id": "4U6QUeVITll9"
   },
   "outputs": [],
   "source": []
  },
  {
   "cell_type": "code",
   "execution_count": 39,
   "metadata": {
    "id": "XrJ_30sEiRUl"
   },
   "outputs": [],
   "source": [
    "import numpy as np\n",
    "import tensorflow as tf\n",
    "from tensorflow import keras\n",
    "import pandas as pd\n",
    "import seaborn as sns\n",
    "from pylab import rcParams\n",
    "import matplotlib.pyplot as plt\n",
    "from matplotlib import rc\n",
    "from pandas.plotting import register_matplotlib_converters\n",
    "\n",
    "%matplotlib inline\n",
    "%config InlineBackend.figure_format='retina'\n",
    "\n",
    "register_matplotlib_converters()\n",
    "sns.set(style='whitegrid', palette='muted', font_scale=1.5)\n",
    "\n",
    "rcParams['figure.figsize'] = 22, 10\n",
    "\n",
    "RANDOM_SEED = 42\n",
    "\n",
    "np.random.seed(RANDOM_SEED)\n",
    "tf.random.set_seed(RANDOM_SEED)"
   ]
  },
  {
   "cell_type": "code",
   "execution_count": 40,
   "metadata": {},
   "outputs": [],
   "source": [
    "import numpy as np"
   ]
  },
  {
   "cell_type": "markdown",
   "metadata": {},
   "source": [
    "# MODEL BUILDING, EVALUATION AND TESTING WITH ISOLATION FOREST"
   ]
  },
  {
   "cell_type": "code",
   "execution_count": 41,
   "metadata": {
    "id": "PTxUmpRj7tE4"
   },
   "outputs": [],
   "source": [
    "import pandas as pd\n",
    "from sklearn.preprocessing import StandardScaler\n",
    "#from sklearn.svm import OneClassSVM\n",
    "from sklearn.metrics import accuracy_score, precision_score, recall_score, f1_score\n",
    "\n",
    "\n",
    "residual = clean_df[['time', 'Temp_RH_Anomaly_Labels', 'Temp_RH_stationary']]"
   ]
  },
  {
   "cell_type": "code",
   "execution_count": 42,
   "metadata": {
    "colab": {
     "base_uri": "https://localhost:8080/",
     "height": 424
    },
    "id": "WfSZYA6Yb0Uw",
    "outputId": "8e06bdb3-7abe-4709-fd41-4443bba96622"
   },
   "outputs": [
    {
     "data": {
      "text/html": [
       "<div>\n",
       "<style scoped>\n",
       "    .dataframe tbody tr th:only-of-type {\n",
       "        vertical-align: middle;\n",
       "    }\n",
       "\n",
       "    .dataframe tbody tr th {\n",
       "        vertical-align: top;\n",
       "    }\n",
       "\n",
       "    .dataframe thead th {\n",
       "        text-align: right;\n",
       "    }\n",
       "</style>\n",
       "<table border=\"1\" class=\"dataframe\">\n",
       "  <thead>\n",
       "    <tr style=\"text-align: right;\">\n",
       "      <th></th>\n",
       "      <th>time</th>\n",
       "      <th>Temp_RH_Anomaly_Labels</th>\n",
       "      <th>Temp_RH_stationary</th>\n",
       "    </tr>\n",
       "  </thead>\n",
       "  <tbody>\n",
       "    <tr>\n",
       "      <th>1150</th>\n",
       "      <td>2024-02-16 19:20:21</td>\n",
       "      <td>0</td>\n",
       "      <td>0.409033</td>\n",
       "    </tr>\n",
       "    <tr>\n",
       "      <th>1151</th>\n",
       "      <td>2024-02-16 19:20:26</td>\n",
       "      <td>0</td>\n",
       "      <td>0.337437</td>\n",
       "    </tr>\n",
       "    <tr>\n",
       "      <th>1152</th>\n",
       "      <td>2024-02-16 19:20:31</td>\n",
       "      <td>0</td>\n",
       "      <td>0.397405</td>\n",
       "    </tr>\n",
       "    <tr>\n",
       "      <th>1153</th>\n",
       "      <td>2024-02-16 19:20:36</td>\n",
       "      <td>0</td>\n",
       "      <td>0.315569</td>\n",
       "    </tr>\n",
       "    <tr>\n",
       "      <th>1154</th>\n",
       "      <td>2024-02-16 19:20:41</td>\n",
       "      <td>0</td>\n",
       "      <td>0.370944</td>\n",
       "    </tr>\n",
       "    <tr>\n",
       "      <th>...</th>\n",
       "      <td>...</td>\n",
       "      <td>...</td>\n",
       "      <td>...</td>\n",
       "    </tr>\n",
       "    <tr>\n",
       "      <th>598845</th>\n",
       "      <td>2024-03-22 09:49:52</td>\n",
       "      <td>0</td>\n",
       "      <td>0.336423</td>\n",
       "    </tr>\n",
       "    <tr>\n",
       "      <th>598846</th>\n",
       "      <td>2024-03-22 09:49:57</td>\n",
       "      <td>0</td>\n",
       "      <td>0.317946</td>\n",
       "    </tr>\n",
       "    <tr>\n",
       "      <th>598847</th>\n",
       "      <td>2024-03-22 09:50:02</td>\n",
       "      <td>0</td>\n",
       "      <td>0.351878</td>\n",
       "    </tr>\n",
       "    <tr>\n",
       "      <th>598848</th>\n",
       "      <td>2024-03-22 09:50:07</td>\n",
       "      <td>0</td>\n",
       "      <td>0.348379</td>\n",
       "    </tr>\n",
       "    <tr>\n",
       "      <th>598849</th>\n",
       "      <td>2024-03-22 09:50:12</td>\n",
       "      <td>0</td>\n",
       "      <td>0.368461</td>\n",
       "    </tr>\n",
       "  </tbody>\n",
       "</table>\n",
       "<p>597700 rows × 3 columns</p>\n",
       "</div>"
      ],
      "text/plain": [
       "                      time  Temp_RH_Anomaly_Labels  Temp_RH_stationary\n",
       "1150   2024-02-16 19:20:21                       0            0.409033\n",
       "1151   2024-02-16 19:20:26                       0            0.337437\n",
       "1152   2024-02-16 19:20:31                       0            0.397405\n",
       "1153   2024-02-16 19:20:36                       0            0.315569\n",
       "1154   2024-02-16 19:20:41                       0            0.370944\n",
       "...                    ...                     ...                 ...\n",
       "598845 2024-03-22 09:49:52                       0            0.336423\n",
       "598846 2024-03-22 09:49:57                       0            0.317946\n",
       "598847 2024-03-22 09:50:02                       0            0.351878\n",
       "598848 2024-03-22 09:50:07                       0            0.348379\n",
       "598849 2024-03-22 09:50:12                       0            0.368461\n",
       "\n",
       "[597700 rows x 3 columns]"
      ]
     },
     "execution_count": 42,
     "metadata": {},
     "output_type": "execute_result"
    }
   ],
   "source": [
    "residual"
   ]
  },
  {
   "cell_type": "markdown",
   "metadata": {},
   "source": [
    "# NORMALIZATION"
   ]
  },
  {
   "cell_type": "code",
   "execution_count": 43,
   "metadata": {
    "colab": {
     "base_uri": "https://localhost:8080/"
    },
    "id": "Qi57Z3HTE2zD",
    "outputId": "3c309db6-bcc8-4e60-ee08-b699d0e3c304"
   },
   "outputs": [
    {
     "name": "stderr",
     "output_type": "stream",
     "text": [
      "<ipython-input-43-2696e3b1a08c>:5: SettingWithCopyWarning: \n",
      "A value is trying to be set on a copy of a slice from a DataFrame.\n",
      "Try using .loc[row_indexer,col_indexer] = value instead\n",
      "\n",
      "See the caveats in the documentation: https://pandas.pydata.org/pandas-docs/stable/user_guide/indexing.html#returning-a-view-versus-a-copy\n",
      "  residual['Temp_RH_scaled'] = residual['Temp_RH_stationary'].apply(lambda x: (x - val_min) / (val_max - val_min))\n"
     ]
    }
   ],
   "source": [
    "val_min = residual['Temp_RH_stationary'].min()\n",
    "val_max = residual['Temp_RH_stationary'].max()\n",
    "\n",
    "# Feature scaling\n",
    "residual['Temp_RH_scaled'] = residual['Temp_RH_stationary'].apply(lambda x: (x - val_min) / (val_max - val_min))"
   ]
  },
  {
   "cell_type": "markdown",
   "metadata": {},
   "source": [
    "# TRAIN TEST SPLIT "
   ]
  },
  {
   "cell_type": "code",
   "execution_count": 44,
   "metadata": {},
   "outputs": [],
   "source": [
    "residual = residual.sample(frac=1, random_state=32).reset_index(drop=True)\n",
    "\n",
    "train_size = int(len(residual) * 0.7)\n",
    "val_size = len(residual) - train_size  # The remaining 30% will be validation\n",
    "\n",
    "# Split the dataframe into train and validation sets\n",
    "train = residual.iloc[:train_size]\n",
    "val = residual.iloc[train_size:]"
   ]
  },
  {
   "cell_type": "code",
   "execution_count": 45,
   "metadata": {},
   "outputs": [
    {
     "data": {
      "text/html": [
       "<div>\n",
       "<style scoped>\n",
       "    .dataframe tbody tr th:only-of-type {\n",
       "        vertical-align: middle;\n",
       "    }\n",
       "\n",
       "    .dataframe tbody tr th {\n",
       "        vertical-align: top;\n",
       "    }\n",
       "\n",
       "    .dataframe thead th {\n",
       "        text-align: right;\n",
       "    }\n",
       "</style>\n",
       "<table border=\"1\" class=\"dataframe\">\n",
       "  <thead>\n",
       "    <tr style=\"text-align: right;\">\n",
       "      <th></th>\n",
       "      <th>time</th>\n",
       "      <th>Temp_RH_Anomaly_Labels</th>\n",
       "      <th>Temp_RH_stationary</th>\n",
       "      <th>Temp_RH_scaled</th>\n",
       "    </tr>\n",
       "  </thead>\n",
       "  <tbody>\n",
       "    <tr>\n",
       "      <th>0</th>\n",
       "      <td>2024-03-08 12:45:06</td>\n",
       "      <td>0</td>\n",
       "      <td>0.364068</td>\n",
       "      <td>0.030106</td>\n",
       "    </tr>\n",
       "    <tr>\n",
       "      <th>1</th>\n",
       "      <td>2024-03-01 05:37:33</td>\n",
       "      <td>0</td>\n",
       "      <td>0.084799</td>\n",
       "      <td>0.007012</td>\n",
       "    </tr>\n",
       "    <tr>\n",
       "      <th>2</th>\n",
       "      <td>2024-03-09 02:18:02</td>\n",
       "      <td>0</td>\n",
       "      <td>0.402705</td>\n",
       "      <td>0.033301</td>\n",
       "    </tr>\n",
       "    <tr>\n",
       "      <th>3</th>\n",
       "      <td>2024-02-21 15:09:27</td>\n",
       "      <td>0</td>\n",
       "      <td>0.009447</td>\n",
       "      <td>0.000781</td>\n",
       "    </tr>\n",
       "    <tr>\n",
       "      <th>4</th>\n",
       "      <td>2024-03-10 22:44:46</td>\n",
       "      <td>0</td>\n",
       "      <td>0.044034</td>\n",
       "      <td>0.003641</td>\n",
       "    </tr>\n",
       "    <tr>\n",
       "      <th>...</th>\n",
       "      <td>...</td>\n",
       "      <td>...</td>\n",
       "      <td>...</td>\n",
       "      <td>...</td>\n",
       "    </tr>\n",
       "    <tr>\n",
       "      <th>418385</th>\n",
       "      <td>2024-02-27 12:20:40</td>\n",
       "      <td>0</td>\n",
       "      <td>0.352735</td>\n",
       "      <td>0.029169</td>\n",
       "    </tr>\n",
       "    <tr>\n",
       "      <th>418386</th>\n",
       "      <td>2024-03-19 16:42:43</td>\n",
       "      <td>0</td>\n",
       "      <td>0.006298</td>\n",
       "      <td>0.000521</td>\n",
       "    </tr>\n",
       "    <tr>\n",
       "      <th>418387</th>\n",
       "      <td>2024-03-16 23:43:33</td>\n",
       "      <td>0</td>\n",
       "      <td>0.088822</td>\n",
       "      <td>0.007345</td>\n",
       "    </tr>\n",
       "    <tr>\n",
       "      <th>418388</th>\n",
       "      <td>2024-03-20 00:48:25</td>\n",
       "      <td>0</td>\n",
       "      <td>0.003757</td>\n",
       "      <td>0.000311</td>\n",
       "    </tr>\n",
       "    <tr>\n",
       "      <th>418389</th>\n",
       "      <td>2024-03-11 20:18:33</td>\n",
       "      <td>0</td>\n",
       "      <td>0.153814</td>\n",
       "      <td>0.012719</td>\n",
       "    </tr>\n",
       "  </tbody>\n",
       "</table>\n",
       "<p>418390 rows × 4 columns</p>\n",
       "</div>"
      ],
      "text/plain": [
       "                      time  Temp_RH_Anomaly_Labels  Temp_RH_stationary  \\\n",
       "0      2024-03-08 12:45:06                       0            0.364068   \n",
       "1      2024-03-01 05:37:33                       0            0.084799   \n",
       "2      2024-03-09 02:18:02                       0            0.402705   \n",
       "3      2024-02-21 15:09:27                       0            0.009447   \n",
       "4      2024-03-10 22:44:46                       0            0.044034   \n",
       "...                    ...                     ...                 ...   \n",
       "418385 2024-02-27 12:20:40                       0            0.352735   \n",
       "418386 2024-03-19 16:42:43                       0            0.006298   \n",
       "418387 2024-03-16 23:43:33                       0            0.088822   \n",
       "418388 2024-03-20 00:48:25                       0            0.003757   \n",
       "418389 2024-03-11 20:18:33                       0            0.153814   \n",
       "\n",
       "        Temp_RH_scaled  \n",
       "0             0.030106  \n",
       "1             0.007012  \n",
       "2             0.033301  \n",
       "3             0.000781  \n",
       "4             0.003641  \n",
       "...                ...  \n",
       "418385        0.029169  \n",
       "418386        0.000521  \n",
       "418387        0.007345  \n",
       "418388        0.000311  \n",
       "418389        0.012719  \n",
       "\n",
       "[418390 rows x 4 columns]"
      ]
     },
     "execution_count": 45,
     "metadata": {},
     "output_type": "execute_result"
    }
   ],
   "source": [
    "train"
   ]
  },
  {
   "cell_type": "markdown",
   "metadata": {},
   "source": [
    "# MODEL FIT, TRAIN AND HYPER PARAMETER TUNING"
   ]
  },
  {
   "cell_type": "code",
   "execution_count": 46,
   "metadata": {},
   "outputs": [],
   "source": [
    "import pandas as pd\n",
    "import numpy as np\n",
    "from statsmodels.tsa.seasonal import STL\n",
    "from sklearn.ensemble import IsolationForest\n",
    "from sklearn.model_selection import train_test_split"
   ]
  },
  {
   "cell_type": "code",
   "execution_count": 47,
   "metadata": {},
   "outputs": [
    {
     "data": {
      "text/html": [
       "<style>#sk-container-id-1 {color: black;}#sk-container-id-1 pre{padding: 0;}#sk-container-id-1 div.sk-toggleable {background-color: white;}#sk-container-id-1 label.sk-toggleable__label {cursor: pointer;display: block;width: 100%;margin-bottom: 0;padding: 0.3em;box-sizing: border-box;text-align: center;}#sk-container-id-1 label.sk-toggleable__label-arrow:before {content: \"▸\";float: left;margin-right: 0.25em;color: #696969;}#sk-container-id-1 label.sk-toggleable__label-arrow:hover:before {color: black;}#sk-container-id-1 div.sk-estimator:hover label.sk-toggleable__label-arrow:before {color: black;}#sk-container-id-1 div.sk-toggleable__content {max-height: 0;max-width: 0;overflow: hidden;text-align: left;background-color: #f0f8ff;}#sk-container-id-1 div.sk-toggleable__content pre {margin: 0.2em;color: black;border-radius: 0.25em;background-color: #f0f8ff;}#sk-container-id-1 input.sk-toggleable__control:checked~div.sk-toggleable__content {max-height: 200px;max-width: 100%;overflow: auto;}#sk-container-id-1 input.sk-toggleable__control:checked~label.sk-toggleable__label-arrow:before {content: \"▾\";}#sk-container-id-1 div.sk-estimator input.sk-toggleable__control:checked~label.sk-toggleable__label {background-color: #d4ebff;}#sk-container-id-1 div.sk-label input.sk-toggleable__control:checked~label.sk-toggleable__label {background-color: #d4ebff;}#sk-container-id-1 input.sk-hidden--visually {border: 0;clip: rect(1px 1px 1px 1px);clip: rect(1px, 1px, 1px, 1px);height: 1px;margin: -1px;overflow: hidden;padding: 0;position: absolute;width: 1px;}#sk-container-id-1 div.sk-estimator {font-family: monospace;background-color: #f0f8ff;border: 1px dotted black;border-radius: 0.25em;box-sizing: border-box;margin-bottom: 0.5em;}#sk-container-id-1 div.sk-estimator:hover {background-color: #d4ebff;}#sk-container-id-1 div.sk-parallel-item::after {content: \"\";width: 100%;border-bottom: 1px solid gray;flex-grow: 1;}#sk-container-id-1 div.sk-label:hover label.sk-toggleable__label {background-color: #d4ebff;}#sk-container-id-1 div.sk-serial::before {content: \"\";position: absolute;border-left: 1px solid gray;box-sizing: border-box;top: 0;bottom: 0;left: 50%;z-index: 0;}#sk-container-id-1 div.sk-serial {display: flex;flex-direction: column;align-items: center;background-color: white;padding-right: 0.2em;padding-left: 0.2em;position: relative;}#sk-container-id-1 div.sk-item {position: relative;z-index: 1;}#sk-container-id-1 div.sk-parallel {display: flex;align-items: stretch;justify-content: center;background-color: white;position: relative;}#sk-container-id-1 div.sk-item::before, #sk-container-id-1 div.sk-parallel-item::before {content: \"\";position: absolute;border-left: 1px solid gray;box-sizing: border-box;top: 0;bottom: 0;left: 50%;z-index: -1;}#sk-container-id-1 div.sk-parallel-item {display: flex;flex-direction: column;z-index: 1;position: relative;background-color: white;}#sk-container-id-1 div.sk-parallel-item:first-child::after {align-self: flex-end;width: 50%;}#sk-container-id-1 div.sk-parallel-item:last-child::after {align-self: flex-start;width: 50%;}#sk-container-id-1 div.sk-parallel-item:only-child::after {width: 0;}#sk-container-id-1 div.sk-dashed-wrapped {border: 1px dashed gray;margin: 0 0.4em 0.5em 0.4em;box-sizing: border-box;padding-bottom: 0.4em;background-color: white;}#sk-container-id-1 div.sk-label label {font-family: monospace;font-weight: bold;display: inline-block;line-height: 1.2em;}#sk-container-id-1 div.sk-label-container {text-align: center;}#sk-container-id-1 div.sk-container {/* jupyter's `normalize.less` sets `[hidden] { display: none; }` but bootstrap.min.css set `[hidden] { display: none !important; }` so we also need the `!important` here to be able to override the default hidden behavior on the sphinx rendered scikit-learn.org. See: https://github.com/scikit-learn/scikit-learn/issues/21755 */display: inline-block !important;position: relative;}#sk-container-id-1 div.sk-text-repr-fallback {display: none;}</style><div id=\"sk-container-id-1\" class=\"sk-top-container\"><div class=\"sk-text-repr-fallback\"><pre>IsolationForest(contamination=0.023)</pre><b>In a Jupyter environment, please rerun this cell to show the HTML representation or trust the notebook. <br />On GitHub, the HTML representation is unable to render, please try loading this page with nbviewer.org.</b></div><div class=\"sk-container\" hidden><div class=\"sk-item\"><div class=\"sk-estimator sk-toggleable\"><input class=\"sk-toggleable__control sk-hidden--visually\" id=\"sk-estimator-id-1\" type=\"checkbox\" checked><label for=\"sk-estimator-id-1\" class=\"sk-toggleable__label sk-toggleable__label-arrow\">IsolationForest</label><div class=\"sk-toggleable__content\"><pre>IsolationForest(contamination=0.023)</pre></div></div></div></div></div>"
      ],
      "text/plain": [
       "IsolationForest(contamination=0.023)"
      ]
     },
     "execution_count": 47,
     "metadata": {},
     "output_type": "execute_result"
    }
   ],
   "source": [
    "# Initialize and fit Isolation Forest on the residuals of the training set\n",
    "#train = train.reset_index(drop=True)\n",
    "iso_forest = IsolationForest(contamination= 0.023)  # Adjust contamination based on your needs\n",
    "iso_forest.fit(train['Temp_RH_scaled'].values.reshape(-1, 1))  "
   ]
  },
  {
   "cell_type": "code",
   "execution_count": 48,
   "metadata": {},
   "outputs": [],
   "source": [
    "val_reshaped = val['Temp_RH_scaled'].values.reshape(-1, 1)"
   ]
  },
  {
   "cell_type": "markdown",
   "metadata": {},
   "source": [
    "# MODEL TESTING"
   ]
  },
  {
   "cell_type": "code",
   "execution_count": 49,
   "metadata": {},
   "outputs": [
    {
     "name": "stderr",
     "output_type": "stream",
     "text": [
      "<ipython-input-49-d8688b0f9378>:7: SettingWithCopyWarning: \n",
      "A value is trying to be set on a copy of a slice from a DataFrame.\n",
      "Try using .loc[row_indexer,col_indexer] = value instead\n",
      "\n",
      "See the caveats in the documentation: https://pandas.pydata.org/pandas-docs/stable/user_guide/indexing.html#returning-a-view-versus-a-copy\n",
      "  val['anomaly_score'] = iso_forest.decision_function(val_reshaped)\n"
     ]
    },
    {
     "name": "stdout",
     "output_type": "stream",
     "text": [
      "Time taken to run the validation data: 1.0755317211151123 seconds\n"
     ]
    },
    {
     "name": "stderr",
     "output_type": "stream",
     "text": [
      "<ipython-input-49-d8688b0f9378>:8: SettingWithCopyWarning: \n",
      "A value is trying to be set on a copy of a slice from a DataFrame.\n",
      "Try using .loc[row_indexer,col_indexer] = value instead\n",
      "\n",
      "See the caveats in the documentation: https://pandas.pydata.org/pandas-docs/stable/user_guide/indexing.html#returning-a-view-versus-a-copy\n",
      "  val['anomaly'] = iso_forest.predict(val_reshaped)\n",
      "<ipython-input-49-d8688b0f9378>:9: SettingWithCopyWarning: \n",
      "A value is trying to be set on a copy of a slice from a DataFrame.\n",
      "Try using .loc[row_indexer,col_indexer] = value instead\n",
      "\n",
      "See the caveats in the documentation: https://pandas.pydata.org/pandas-docs/stable/user_guide/indexing.html#returning-a-view-versus-a-copy\n",
      "  val['anomaly'] = val['anomaly'].apply(lambda x: 1 if x == -1 else 0)  # -1 for anomaly, 1 for normal\n"
     ]
    }
   ],
   "source": [
    "import time\n",
    "\n",
    "# Start the timer\n",
    "start_time = time.time()\n",
    "\n",
    "# Your code\n",
    "val['anomaly_score'] = iso_forest.decision_function(val_reshaped)\n",
    "val['anomaly'] = iso_forest.predict(val_reshaped)\n",
    "val['anomaly'] = val['anomaly'].apply(lambda x: 1 if x == -1 else 0)  # -1 for anomaly, 1 for normal\n",
    "\n",
    "# End the timer\n",
    "end_time = time.time()\n",
    "\n",
    "# Calculate the time taken\n",
    "execution_time = end_time - start_time\n",
    "print(f\"Time taken to run the validation data: {execution_time} seconds\")"
   ]
  },
  {
   "cell_type": "markdown",
   "metadata": {},
   "source": [
    "# TESTING RESULTS   (ISOLATION FOREST)"
   ]
  },
  {
   "cell_type": "code",
   "execution_count": 77,
   "metadata": {},
   "outputs": [],
   "source": [
    "precision = precision_score(val['Temp_RH_Anomaly_Labels'], val['anomaly'], pos_label= 1)\n",
    "recall = recall_score(val['Temp_RH_Anomaly_Labels'], val['anomaly'], pos_label= 1)\n",
    "f1 = f1_score(val['Temp_RH_Anomaly_Labels'], val['anomaly'], pos_label= 1)"
   ]
  },
  {
   "cell_type": "code",
   "execution_count": 78,
   "metadata": {},
   "outputs": [
    {
     "name": "stdout",
     "output_type": "stream",
     "text": [
      "Precision: 0.7335648722401389\n",
      "Recall: 0.8842703349282297\n",
      "F1-Score: 0.8018983050847457\n"
     ]
    }
   ],
   "source": [
    "print(\"Precision:\", precision)\n",
    "print(\"Recall:\", recall)\n",
    "print(\"F1-Score:\", f1)"
   ]
  },
  {
   "cell_type": "code",
   "execution_count": 95,
   "metadata": {},
   "outputs": [
    {
     "data": {
      "image/png": "[encoded data removed]",
      "text/plain": [
       "<Figure size 576x432 with 2 Axes>"
      ]
     },
     "metadata": {
      "image/png": {
       "height": 407,
       "width": 529
      }
     },
     "output_type": "display_data"
    }
   ],
   "source": [
    "import seaborn as sns\n",
    "import matplotlib.pyplot as plt\n",
    "from sklearn.metrics import confusion_matrix\n",
    "\n",
    "# Generate confusion matrix\n",
    "cm = confusion_matrix(val['Temp_RH_Anomaly_Labels'], val['anomaly'])\n",
    "\n",
    "# Plot confusion matrix\n",
    "plt.figure(figsize=(8, 6))\n",
    "sns.heatmap(cm, annot=True, cmap='Blues', fmt='g', xticklabels=['Normal', 'Abnormal'], yticklabels=['Normal', 'Abnormal'])\n",
    "plt.xlabel('Predicted Label')\n",
    "plt.ylabel('True Label')\n",
    "plt.title('Confusion Matrix')\n",
    "plt.show()\n"
   ]
  },
  {
   "cell_type": "code",
   "execution_count": 91,
   "metadata": {},
   "outputs": [
    {
     "name": "stdout",
     "output_type": "stream",
     "text": [
      "False Positive Rate: 0.006103451803189252\n",
      "False Negative Rate: 0.11572966507177034\n"
     ]
    }
   ],
   "source": [
    "y_true = val['Temp_RH_Anomaly_Labels']  # True labels\n",
    "y_pred = val['anomaly']                 # Predicted labels\n",
    "\n",
    "# Compute confusion matrix and extract components\n",
    "tn, fp, fn, tp = confusion_matrix(y_true, y_pred).ravel()\n",
    "\n",
    "# Compute FPR and FNR\n",
    "fpr = fp / (fp + tn)  \n",
    "fnr = fn / (fn + tp) \n",
    "\n",
    "print(f\"False Positive Rate: {fpr}\")\n",
    "print(f\"False Negative Rate: {fnr}\")"
   ]
  },
  {
   "cell_type": "code",
   "execution_count": null,
   "metadata": {},
   "outputs": [],
   "source": []
  },
  {
   "cell_type": "code",
   "execution_count": null,
   "metadata": {},
   "outputs": [],
   "source": []
  },
  {
   "cell_type": "code",
   "execution_count": null,
   "metadata": {},
   "outputs": [],
   "source": []
  },
  {
   "cell_type": "code",
   "execution_count": null,
   "metadata": {},
   "outputs": [],
   "source": []
  },
  {
   "cell_type": "code",
   "execution_count": null,
   "metadata": {},
   "outputs": [],
   "source": []
  },
  {
   "cell_type": "code",
   "execution_count": null,
   "metadata": {},
   "outputs": [],
   "source": []
  },
  {
   "cell_type": "code",
   "execution_count": null,
   "metadata": {},
   "outputs": [],
   "source": []
  },
  {
   "cell_type": "code",
   "execution_count": null,
   "metadata": {},
   "outputs": [],
   "source": []
  },
  {
   "cell_type": "code",
   "execution_count": null,
   "metadata": {},
   "outputs": [],
   "source": []
  },
  {
   "cell_type": "code",
   "execution_count": null,
   "metadata": {},
   "outputs": [],
   "source": []
  },
  {
   "cell_type": "code",
   "execution_count": null,
   "metadata": {},
   "outputs": [],
   "source": []
  },
  {
   "cell_type": "code",
   "execution_count": null,
   "metadata": {},
   "outputs": [],
   "source": []
  },
  {
   "cell_type": "code",
   "execution_count": null,
   "metadata": {},
   "outputs": [],
   "source": []
  },
  {
   "cell_type": "code",
   "execution_count": null,
   "metadata": {},
   "outputs": [],
   "source": []
  },
  {
   "cell_type": "code",
   "execution_count": null,
   "metadata": {},
   "outputs": [],
   "source": []
  },
  {
   "cell_type": "code",
   "execution_count": null,
   "metadata": {},
   "outputs": [],
   "source": []
  },
  {
   "cell_type": "code",
   "execution_count": null,
   "metadata": {},
   "outputs": [],
   "source": []
  },
  {
   "cell_type": "code",
   "execution_count": null,
   "metadata": {},
   "outputs": [],
   "source": []
  },
  {
   "cell_type": "code",
   "execution_count": null,
   "metadata": {},
   "outputs": [],
   "source": []
  },
  {
   "cell_type": "code",
   "execution_count": null,
   "metadata": {},
   "outputs": [],
   "source": []
  },
  {
   "cell_type": "code",
   "execution_count": null,
   "metadata": {},
   "outputs": [],
   "source": []
  },
  {
   "cell_type": "code",
   "execution_count": null,
   "metadata": {},
   "outputs": [],
   "source": []
  },
  {
   "cell_type": "code",
   "execution_count": null,
   "metadata": {},
   "outputs": [],
   "source": []
  },
  {
   "cell_type": "code",
   "execution_count": null,
   "metadata": {},
   "outputs": [],
   "source": []
  },
  {
   "cell_type": "code",
   "execution_count": null,
   "metadata": {},
   "outputs": [],
   "source": []
  },
  {
   "cell_type": "code",
   "execution_count": null,
   "metadata": {},
   "outputs": [],
   "source": []
  },
  {
   "cell_type": "code",
   "execution_count": null,
   "metadata": {},
   "outputs": [],
   "source": []
  },
  {
   "cell_type": "code",
   "execution_count": null,
   "metadata": {},
   "outputs": [],
   "source": []
  },
  {
   "cell_type": "code",
   "execution_count": null,
   "metadata": {},
   "outputs": [],
   "source": []
  },
  {
   "cell_type": "code",
   "execution_count": null,
   "metadata": {},
   "outputs": [],
   "source": []
  },
  {
   "cell_type": "code",
   "execution_count": null,
   "metadata": {},
   "outputs": [],
   "source": [
    "\n"
   ]
  },
  {
   "cell_type": "code",
   "execution_count": null,
   "metadata": {},
   "outputs": [],
   "source": []
  },
  {
   "cell_type": "code",
   "execution_count": null,
   "metadata": {
    "id": "qtFT8ITB_t4u"
   },
   "outputs": [],
   "source": []
  },
  {
   "cell_type": "code",
   "execution_count": null,
   "metadata": {
    "colab": {
     "base_uri": "https://localhost:8080/"
    },
    "id": "Ip9IoMLi3mld",
    "outputId": "ccac6135-27fc-4308-a67a-678a8b46f540"
   },
   "outputs": [],
   "source": []
  },
  {
   "cell_type": "code",
   "execution_count": null,
   "metadata": {},
   "outputs": [],
   "source": []
  },
  {
   "cell_type": "code",
   "execution_count": null,
   "metadata": {
    "colab": {
     "base_uri": "https://localhost:8080/"
    },
    "id": "zvCbYwxx5oeM",
    "outputId": "f28b25bc-d03e-479b-dd85-551d77f118e5"
   },
   "outputs": [],
   "source": []
  },
  {
   "cell_type": "code",
   "execution_count": null,
   "metadata": {
    "colab": {
     "base_uri": "https://localhost:8080/"
    },
    "id": "jwR8BxSb5rk3",
    "outputId": "f91a36d1-7391-48f2-ca5d-e55b8b8ff83b"
   },
   "outputs": [],
   "source": []
  },
  {
   "cell_type": "code",
   "execution_count": null,
   "metadata": {},
   "outputs": [],
   "source": []
  },
  {
   "cell_type": "code",
   "execution_count": null,
   "metadata": {},
   "outputs": [],
   "source": []
  },
  {
   "cell_type": "code",
   "execution_count": null,
   "metadata": {
    "colab": {
     "base_uri": "https://localhost:8080/",
     "height": 375
    },
    "id": "1_VO8eOeDk7S",
    "outputId": "c5242522-0bec-407f-ca3c-484c05c9d24b"
   },
   "outputs": [],
   "source": []
  },
  {
   "cell_type": "code",
   "execution_count": null,
   "metadata": {},
   "outputs": [],
   "source": []
  },
  {
   "cell_type": "code",
   "execution_count": null,
   "metadata": {},
   "outputs": [],
   "source": []
  },
  {
   "cell_type": "code",
   "execution_count": null,
   "metadata": {
    "colab": {
     "base_uri": "https://localhost:8080/",
     "height": 178
    },
    "id": "StwH2mV0NHtb",
    "outputId": "ed639fd1-dc26-4052-fecb-d3c665655172"
   },
   "outputs": [],
   "source": []
  },
  {
   "cell_type": "code",
   "execution_count": null,
   "metadata": {
    "id": "ogwvJ93fLhsv"
   },
   "outputs": [],
   "source": []
  },
  {
   "cell_type": "code",
   "execution_count": null,
   "metadata": {
    "colab": {
     "base_uri": "https://localhost:8080/"
    },
    "id": "5cMDArI2HI9c",
    "outputId": "b3d350e5-f3d4-477f-f8da-b92863a38f6d"
   },
   "outputs": [],
   "source": []
  },
  {
   "cell_type": "code",
   "execution_count": null,
   "metadata": {
    "id": "pf2FwjqzHYep"
   },
   "outputs": [],
   "source": []
  },
  {
   "cell_type": "code",
   "execution_count": null,
   "metadata": {
    "id": "6ToiUqZMF_v9"
   },
   "outputs": [],
   "source": []
  },
  {
   "cell_type": "code",
   "execution_count": null,
   "metadata": {
    "colab": {
     "base_uri": "https://localhost:8080/",
     "height": 564
    },
    "id": "zUTU8p8_-3IM",
    "outputId": "1fd6dcba-6573-4246-9f71-1f0e72f49730"
   },
   "outputs": [],
   "source": []
  },
  {
   "cell_type": "code",
   "execution_count": null,
   "metadata": {
    "id": "0ZqIsycWNzes"
   },
   "outputs": [],
   "source": []
  },
  {
   "cell_type": "code",
   "execution_count": null,
   "metadata": {
    "id": "YpEtxW0pVP0N"
   },
   "outputs": [],
   "source": []
  },
  {
   "cell_type": "code",
   "execution_count": null,
   "metadata": {
    "id": "Inbso_OwF3uS"
   },
   "outputs": [],
   "source": [
    "\n"
   ]
  },
  {
   "cell_type": "code",
   "execution_count": null,
   "metadata": {
    "id": "rNpDvMdKBwHv"
   },
   "outputs": [],
   "source": []
  },
  {
   "cell_type": "code",
   "execution_count": null,
   "metadata": {
    "colab": {
     "base_uri": "https://localhost:8080/"
    },
    "id": "7zlNcDzIB4uh",
    "outputId": "71f65263-d057-46d8-eeb2-dea07c5e81a8"
   },
   "outputs": [],
   "source": []
  },
  {
   "cell_type": "code",
   "execution_count": null,
   "metadata": {
    "colab": {
     "base_uri": "https://localhost:8080/",
     "height": 564
    },
    "id": "W8cvkFwsB8GJ",
    "outputId": "41e212ab-7d0d-42cd-e7c7-03e0e4085216"
   },
   "outputs": [],
   "source": []
  },
  {
   "cell_type": "code",
   "execution_count": null,
   "metadata": {
    "colab": {
     "base_uri": "https://localhost:8080/",
     "height": 472
    },
    "id": "2VfM8o53GchC",
    "outputId": "4b460d74-6b73-4b36-aaaa-f8a6fe8baf93"
   },
   "outputs": [],
   "source": []
  },
  {
   "cell_type": "code",
   "execution_count": null,
   "metadata": {},
   "outputs": [],
   "source": []
  },
  {
   "cell_type": "code",
   "execution_count": null,
   "metadata": {},
   "outputs": [],
   "source": []
  }
 ],
 "metadata": {
  "accelerator": "GPU",
  "colab": {
   "gpuType": "T4",
   "provenance": []
  },
  "kernelspec": {
   "display_name": "O_SVM",
   "language": "python",
   "name": "o_svm"
  },
  "language_info": {
   "codemirror_mode": {
    "name": "ipython",
    "version": 3
   },
   "file_extension": ".py",
   "mimetype": "text/x-python",
   "name": "python",
   "nbconvert_exporter": "python",
   "pygments_lexer": "ipython3",
   "version": "3.8.5"
  }
 },
 "nbformat": 4,
 "nbformat_minor": 1
}
